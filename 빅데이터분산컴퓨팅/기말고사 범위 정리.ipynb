{
 "cells": [
  {
   "cell_type": "markdown",
   "metadata": {},
   "source": [
    "### 1. 시험 내용 요약\n",
    "\n",
    "1. PPT에서 12~13주차 강의자료 중 Part 1까지만 시험.  \n",
    "    - Parsing the Log Record 부분은 시험에서 제외.  \n",
    "    \n",
    "    \n",
    "2. Join > Sentiment Analysis > Rating 순으로 데이터를 처리하는 과정 시험 출제.  \n",
    "    - 평점이 낮은 제품을 분석하는 과정  \n",
    "        + EXPLODE 사용법  (Hive)\n",
    "        + NGRAMS 사용법 (Hive)\n",
    "        + SENTENCES 사용법 (Hive)\n",
    "        + Hive query 작성법\n",
    "        \n",
    "        \n",
    "3. Spark 관련 내용\n",
    "    - .gloom() 사용법\n",
    "    - .collect() 사용법\n",
    "    - .getNumPartitions() 사용법\n",
    "    - .paralellize() 사용법\n",
    "    - .map() vs. .flatmap() 차이점 및 각각의 사용법\n",
    "    - .filter() 사용법\n",
    "    - .groupByKey() 사용법 및 데이터 처리 방식, 결과 예측\n",
    "    - .reduceByKey() 사용법 및 데이터 처리 방식, 결과 예측\n",
    "    - Word Count 과정\n",
    "        + groupByKey를 사용한 경우\n",
    "        + reduceByKey를 사용한 경우\n",
    "    - 정규표현식"
   ]
  },
  {
   "cell_type": "markdown",
   "metadata": {},
   "source": [
    "------\n",
    "\n",
    "\n",
    "## 2. Hive를 이용한 구문 분석\n",
    "\n",
    "#### Step 1. Rating을 이용해 평점이 낮은 제품을 선별\n",
    "\n",
    "- Table 생성 및 데이터 로드\n",
    "- 조건에 맞는 제품을 평점이 낮은 순으로 정렬\n",
    "\n",
    "\n",
    "#### Step 2. NGRAMS를 이용해 평점이 낮은 제품의 상품평을 분석\n",
    "\n",
    "- 문장을 단어 단위로 해체 (SENTENCES)\n",
    "- 단어의 등장 빈도를 분석 (NGRAMS)\n",
    "- Array(List)를 Records로 변환 (EXPLODE)\n",
    "- 조건문과 LIKE를 이용한 상품평 추가 분석"
   ]
  },
  {
   "cell_type": "code",
   "execution_count": null,
   "metadata": {},
   "outputs": [],
   "source": []
  },
  {
   "cell_type": "markdown",
   "metadata": {},
   "source": [
    "------\n",
    "\n",
    "\n",
    "## 3. PySpark\n",
    "\n",
    "#### 1. SparkContext 시작"
   ]
  },
  {
   "cell_type": "code",
   "execution_count": 1,
   "metadata": {},
   "outputs": [],
   "source": [
    "from pyspark import SparkConf as cf\n",
    "from pyspark import SparkContext as ct"
   ]
  },
  {
   "cell_type": "markdown",
   "metadata": {},
   "source": [
    "#### 사용자 정의 SparkContext\n",
    "\"제대로 작동 안 하는 듯. 사용하지 말것.\"\n",
    "\n",
    "\n",
    "따로 시작하지 않아도 sc라는 이름으로 할당되어 있음."
   ]
  },
  {
   "cell_type": "code",
   "execution_count": 7,
   "metadata": {},
   "outputs": [],
   "source": [
    "usr_conf = (cf().setMaster(\"local\").setAppName(\"Plentir\").set(\"spark.executor.memory\", \"4g\"))\n",
    "\n",
    "# sc = cf(conf=usr_conf)"
   ]
  },
  {
   "cell_type": "code",
   "execution_count": 2,
   "metadata": {},
   "outputs": [
    {
     "data": {
      "text/plain": [
       "pyspark.context.SparkContext"
      ]
     },
     "execution_count": 2,
     "metadata": {},
     "output_type": "execute_result"
    }
   ],
   "source": [
    "type(sc)"
   ]
  },
  {
   "cell_type": "code",
   "execution_count": 5,
   "metadata": {
    "collapsed": true,
    "jupyter": {
     "outputs_hidden": true
    }
   },
   "outputs": [
    {
     "data": {
      "text/plain": [
       "{'_callsite': CallSite(function='<module>', file='C:\\\\Users\\\\plent\\\\AppData\\\\Local\\\\Continuum\\\\miniconda3\\\\lib\\\\site-packages\\\\IPython\\\\utils\\\\py3compat.py', linenum=188),\n",
       " 'environment': {'PYTHONHASHSEED': '0'},\n",
       " '_conf': <pyspark.conf.SparkConf at 0x1d3c8768ec8>,\n",
       " '_batchSize': 0,\n",
       " '_unbatched_serializer': PickleSerializer(),\n",
       " 'serializer': AutoBatchedSerializer(PickleSerializer()),\n",
       " 'master': 'local[*]',\n",
       " 'appName': 'PySparkShell',\n",
       " 'sparkHome': None,\n",
       " '_jsc': JavaObject id=o14,\n",
       " '_accumulatorServer': <pyspark.accumulators.AccumulatorServer at 0x1d3c8768bc8>,\n",
       " '_javaAccumulator': JavaObject id=o17,\n",
       " '_encryption_enabled': False,\n",
       " 'pythonExec': 'python',\n",
       " 'pythonVer': '3.7',\n",
       " '_pickled_broadcast_vars': <pyspark.broadcast.BroadcastPickleRegistry at 0x1d3c8661468>,\n",
       " '_python_includes': [],\n",
       " '_temp_dir': 'C:\\\\Users\\\\plent\\\\AppData\\\\Local\\\\Temp\\\\spark-7ad38b94-d81e-4da1-a437-856d96b99764\\\\pyspark-8e529db6-4fa4-4f62-96fa-dfe6539da5bc',\n",
       " 'profiler_collector': None}"
      ]
     },
     "execution_count": 5,
     "metadata": {},
     "output_type": "execute_result"
    }
   ],
   "source": [
    "sc.__dict__"
   ]
  },
  {
   "cell_type": "code",
   "execution_count": 9,
   "metadata": {},
   "outputs": [
    {
     "data": {
      "text/plain": [
       "'Plentir'"
      ]
     },
     "execution_count": 9,
     "metadata": {},
     "output_type": "execute_result"
    }
   ],
   "source": [
    "sc.appName = \"Plentir\"\n",
    "sc.appName"
   ]
  },
  {
   "cell_type": "markdown",
   "metadata": {},
   "source": [
    "#### 2. RDD 다루기\n",
    "\n",
    "\n",
    "RDD 함수의 종류\n",
    "- Actions  \n",
    "RDD로부터 값을 반환한다.\n",
    "    + count()\n",
    "    + take(n): RDD의 첫 번째 요소부터 n개까지를 리스트로 반환한다.\n",
    "    + collect(n): RDD의 모든 요소를 반환한다.\n",
    "    + saveAsTextFile(path): 주어진 경로에 RDD를 텍스트 파일로 저장한다.\n",
    "\n",
    "\n",
    "- Transformations  \n",
    "입력으로 받은 RDD를 이용해 새로운(독립적인) RDD 객체를 정의한다.\n",
    "    + map(func)\n",
    "    + flatmap(func)\n",
    "    + filter(func)\n",
    "    + distinct(): 중복을 제거한다.\n",
    "    + first(): RDD의 첫 번째 요소를 반환한다.\n",
    "    + top(n): RDD의 가장 큰 요소 n개를 반환한다.  \n",
    "Transformation 함수는 연속적으로 사용 가능하다.\n",
    "\n",
    "RDD의 성질\n",
    "- RDD는 불변하다(Immutable)\n",
    "    + RDD에 있는 데이터는 수정할 수 없다.\n",
    "    + 필요에 따라 데이터를 수정하는 시퀀스를 Transformation한다.\n",
    "- RDD는 Lazy Execution하다.\n",
    "    + RDD의 데이터는 Action 함수에 의한 작업이 실행될 때만 처리된다."
   ]
  },
  {
   "cell_type": "markdown",
   "metadata": {},
   "source": [
    "#### RDD 생성"
   ]
  },
  {
   "cell_type": "code",
   "execution_count": 26,
   "metadata": {},
   "outputs": [],
   "source": [
    "raw = sc.textFile(\"./sample.txt\", 4) # 1. 텍스트 파일에서 생성"
   ]
  },
  {
   "cell_type": "code",
   "execution_count": 23,
   "metadata": {},
   "outputs": [
    {
     "data": {
      "text/plain": [
       "[['Once more',\n",
       "  'I summon you',\n",
       "  'Out of the past',\n",
       "  'With poignant love,',\n",
       "  'You who nourished the poet'],\n",
       " ['And the lover.', 'I see your gary eyes', 'Looking out to sea'],\n",
       " ['In those Rockport summers,', 'Keeping a distance', 'Within the closeness'],\n",
       " ['Which was never intrusive', 'Opening out', 'Into the world.']]"
      ]
     },
     "execution_count": 23,
     "metadata": {},
     "output_type": "execute_result"
    }
   ],
   "source": [
    "raw.glom().collect()"
   ]
  },
  {
   "cell_type": "code",
   "execution_count": 25,
   "metadata": {},
   "outputs": [
    {
     "data": {
      "text/plain": [
       "14"
      ]
     },
     "execution_count": 25,
     "metadata": {},
     "output_type": "execute_result"
    }
   ],
   "source": [
    "raw.count()"
   ]
  },
  {
   "cell_type": "code",
   "execution_count": 29,
   "metadata": {},
   "outputs": [
    {
     "data": {
      "text/plain": [
       "[['ONCE MORE',\n",
       "  'I SUMMON YOU',\n",
       "  'OUT OF THE PAST',\n",
       "  'WITH POIGNANT LOVE,',\n",
       "  'YOU WHO NOURISHED THE POET',\n",
       "  'AND THE LOVER.',\n",
       "  'I SEE YOUR GARY EYES',\n",
       "  'LOOKING OUT TO SEA'],\n",
       " ['IN THOSE ROCKPORT SUMMERS,',\n",
       "  'KEEPING A DISTANCE',\n",
       "  'WITHIN THE CLOSENESS',\n",
       "  'WHICH WAS NEVER INTRUSIVE',\n",
       "  'OPENING OUT',\n",
       "  'INTO THE WORLD.']]"
      ]
     },
     "execution_count": 29,
     "metadata": {},
     "output_type": "execute_result"
    }
   ],
   "source": [
    "raw = sc.textFile(\"./sample.txt\")\n",
    "raw_up = raw.map(lambda line: line.upper()) # 2. RDD에서 생성\n",
    "\n",
    "raw_up.glom().collect()"
   ]
  },
  {
   "cell_type": "code",
   "execution_count": 32,
   "metadata": {},
   "outputs": [
    {
     "data": {
      "text/plain": [
       "[[1, 4, 7, 10],\n",
       " [13, 16, 19, 22],\n",
       " [25, 28, 31, 34],\n",
       " [37, 40, 43, 46, 49],\n",
       " [52, 55, 58, 61],\n",
       " [64, 67, 70, 73],\n",
       " [76, 79, 82, 85],\n",
       " [88, 91, 94, 97, 100]]"
      ]
     },
     "execution_count": 32,
     "metadata": {},
     "output_type": "execute_result"
    }
   ],
   "source": [
    "raw = sc.parallelize(range(1, 100 + 1, 3)) # 3. 메모리에 존재하는 데이터에서 생성\n",
    "raw.glom().collect()"
   ]
  },
  {
   "cell_type": "markdown",
   "metadata": {},
   "source": [
    "#### 파티션"
   ]
  },
  {
   "cell_type": "code",
   "execution_count": 24,
   "metadata": {},
   "outputs": [
    {
     "data": {
      "text/plain": [
       "[[],\n",
       " ['Once more',\n",
       "  'I summon you',\n",
       "  'Out of the past',\n",
       "  'With poignant love,',\n",
       "  'You who nourished the poet'],\n",
       " ['Which was never intrusive', 'Opening out', 'Into the world.'],\n",
       " [],\n",
       " ['In those Rockport summers,', 'Keeping a distance', 'Within the closeness'],\n",
       " ['And the lover.', 'I see your gary eyes', 'Looking out to sea']]"
      ]
     },
     "execution_count": 24,
     "metadata": {},
     "output_type": "execute_result"
    }
   ],
   "source": [
    "re_raw = raw.repartition(6) # 파티션 개수 변경\n",
    "re_raw.glom().collect()"
   ]
  },
  {
   "cell_type": "code",
   "execution_count": 21,
   "metadata": {},
   "outputs": [
    {
     "data": {
      "text/plain": [
       "6"
      ]
     },
     "execution_count": 21,
     "metadata": {},
     "output_type": "execute_result"
    }
   ],
   "source": [
    "re_raw.getNumPartitions()"
   ]
  },
  {
   "cell_type": "markdown",
   "metadata": {},
   "source": [
    "#### RDD의 속성 확인"
   ]
  },
  {
   "cell_type": "code",
   "execution_count": null,
   "metadata": {},
   "outputs": [],
   "source": []
  },
  {
   "cell_type": "markdown",
   "metadata": {},
   "source": [
    "#### 3. Spark의 주요 함수"
   ]
  },
  {
   "cell_type": "code",
   "execution_count": null,
   "metadata": {},
   "outputs": [],
   "source": []
  },
  {
   "cell_type": "markdown",
   "metadata": {},
   "source": [
    "------\n",
    "\n",
    "## 4. 정규표현식\n",
    "\n",
    "\n",
    "#### 1. Symbols\n",
    "- \\w (모든 문자) / \\W (문자를 제외한 모든 것)\n",
    "- \\d (모든 숫자) / \\D (숫자를 제외한 모든 문자)\n",
    "- \\s (공백) / \\S (공백을 제외한 모든 문자)\n",
    "- \\b (단어의 경계) / \\B (단어의 경계아 아닌 모든 것 = 문자의 경계)\n",
    "- ^ (문자열의 시작)\n",
    "- $ (문자열의 끝)\n",
    "\n",
    "\n",
    "#### 2. Expressions\n",
    "- . (모든 문자, 숫자 및 공백 1개)\n",
    "\n",
    "\n",
    "- [abc] (a, b, c 중 하나와 일치)\n",
    "- [^abc] (a, b, c를 제외한 것과 일치)\n",
    "- (abc) (abc라는 문자열을 하나의 덩어리(그룹)로 취급)\n",
    "- first|second (first, second 중 한 쪽과 일치할 경우 매치. 단 둘을 모두 포함한 경우에는 매치되지 않음.)\n",
    "\n",
    "\n",
    "- \\* (0개 이상의 매치)\n",
    "- \\+ (1개 이상의 매치)\n",
    "- ? (0개 ~ 1개의 매치)\n",
    "- {a:b} ('a개 이상 ~ b개 이하'개의 매치)"
   ]
  },
  {
   "cell_type": "markdown",
   "metadata": {},
   "source": [
    "#### 기초"
   ]
  },
  {
   "cell_type": "code",
   "execution_count": 9,
   "metadata": {},
   "outputs": [],
   "source": [
    "import re\n",
    "\n",
    "test = \"MyBaat beated the Brat's boat.\""
   ]
  },
  {
   "cell_type": "code",
   "execution_count": 10,
   "metadata": {},
   "outputs": [
    {
     "name": "stdout",
     "output_type": "stream",
     "text": [
      "None\n"
     ]
    }
   ],
   "source": [
    "res = re.match(r\"at.\", test)\n",
    "print(res) # match는 아무것도 매치되지 않으면 None을 반환"
   ]
  },
  {
   "cell_type": "code",
   "execution_count": 12,
   "metadata": {},
   "outputs": [
    {
     "name": "stdout",
     "output_type": "stream",
     "text": [
      "None\n"
     ]
    }
   ],
   "source": [
    "res = re.match(r\"Baat\", test)\n",
    "print(res) # .match()는 문자열의 시작부터 매치되는 가장 처음의 매치 결과를 반환한다."
   ]
  },
  {
   "cell_type": "code",
   "execution_count": 13,
   "metadata": {},
   "outputs": [
    {
     "name": "stdout",
     "output_type": "stream",
     "text": [
      "None\n"
     ]
    }
   ],
   "source": [
    "res = re.match(r\"[Bb][aert]at\", test)\n",
    "print(res) # .match()는 문자열의 시작부터 매치되는 가장 처음의 매치 결과를 반환한다."
   ]
  },
  {
   "cell_type": "code",
   "execution_count": 16,
   "metadata": {},
   "outputs": [
    {
     "data": {
      "text/plain": [
       "'Baat'"
      ]
     },
     "execution_count": 16,
     "metadata": {},
     "output_type": "execute_result"
    }
   ],
   "source": [
    "res = re.search(r\"Baat\", test) # .search()는 문자열의 어디에서든 매치되는 가장 처음의 매치 결과를 반환한다.\n",
    "res.group() # 매치 결과를 출력할 때는 .group() 함수를 사용해야 한다."
   ]
  },
  {
   "cell_type": "code",
   "execution_count": 20,
   "metadata": {},
   "outputs": [
    {
     "data": {
      "text/plain": [
       "'beat'"
      ]
     },
     "execution_count": 20,
     "metadata": {},
     "output_type": "execute_result"
    }
   ],
   "source": [
    "res = re.search(r\"[Bb][ert]at\", test)\n",
    "res.group()"
   ]
  },
  {
   "cell_type": "code",
   "execution_count": 24,
   "metadata": {},
   "outputs": [
    {
     "data": {
      "text/plain": [
       "['Baat', 'beat', 'Brat', 'boat']"
      ]
     },
     "execution_count": 24,
     "metadata": {},
     "output_type": "execute_result"
    }
   ],
   "source": [
    "res = re.findall(r\"[Bb][aerto]at\", test) # .finall()은 문자열의 어디에서든 매치되는 모든 매치 결과를 리스트로 반환한다.\n",
    "res"
   ]
  },
  {
   "cell_type": "markdown",
   "metadata": {},
   "source": [
    "#### Email 처리"
   ]
  },
  {
   "cell_type": "code",
   "execution_count": 37,
   "metadata": {},
   "outputs": [
    {
     "name": "stdout",
     "output_type": "stream",
     "text": [
      "('plentirssu', 'soongsil.', 'ac.kr') \n",
      "\n",
      "plentirssu@soongsil.ac.kr\n",
      "plentirssu\n",
      "soongsil.\n",
      "ac.kr \n",
      "\n",
      "soongsil.\n"
     ]
    }
   ],
   "source": [
    "email = \"plentirssu@soongsil.ac.kr\"\n",
    "\n",
    "res = re.search(r\"(?P<id>\\w+)@(?P<host>\\w+\\.)+(ac\\.kr|com|net|org|edu)\", email) # ?P<name>으로 그룹에 이름을 정할 수 있음.\n",
    "print(res.groups(), \"\\n\")\n",
    "\n",
    "print(res.group(0))\n",
    "print(res.group(1))\n",
    "print(res.group(2))\n",
    "print(res.group(3), \"\\n\")\n",
    "\n",
    "print(res.group(\"host\"))"
   ]
  },
  {
   "cell_type": "markdown",
   "metadata": {},
   "source": [
    "#### IP 처리"
   ]
  },
  {
   "cell_type": "code",
   "execution_count": 51,
   "metadata": {},
   "outputs": [
    {
     "name": "stdout",
     "output_type": "stream",
     "text": [
      "192.168.1.1 - -\n",
      "('192.168.1.1', '-', '-')\n"
     ]
    }
   ],
   "source": [
    "ip = \"192.168.1.1 - -\"\n",
    "\n",
    "res = re.search(r\"^(\\S+) (\\S+) (\\S+)\", ip)\n",
    "\n",
    "print(res.group())\n",
    "print(res.groups()) # 그룹이 없으면 빈 튜플을 출력"
   ]
  },
  {
   "cell_type": "markdown",
   "metadata": {},
   "source": [
    "#### 날짜 및 시간 처리"
   ]
  },
  {
   "cell_type": "code",
   "execution_count": 67,
   "metadata": {},
   "outputs": [
    {
     "name": "stdout",
     "output_type": "stream",
     "text": [
      "('01/Aug/1995', '13:53:01', '-0400')\n",
      "[01/Aug/1995:13:53:01 -0400]\n"
     ]
    }
   ],
   "source": [
    "time = \"[01/Aug/1995:13:53:01 -0400]\"\n",
    "\n",
    "res = re.search(r\"\\[([\\w/]+):([\\d:]+) (\\-\\d{4})\\]\", time)\n",
    "print(res.groups())\n",
    "\n",
    "print(res.group()) # PPT에서는 01/Aug...:01까지를 날짜로 취급"
   ]
  },
  {
   "cell_type": "markdown",
   "metadata": {},
   "source": [
    "#### 메시지 처리"
   ]
  },
  {
   "cell_type": "code",
   "execution_count": 96,
   "metadata": {},
   "outputs": [
    {
     "data": {
      "text/plain": [
       "('GET', '/images/launch-logo.gif', 'HTTP/1.0')"
      ]
     },
     "execution_count": 96,
     "metadata": {},
     "output_type": "execute_result"
    }
   ],
   "source": [
    "msg = \"'GET /images/launch-logo.gif HTTP/1.0'\"\n",
    "\n",
    "res = re.search(r\"'(\\S+) (\\S+) (\\S+)'\", msg)\n",
    "#res\n",
    "res.groups()"
   ]
  },
  {
   "cell_type": "markdown",
   "metadata": {},
   "source": [
    "#### 연습"
   ]
  },
  {
   "cell_type": "code",
   "execution_count": 118,
   "metadata": {},
   "outputs": [],
   "source": [
    "string = \"\"\"194.120.126.123, NL, Netherlands\n",
    "94.126.119.173, FR, France\n",
    "193.46.74.166, RU, Russian Federation\n",
    "46.235.67.202, RU, Russian Federation\n",
    "193.161.193.64, RU, Russian Federation\"\"\""
   ]
  },
  {
   "cell_type": "code",
   "execution_count": 119,
   "metadata": {},
   "outputs": [
    {
     "data": {
      "text/plain": [
       "('194.120.126.123', 'NL', 'Netherlands')"
      ]
     },
     "execution_count": 119,
     "metadata": {},
     "output_type": "execute_result"
    }
   ],
   "source": [
    "re.search(r\"([^,\\s]+), (\\w+), (\\w+)\", string).groups()"
   ]
  },
  {
   "cell_type": "code",
   "execution_count": 127,
   "metadata": {},
   "outputs": [
    {
     "data": {
      "text/plain": [
       "['194.120.126.123', '193.46.74.166', '46.235.67.202', '193.161.193.64']"
      ]
     },
     "execution_count": 127,
     "metadata": {},
     "output_type": "execute_result"
    }
   ],
   "source": [
    "[re.search(r\"([^,\\s]+), (\\w+), (\\w+)\", line).group(1) for line in string.split(\"\\n\") \\\n",
    "    if re.search(r\"([^,\\s]+), (\\w+), (\\w+)\", line).group(2) != \"FR\"]"
   ]
  },
  {
   "cell_type": "markdown",
   "metadata": {},
   "source": [
    "------\n",
    "\n",
    "\n",
    "## 5. Log file 처리하기 (=Part 1)\n",
    "Chapter 4에서 했던 걸 하나로!"
   ]
  },
  {
   "cell_type": "code",
   "execution_count": 68,
   "metadata": {},
   "outputs": [],
   "source": [
    "log = \"127.0.0.1 - - [01/Aug/1995:00:00:01 -0400] 'GET /images/launch-logo.gif HTTP/1.0' 200\""
   ]
  },
  {
   "cell_type": "code",
   "execution_count": null,
   "metadata": {},
   "outputs": [],
   "source": []
  }
 ],
 "metadata": {
  "kernelspec": {
   "display_name": "Python 3",
   "language": "python",
   "name": "python3"
  },
  "language_info": {
   "codemirror_mode": {
    "name": "ipython",
    "version": 3
   },
   "file_extension": ".py",
   "mimetype": "text/x-python",
   "name": "python",
   "nbconvert_exporter": "python",
   "pygments_lexer": "ipython3",
   "version": "3.7.5"
  }
 },
 "nbformat": 4,
 "nbformat_minor": 4
}
