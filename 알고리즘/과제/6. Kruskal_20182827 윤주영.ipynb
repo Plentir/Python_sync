{
 "cells": [
  {
   "cell_type": "markdown",
   "metadata": {},
   "source": [
    "## 도움말\n",
    "------\n",
    "#### nodes\n",
    "\n",
    "    nodes = [[\"from node 1 to others\"], [\"from node 2 to others\"], ... , [\"from node 6 to others\"]]\n",
    "위의 리스트는 한 노드에서 다른 노드 사이의 가중치를 모두 저장함.\n",
    "\n",
    "**[값 해석]**  \n",
    "- -1: 자기 자신, 또는 어떤 섹션과 연결된 상태.\n",
    "- 999: 서로 연결되지 않은 노드, 또는 연결하지 않을 경로.\n",
    "- 이외의 값은 가중치를 나타냄.  \n",
    "------\n",
    "#### sections\n",
    "\n",
    "    sections = [\"sections in which node 1 is included\", \"in which node 2 is included\", ... , \"in which node 6 is included\"]\n",
    "위의 리스트는 각 노드가 트리 내에서 어떤 섹션에 속해 있는지 저장함.\n",
    "\n",
    "**[값 해석]**  \n",
    "- 기본값: 각 노드는 모두 자기 자신만을 포함하는 서로 다른 섹션에 포함되어 있는 것으로 초기화.\n",
    "------\n",
    "#### Kruskal's algorithm\n",
    "**[알고리즘]**\n",
    "1. 가중치가 가장 작은 노드를 찾는다.\n",
    "2. 두 노드를 연결했을 때, loop가 만들어지는지 확인한다.\n",
    "3. Loop가 만들어지지 않으면 두 노드를 하나의 섹션으로 합친다.\n",
    "4. 1 ~ 3을 모든 노드가 하나의 섹션으로 통합될 때까지 반복한다.\n",
    "------"
   ]
  },
  {
   "cell_type": "code",
   "execution_count": 1,
   "metadata": {},
   "outputs": [],
   "source": [
    "# 알고리즘\n",
    "def Kruskal(array_weights):\n",
    "    tot_weights = [(\"From\", \"To\", \"Weights\")]  # 첫 번째 요소(튜플 형식)는 값을 설명하는 색인 역할을 함.\n",
    "    array_sections = [(s + 1) for s in range(len(array_weights))]  # 각 노드가 속한 섹션 목록 생성\n",
    "    flag = 1\n",
    "\n",
    "    while flag == 1:  # 모든 노드가 같은 섹션에 포함될 때까지 구문 반복.\n",
    "        _from = _to = 0  # 초기화\n",
    "        _min = 999\n",
    "\n",
    "        for i in range(len(array_weights)):  # 가중치가 가장 작은 연결을 검색. i는 연결이 시작되는 노드의 인덱스(index).\n",
    "\n",
    "            for j in range(len(array_weights[i])):  # j는 i와 연결될 노드의 인덱스(index).\n",
    "                if array_weights[i][j] < _min and array_weights[i][j] != -1:\n",
    "                    _min = array_weights[i][j]\n",
    "                    _from, _to = i, j\n",
    "\n",
    "        if array_sections[_from] != array_sections[_to]:  # 두 노드를 연결했을 때 loop가 발생하지 않으면 두 노드를 연결함.\n",
    "\n",
    "            if array_sections.count(_to + 1) == 0:  # 섹션 통합\n",
    "                for k in range(array_sections.count(_from + 1)):\n",
    "                    array_sections[array_sections.index(_from + 1)] = array_sections[_to]\n",
    "\n",
    "            else:\n",
    "                for k in range(array_sections.count(_to + 1)):  # 섹션 통합\n",
    "                    array_sections[array_sections.index(_to + 1)] = array_sections[_from]\n",
    "\n",
    "            array_weights[_from][_to] = array_weights[_to][_from] = -1\n",
    "\n",
    "            tot_weights.append((_from + 1, _to + 1, _min))  # 연결 순서 및 연결의 가중치를 단계별로 저장. >> 함수의 return값으로 사용.\n",
    "\n",
    "            print(\"Connection established: Node %s <=> Node %s\" %(_from + 1, _to + 1))\n",
    "\n",
    "        else:  # 섹션 내에 loop가 발생할 경우.\n",
    "            array_weights[_from][_to] = array_weights[_to][_from] = 999  # 고려하지 않을 경로에 추가.\n",
    "\n",
    "        if len(set(array_sections)) == 1:  # 모든 노드가 하나의 섹션으로 통합되었는지 확인함.\n",
    "            flag = 0\n",
    "\n",
    "    print(\"Total weights:\", sum(tot_weights[n][-1] for n in range(1, len(tot_weights))))  # 가중치 합계 출력.\n",
    "\n",
    "    return tot_weights"
   ]
  },
  {
   "cell_type": "code",
   "execution_count": 2,
   "metadata": {},
   "outputs": [
    {
     "name": "stdout",
     "output_type": "stream",
     "text": [
      "Connection established: Node 5 <=> Node 6\n",
      "Connection established: Node 3 <=> Node 5\n",
      "Connection established: Node 5 <=> Node 4\n",
      "Connection established: Node 1 <=> Node 3\n",
      "Connection established: Node 1 <=> Node 2\n",
      "Total weights: 30\n"
     ]
    },
    {
     "data": {
      "text/plain": [
       "[('From', 'To', 'Weights'),\n",
       " (5, 6, 4),\n",
       " (3, 5, 5),\n",
       " (5, 4, 6),\n",
       " (1, 3, 7),\n",
       " (1, 2, 8)]"
      ]
     },
     "execution_count": 2,
     "metadata": {},
     "output_type": "execute_result"
    }
   ],
   "source": [
    "weights_dst = [[-1, 8, 7, 20, 14, 999],  # node 1\n",
    "               [999, -1, 999, 13, 999, 999],  # node 2\n",
    "               [999, 999, -1, 999, 5, 999],  # node 3\n",
    "               [12, 999, 999, -1, 999, 999],  # node 4\n",
    "               [11, 999, 999, 6, -1, 4],  # node 5\n",
    "               [999, 999, 999, 10, 999, -1]]  # node 6\n",
    "\n",
    "weights = [[0, 8, 7, 20, 14, 1000],  # node 1\n",
    "           [1000, 0, 1000, 13, 1000, 1000],  # node 2\n",
    "           [1000, 1000, 0, 1000, 5, 1000],  # node 3\n",
    "           [12, 1000, 1000, 0, 1000, 1000],  # node 4\n",
    "           [11, 1000, 1000, 6, 0, 4],  # node 5\n",
    "           [1000, 1000, 1000, 10, 1000, 0]]  # node 6\n",
    "\n",
    "Kruskal(weights)"
   ]
  },
  {
   "cell_type": "code",
   "execution_count": 3,
   "metadata": {},
   "outputs": [
    {
     "name": "stdout",
     "output_type": "stream",
     "text": [
      "Connection established: Node 4 <=> Node 5\n",
      "Connection established: Node 3 <=> Node 4\n",
      "Connection established: Node 1 <=> Node 2\n",
      "Connection established: Node 1 <=> Node 3\n",
      "Connection established: Node 1 <=> Node 6\n",
      "Total weights: 29\n"
     ]
    },
    {
     "data": {
      "text/plain": [
       "[('From', 'To', 'Weights'),\n",
       " (4, 5, 3),\n",
       " (3, 4, 4),\n",
       " (1, 2, 6),\n",
       " (1, 3, 7),\n",
       " (1, 6, 9)]"
      ]
     },
     "execution_count": 3,
     "metadata": {},
     "output_type": "execute_result"
    }
   ],
   "source": [
    "# (6 nodes, 9 lines)\n",
    "weights1 = [[-1, 6, 7, 999, 10, 9],  # Node 1\n",
    "            [6, -1, 999, 999, 999, 999],  # Node 2\n",
    "            [7, 8, -1, 4, 5, 999],  # Node 3\n",
    "            [999, 999, 4, -1, 3, 999],  # Node 4\n",
    "            [10, 999, 5, 3, -1, 11],  # Node 5\n",
    "            [9, 999, 999, 999, 11]]  # Node 6\n",
    "\n",
    "Kruskal(weights1)\n",
    "# print(\"\\n\", Kruskal(weights1, sections1), sep = \"\")"
   ]
  },
  {
   "cell_type": "code",
   "execution_count": 4,
   "metadata": {},
   "outputs": [
    {
     "name": "stdout",
     "output_type": "stream",
     "text": [
      "Connection established: Node 1 <=> Node 8\n",
      "Connection established: Node 3 <=> Node 4\n",
      "Connection established: Node 2 <=> Node 3\n",
      "Connection established: Node 2 <=> Node 8\n",
      "Connection established: Node 6 <=> Node 7\n",
      "Connection established: Node 4 <=> Node 6\n",
      "Connection established: Node 5 <=> Node 6\n",
      "Total weights: 14\n",
      "\n",
      "[('From', 'To', 'Weights'), (1, 8, 1), (3, 4, 1), (2, 3, 2), (2, 8, 2), (6, 7, 2), (4, 6, 3), (5, 6, 3)]\n",
      "\n",
      "Connection established: Node 3 <=> Node 4\n",
      "Connection established: Node 1 <=> Node 4\n",
      "Connection established: Node 2 <=> Node 3\n",
      "Connection established: Node 4 <=> Node 5\n",
      "Total weights: 13\n",
      "\n",
      "[('From', 'To', 'Weights'), (3, 4, 2), (1, 4, 3), (2, 3, 3), (4, 5, 5)]\n"
     ]
    }
   ],
   "source": [
    "# 아래의 테스트 값은 다음 사이트에서 인용함. http://weierstrass.is.tokushima-u.ac.jp/ikeda/suuri/kruskal/Kruskal.shtml\n",
    "\n",
    "# (8 nodes, 12 lines)\n",
    "weights2 = [[-1, 3, 6, 999, 999, 999, 999, 1], # Node 1\n",
    "            [3, -1, 2, 999, 999, 999, 999, 2], # Node 2\n",
    "            [6, 2, -1, 1, 999, 999, 999, 999], # Node 3\n",
    "            [999, 999, 1, -1, 6, 3, 4, 999], # Node 4\n",
    "            [999, 999, 999, 6, -1, 3, 999, 999], # Node 5\n",
    "            [999, 999, 999, 3, 3, -1, 2, 999], # Node 6\n",
    "            [999, 999, 999, 4, 999, 2, -1, 10], # Node 7\n",
    "            [1, 2, 999, 999, 999, 999, 10, -1]] # Node 8\n",
    "\n",
    "print(\"\\n\", Kruskal(weights2), \"\\n\", sep = \"\")\n",
    "\n",
    "# (5 nodes, 8 lines)\n",
    "weights3 = [[-1, 4, 4, 3, 6], # Node 1\n",
    "            [4, -1, 3, 999, 7], # Node 2\n",
    "            [4, 3, -1, 2, 999], # Node 3\n",
    "            [3, 999, 2, -1, 5], # Node 4\n",
    "            [6, 7, 999, 5, -1]] # Node 5\n",
    "\n",
    "print(\"\\n\", Kruskal(weights3), sep = \"\")"
   ]
  },
  {
   "cell_type": "code",
   "execution_count": null,
   "metadata": {},
   "outputs": [],
   "source": []
  }
 ],
 "metadata": {
  "kernelspec": {
   "display_name": "Python 3",
   "language": "python",
   "name": "python3"
  },
  "language_info": {
   "codemirror_mode": {
    "name": "ipython",
    "version": 3
   },
   "file_extension": ".py",
   "mimetype": "text/x-python",
   "name": "python",
   "nbconvert_exporter": "python",
   "pygments_lexer": "ipython3",
   "version": "3.7.3"
  }
 },
 "nbformat": 4,
 "nbformat_minor": 2
}
