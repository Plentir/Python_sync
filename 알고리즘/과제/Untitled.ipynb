{
 "cells": [
  {
   "cell_type": "code",
   "execution_count": 31,
   "metadata": {},
   "outputs": [],
   "source": [
    "def print_array(ary, seq_ref, seq_target):\n",
    "    \"\"\"It prints a 2-dimensional array to (col * row) size grid form.\"\"\"\n",
    "\n",
    "    col = len(seq_ref)\n",
    "    row = len(seq_target)\n",
    "\n",
    "    print(\" \" * 3, end = \"\")  # 가로축 정렬 맞춰줌.\n",
    "    for i in range(col):  # 가로축 출력.\n",
    "        print((\"%2s \" %seq_ref[i]) if (i != col - 1) else (\"%2s\\n\" %seq_ref[i]), end = \"\")\n",
    "    \n",
    "    for i in range(row):\n",
    "        print(\"%2s \" %seq_target[i], end = \"\")  # 세로축 출력.\n",
    "\n",
    "        for j in range(col):\n",
    "            print((\"%2s \" %ary[i][j]) if (j != col - 1) else (\"%2s\\n\" %ary[i][j]), end = \"\")  # 값 출력.\n",
    "\n",
    "    return"
   ]
  },
  {
   "cell_type": "code",
   "execution_count": 2,
   "metadata": {},
   "outputs": [],
   "source": [
    "def update_value(row, col, array):\n",
    "    \"\"\"Re-calculate the value of the cell.\"\"\"\n",
    "    # The parameter 'row' and 'col' can not be larger than -1.\n",
    "\n",
    "    value = array[row][col]\n",
    "    \n",
    "    col_max = max(array[ro][col + 1] for ro in range(row + 1, 0))  # 가로 방향 최댓값 검색.\n",
    "    row_max = max(array[row + 1][co] for co in range(col + 1, 0))  # 세로 방향 최댓값 검색.\n",
    "    \n",
    "    value += max(col_max, row_max)  # 최종적으로 더할 값 결정.\n",
    "    \n",
    "    return value"
   ]
  },
  {
   "cell_type": "code",
   "execution_count": 32,
   "metadata": {},
   "outputs": [],
   "source": [
    "def summatrix(seq_ref, seq_target):\n",
    "    \"\"\"It calculates a alignment score and makes a decision how to align the seqs.\"\"\"\n",
    "\n",
    "    row = len(seq_target)\n",
    "    col = len(seq_ref)\n",
    "\n",
    "    array = [[1 if seq_ref[co] is seq_target[ro] else 0 for co in range(col)] for ro in range(row)]  # 참조 서열 길이 x 대조 서열 길이 크기의 2차원 배열 생성. \n",
    "    print(\"<Initialize>\")\n",
    "    print_array(array, seq_ref, seq_target)\n",
    "\n",
    "    # 값을 업데이트함.\n",
    "    for ro in range(-1, -(row + 1), -1):  # row(참조 서열 길이)만큼 반복.\n",
    "\n",
    "        for co in range(-1, -(col + 1), -1):  # col(대조 서열 길이)만큼 반복.\n",
    "            if (ro != -1) and (co != -1):\n",
    "                array[ro][co] = update_value(ro, co, array)\n",
    "\n",
    "    print(\"\\n<Result>\")\n",
    "    print_array(array, seq_ref, seq_target)\n",
    "    print(\"\\n#END\")\n",
    "\n",
    "    return array"
   ]
  },
  {
   "cell_type": "code",
   "execution_count": 22,
   "metadata": {},
   "outputs": [],
   "source": [
    "def modarray(array):\n",
    "    \"\"\"It modifies an array to fittable form for a sequence alignment.\"\"\"\n",
    "    \n",
    "    (row, col) = (len(array), len(array[0]))\n",
    "\n",
    "    for ro in range(row):  # 열 방향으로 배열 길이 2만큼 연장.\n",
    "        array[ro].append(-1)\n",
    "        array[ro].append(-1)\n",
    "    \n",
    "    for i in range(2):\n",
    "        array.append([-1 for co in range(col + 2)])  # 행 방향으로 배열 길이 2만큼 연장.\n",
    "    \n",
    "    return array"
   ]
  },
  {
   "cell_type": "code",
   "execution_count": 123,
   "metadata": {},
   "outputs": [],
   "source": [
    "def alignseq(array, seq_ref, seq_target):\n",
    "    \"\"\"Align the sequence by using the sum matrix.\"\"\"\n",
    "\n",
    "    (row_max, col_max, row, col) = (len(seq_target), len(seq_ref), 0, 0)  # 초기화.\n",
    "    align_ref = align_target = \"\"\n",
    "    \n",
    "    ary_mod = modarray(array)  # Index error\n",
    "    \n",
    "    while (row < row_max) and (col < col_max):  # 모두 정렬할 때까지 반복.\n",
    "        next_max = max(ary_mod[row + 1][col + 1], ary_mod[row + 1][col + 2], ary_mod[row + 2][col + 1])\n",
    "\n",
    "        if ary_mod[row + 1][col + 1] == next_max:  # 대각선 방향으로 이동.\n",
    "            align_ref += seq_ref[col]\n",
    "            align_target += seq_target[row]\n",
    "            \n",
    "            col += 1\n",
    "            row += 1\n",
    "        \n",
    "        elif ary_mod[row + 1][col + 2] == next_max:  # 오른쪽으로 이동.\n",
    "            align_ref += seq_ref[col:col + 2]\n",
    "            align_target += seq_target[row] + \"-\"\n",
    "            \n",
    "            col += 2\n",
    "            row += 1\n",
    "\n",
    "        elif ary_mod[row + 2][col + 1] == next_max:  # 아래쪽으로 이동.\n",
    "            align_ref += seq_ref[col] + \"-\"\n",
    "            align_target += seq_target[row:row + 2]\n",
    "            \n",
    "            col += 1\n",
    "            row += 2\n",
    "    \n",
    "    align_ref += seq_ref[col:]  # 남은 문자열 붙임.\n",
    "    align_target += seq_target[row:]  # 남은 문자열 붙임.\n",
    "    \n",
    "    print(\"[Reference seq.]\\n>>\", align_ref, \"\\n  >>\", align_target, \"\\n[Target seq.]\")\n",
    "\n",
    "    return (align_ref, align_target)"
   ]
  },
  {
   "cell_type": "code",
   "execution_count": 124,
   "metadata": {},
   "outputs": [
    {
     "name": "stdout",
     "output_type": "stream",
     "text": [
      "<Initialize>\n",
      "    A  B  C  N  Y  R  Q  C  L  C  R  P  M\n",
      " A  1  0  0  0  0  0  0  0  0  0  0  0  0\n",
      " Y  0  0  0  0  1  0  0  0  0  0  0  0  0\n",
      " C  0  0  1  0  0  0  0  1  0  1  0  0  0\n",
      " Y  0  0  0  0  1  0  0  0  0  0  0  0  0\n",
      " N  0  0  0  1  0  0  0  0  0  0  0  0  0\n",
      " R  0  0  0  0  0  1  0  0  0  0  1  0  0\n",
      " C  0  0  1  0  0  0  0  1  0  1  0  0  0\n",
      " K  0  0  0  0  0  0  0  0  0  0  0  0  0\n",
      " C  0  0  1  0  0  0  0  1  0  1  0  0  0\n",
      " R  0  0  0  0  0  1  0  0  0  0  1  0  0\n",
      " B  0  1  0  0  0  0  0  0  0  0  0  0  0\n",
      " P  0  0  0  0  0  0  0  0  0  0  0  1  0\n",
      "\n",
      "<Result>\n",
      "    A  B  C  N  Y  R  Q  C  L  C  R  P  M\n",
      " A  8  7  6  6  5  4  4  3  3  2  1  0  0\n",
      " Y  7  7  6  6  6  4  4  3  3  2  1  0  0\n",
      " C  6  6  7  6  5  4  4  4  3  3  1  0  0\n",
      " Y  6  6  6  5  6  4  4  3  3  2  1  0  0\n",
      " N  5  5  5  6  5  4  4  3  3  2  1  0  0\n",
      " R  4  4  4  4  4  5  4  3  3  2  2  0  0\n",
      " C  3  3  4  3  3  3  3  4  3  3  1  0  0\n",
      " K  3  3  3  3  3  3  3  3  3  2  1  0  0\n",
      " C  2  2  3  2  2  2  2  3  2  3  1  0  0\n",
      " R  2  1  1  1  1  2  1  1  1  1  2  0  0\n",
      " B  1  2  1  1  1  1  1  1  1  1  1  0  0\n",
      " P  0  0  0  0  0  0  0  0  0  0  0  1  0\n",
      "\n",
      "#END\n",
      "\n",
      "############START ALIGNMENT############\n",
      "\n",
      "[Reference seq.]\n",
      "  >> ABCNY-RQCLCR-PM \n",
      "  >> AYC-YNR-CKCRBP \n",
      "[Target seq.]\n"
     ]
    },
    {
     "data": {
      "text/plain": [
       "('ABCNY-RQCLCR-PM', 'AYC-YNR-CKCRBP')"
      ]
     },
     "execution_count": 124,
     "metadata": {},
     "output_type": "execute_result"
    }
   ],
   "source": [
    "seq_ref = \"ABCNYRQCLCRPM\"  # col\n",
    "seq_target = \"AYCYNRCKCRBP\"  # row\n",
    "\n",
    "ary = summatrix(seq_ref, seq_target)\n",
    "\n",
    "print(\"\\n############START ALIGNMENT############\\n\")\n",
    "\n",
    "alignseq(ary, seq_ref, seq_target)"
   ]
  },
  {
   "cell_type": "code",
   "execution_count": null,
   "metadata": {},
   "outputs": [],
   "source": []
  }
 ],
 "metadata": {
  "kernelspec": {
   "display_name": "Python 3",
   "language": "python",
   "name": "python3"
  },
  "language_info": {
   "codemirror_mode": {
    "name": "ipython",
    "version": 3
   },
   "file_extension": ".py",
   "mimetype": "text/x-python",
   "name": "python",
   "nbconvert_exporter": "python",
   "pygments_lexer": "ipython3",
   "version": "3.7.3"
  }
 },
 "nbformat": 4,
 "nbformat_minor": 2
}
