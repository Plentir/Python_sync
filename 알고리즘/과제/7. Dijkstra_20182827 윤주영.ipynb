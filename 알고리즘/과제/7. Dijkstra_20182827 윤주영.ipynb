{
 "cells": [
  {
   "cell_type": "code",
   "execution_count": null,
   "metadata": {},
   "outputs": [],
   "source": [
    "def Prim(C):\n",
    "    frm=[]\n",
    "    dist=[]\n",
    "    T=[]\n",
    "    \n",
    "    n=len(C[0])\n",
    "    for i in range(0,n):\n",
    "        frm.append(0)\n",
    "        dist.append(C[0][i])\n",
    "\n",
    "    for k in range(0,len(C) - 1):\n",
    "        value=99\n",
    "        best=0\n",
    "\n",
    "        for j in range(k,len(C[k])):\n",
    "            if C[k][j] < value and C[k][j] > 0:\n",
    "                value=C[k][j]\n",
    "                best=j\n",
    "\n",
    "        T.append([frm[best],best])\n",
    "        print(best,frm[best-1])\n",
    "        print(k,T)\n",
    "        dist[best]=0\n",
    "\n",
    "        for i in range(1,n):\n",
    "            if(C[best][i]<dist[i]):\n",
    "                frm[i]=best\n",
    "                dist[i]=C[best][i]\n",
    "\n",
    "    return T\n",
    "\n",
    "\n",
    "if __name__ == \"__main__\":\n",
    "    C=[[0,6,7,99,10,9], [6,0,8,99,99,99], [7,8,0,4,5,99], \n",
    "       [99,99,4,0,3,99],[10,99,5,3,0,11], [9,99,99,99,11,0]]\n",
    "\n",
    "    T=Prim(C)\n",
    "    print(T)\n",
    "    \n",
    "    total=0\n",
    "    for i in range(len(C) - 1):\n",
    "        total+=C[T[i][0]][T[i][1]]\n",
    "\n",
    "    print(total)"
   ]
  }
 ],
 "metadata": {
  "kernelspec": {
   "display_name": "Python 3",
   "language": "python",
   "name": "python3"
  },
  "language_info": {
   "codemirror_mode": {
    "name": "ipython",
    "version": 3
   },
   "file_extension": ".py",
   "mimetype": "text/x-python",
   "name": "python",
   "nbconvert_exporter": "python",
   "pygments_lexer": "ipython3",
   "version": "3.7.3"
  }
 },
 "nbformat": 4,
 "nbformat_minor": 2
}
