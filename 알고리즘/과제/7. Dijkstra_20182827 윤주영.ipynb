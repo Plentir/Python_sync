{
 "cells": [
  {
   "cell_type": "code",
   "execution_count": 1,
   "metadata": {},
   "outputs": [],
   "source": [
    "def Dst(C):\n",
    "    frm = []\n",
    "    dist = []\n",
    "    T = []\n",
    "    \n",
    "    n = len(C[0])\n",
    "    for i in range(0, n):  # 변수를 초기화하는 부분이다.\n",
    "        frm.append(1)  # 출발점이 1번 노드이므로 초기화 값을 1으로 설정한다.\n",
    "        dist.append(C[0][i])  # 1번 노드에서 출발하므로 1번 노드와 다른 노드 사이의 가중치를 가져온다.\n",
    "        \n",
    "    print(\"frm = \", frm, \"\\n\", \"dist = \", dist, \"\\n\", \"T = \", T, sep = \"\")\n",
    "    print(\"Start!\\n\")\n",
    "        \n",
    "    for k in range(0, len(C) - 1):  # 간선이 n - 1개 생성되어야 최단 거리이므로, 간선을 생성하는 코드를 len(C)번 반복한다.\n",
    "        \n",
    "        value = 1000\n",
    "        best = 0\n",
    "        for j in range(0, n):  # 가중치가 가장 작은 간선을 찾는 반복문이다.\n",
    "            if dist[j] < value and dist[j] > 0:  # value를 점점 작은 값으로 바꿔가며 가중치가 가장 작은 간선을 찾되, 0은 자기 자신을 의미하므로 검사 대상에서 제외한다.\n",
    "                value = dist[j]\n",
    "                best = j\n",
    "        \n",
    "        T.append([frm[best], best + 1])  # 간선을 연결하는 순서쌍을 T에 저장.\n",
    "        \n",
    "        for i in range(0, n):  # 출발점에서 각 노드까지의 최단거리 검사를 반복함.\n",
    "            if (dist[best] + C[best][i] < dist[i]):  # 현재 기록되어 있는 최단거리 값이 이번 루프에서 트리에 추가된 노드에 의해 최단거리 값이 바뀌었는지 검사.\n",
    "                frm[i] = best + 1\n",
    "                dist[i] = dist[best] + C[best][i]  # 더 작은 값으로 값을 새로고침.\n",
    "        dist[best] = 0  # 트리에 추가된 노드는 거리가 0이므로 값 수정.\n",
    "\n",
    "        print(\"frm = \", frm, \"\\n\", \"dist = \", dist, \"\\n\", \"T = \", T, \"\\n\", sep = \"\")\n",
    "        \n",
    "    return T"
   ]
  },
  {
   "cell_type": "code",
   "execution_count": 2,
   "metadata": {},
   "outputs": [
    {
     "name": "stdout",
     "output_type": "stream",
     "text": [
      "frm = [1, 1, 1, 1, 1, 1]\n",
      "dist = [0, 8, 7, 20, 14, 1000]\n",
      "T = []\n",
      "Start!\n",
      "\n",
      "frm = [1, 1, 1, 1, 3, 1]\n",
      "dist = [0, 8, 0, 20, 12, 1000]\n",
      "T = [[1, 3]]\n",
      "\n",
      "frm = [1, 1, 1, 1, 3, 1]\n",
      "dist = [0, 0, 0, 20, 12, 1000]\n",
      "T = [[1, 3], [1, 2]]\n",
      "\n",
      "frm = [1, 1, 1, 5, 3, 5]\n",
      "dist = [0, 0, 0, 18, 0, 16]\n",
      "T = [[1, 3], [1, 2], [3, 5]]\n",
      "\n",
      "frm = [1, 1, 1, 5, 3, 5]\n",
      "dist = [0, 0, 0, 18, 0, 0]\n",
      "T = [[1, 3], [1, 2], [3, 5], [5, 6]]\n",
      "\n",
      "frm = [1, 1, 1, 5, 3, 5]\n",
      "dist = [0, 0, 0, 0, 0, 0]\n",
      "T = [[1, 3], [1, 2], [3, 5], [5, 6], [5, 4]]\n",
      "\n",
      "[[1, 3], [1, 2], [3, 5], [5, 6], [5, 4]]\n"
     ]
    }
   ],
   "source": [
    "weights = [[0, 8, 7, 20, 14, 1000],  # node 1\n",
    "           [1000, 0, 1000, 13, 1000, 1000],  # node 2\n",
    "           [1000, 1000, 0, 1000, 5, 1000],  # node 3\n",
    "           [12, 1000, 1000, 0, 1000, 1000],  # node 4\n",
    "           [11, 1000, 1000, 6, 0, 4],  # node 5\n",
    "           [1000, 1000, 1000, 10, 1000, 0]]  # node 6\n",
    "\n",
    "T = Dst(weights)\n",
    "print(T)"
   ]
  },
  {
   "cell_type": "code",
   "execution_count": null,
   "metadata": {},
   "outputs": [],
   "source": []
  }
 ],
 "metadata": {
  "kernelspec": {
   "display_name": "Python 3",
   "language": "python",
   "name": "python3"
  },
  "language_info": {
   "codemirror_mode": {
    "name": "ipython",
    "version": 3
   },
   "file_extension": ".py",
   "mimetype": "text/x-python",
   "name": "python",
   "nbconvert_exporter": "python",
   "pygments_lexer": "ipython3",
   "version": "3.7.3"
  }
 },
 "nbformat": 4,
 "nbformat_minor": 2
}
