{
 "cells": [
  {
   "cell_type": "markdown",
   "metadata": {},
   "source": [
    "설문, 필기내용과 python 코드, 유추과정은  “직접작성” 부분에, 결과는 capture 해서 jpg, png, 또는 pdf format으로 “첨부파일”에 첨부하라  \n",
    "l 설문) 알고리즘 수업을 예년 처럼 이론 수업만 하는 게 좋은가 아니면 올해처럼 실습을 병행 하는 것이 좋은가?  \n",
    "l필기) Backtracking 알고리즘을 설명하고 응용분야를 적고 왜 그 문제에 backtracking 이 적합한지 설명하라.  수업내용 외의 응용분야를 적고 설명하면 추가점수 있음  \n",
    "l실기) 살고 있는 곳이 다른 5명의 친구들은 크리스마스 이브에 그룹채팅을 하다가 자기들만 집에 혼자 있다는 것을 알고 어느 한 사람 집에  모여서 파티를 하기로 한다. 한 사람이 다른 사람들 집에 들려 태워 간다고 할 때 누가 운전하여 누구의 집으로 가는 것이 가장 짧은 시간에 전부 모일 수 있나?  운전자(출발), 태우는 순서(중간경로), 그리고 파티장소(최종목적지)를 표시하고 걸리는 시간은? 가능한 한 coding 을 많이 하라. 예) v1, v2,v3,v4,v5 :30 , 결과가 5개를 다 포함하지 않을 경우 유추한 과정을 써라"
   ]
  },
  {
   "cell_type": "code",
   "execution_count": 8,
   "metadata": {},
   "outputs": [
    {
     "data": {
      "text/plain": [
       "'\\n    best, w = 0, 100\\n    for a in range(_len):\\n        \\n        for b in range(_len):\\n            if D[a][b] < w and D[a][b] != 0:\\n                best, w = b, D[a][b]\\n'"
      ]
     },
     "execution_count": 8,
     "metadata": {},
     "output_type": "execute_result"
    }
   ],
   "source": [
    "\"\"\"\n",
    "    best, w = 0, 100\n",
    "    for a in range(_len):\n",
    "        \n",
    "        for b in range(_len):\n",
    "            if D[a][b] < w and D[a][b] != 0:\n",
    "                best, w = b, D[a][b]\n",
    "\"\"\""
   ]
  },
  {
   "cell_type": "code",
   "execution_count": 68,
   "metadata": {},
   "outputs": [
    {
     "name": "stdout",
     "output_type": "stream",
     "text": [
      "1 -> 2 : 1 , 2\n",
      "1 -> 3 : 1 , 4 , 3 // sum 11\n",
      "1 -> 4 : 1 , 4\n",
      "1 -> 5 : 1 , 2 , 5 // sum 6\n",
      "2 -> 1 : 2 , 1\n",
      "2 -> 3 : 2 , 5 , 4 , 3 // sum 11\n",
      "2 -> 4 : 2 , 5 , 4 // sum 6\n",
      "2 -> 5 : 2 , 5\n",
      "3 -> 1 : 3 , 1\n",
      "3 -> 2 : 3 , 1 , 2 // sum 6\n",
      "3 -> 4 : 3 , 1 , 4 // sum 8\n",
      "3 -> 5 : 3 , 1 , 2 , 5 // sum 8\n",
      "4 -> 1 : 4 , 3 , 1 // sum 7\n",
      "4 -> 2 : 4 , 3 , 1 , 2 // sum 11\n",
      "4 -> 3 : 4 , 3\n",
      "4 -> 5 : 4 , 3 , 1 , 2 , 5 // sum 13\n",
      "5 -> 1 : 5 , 4 , 3 , 1 // sum 11\n",
      "5 -> 2 : 5 , 4 , 3 , 1 , 2 // sum 15\n",
      "5 -> 3 : 5 , 4 , 3 // sum 9\n",
      "5 -> 4 : 5 , 4\n"
     ]
    }
   ],
   "source": [
    "def floyd(array):\n",
    "    _len = len(array)\n",
    "    P = [[0 for n in range(_len)] for p in range(_len)]\n",
    "    D = array[:]\n",
    "\n",
    "    for k in range(_len):\n",
    "        \n",
    "        for i in range(_len):\n",
    "            \n",
    "            for j in range(_len):\n",
    "                if (D[i][j] > D[i][k] + D[k][j]):\n",
    "                    D[i][j] = D[i][k] + D[k][j]\n",
    "                    P[i][j] = k + 1\n",
    "                \n",
    "    return P\n",
    "\n",
    "\n",
    "def pathFinder(i, j, P):\n",
    "    global weights\n",
    "    via = P[i][j]\n",
    "    \n",
    "    if via != 0:\n",
    "        d1 = pathFinder(i, via - 1, P)\n",
    "        print(via, \", \", end = \"\")\n",
    "        d2 = pathFinder(via - 1, j, P)\n",
    "        \n",
    "        return d1 + d2\n",
    "        \n",
    "    else:\n",
    "        return weights[i][j]\n",
    "\n",
    "    \n",
    "weights = [[0, 4, 100, 6, 100], \n",
    "           [3, 0, 100, 100, 2], \n",
    "           [2, 7, 0, 100, 100], \n",
    "           [100, 100, 5, 0, 20], \n",
    "           [100, 100, 10, 4, 0]]\n",
    "\n",
    "P = floyd(weights)\n",
    "\n",
    "for i in range(len(P)):\n",
    "\n",
    "    for j in range(len(P)):\n",
    "        if i == j:\n",
    "            pass\n",
    "\n",
    "        elif P[i][j] == 0:\n",
    "            print(\"%s -> %s : %s , %s\" %(i + 1, j + 1, i + 1, j + 1))\n",
    "\n",
    "        elif P[i][j] != 0:\n",
    "            print(\"%s -> %s : %s , \" %(i + 1, j + 1, i + 1), end = \"\")\n",
    "            a = pathFinder(i, j, P)\n",
    "            print(j + 1, \"// \", end = \"\")\n",
    "            print(\"sum\", a)"
   ]
  },
  {
   "cell_type": "code",
   "execution_count": 12,
   "metadata": {},
   "outputs": [],
   "source": [
    "def floyd(array):\n",
    "    _len = len(array)\n",
    "    P = [[0 for n in range(_len)] for p in range(_len)]\n",
    "    D = array[:]\n",
    "\n",
    "    for k in range(_len):\n",
    "        \n",
    "        for i in range(_len):\n",
    "            \n",
    "            for j in range(_len):\n",
    "                if (D[i][j] > D[i][k] + D[k][j]):\n",
    "                    D[i][j] = D[i][k] + D[k][j]\n",
    "                    P[i][j] = k + 1\n",
    "                \n",
    "    return P"
   ]
  },
  {
   "cell_type": "code",
   "execution_count": 37,
   "metadata": {},
   "outputs": [],
   "source": [
    "def pathFinder(i, j, P):\n",
    "    global weights\n",
    "    via = P[i][j]\n",
    "    \n",
    "    if via != 0:\n",
    "        d1 = pathFinder(i, via - 1, P)\n",
    "        print(via, \", \", end = \"\")\n",
    "        d2 = pathFinder(via - 1, j, P)\n",
    "        \n",
    "        return d1 + d2\n",
    "        \n",
    "    else:\n",
    "        return weights[i][j]"
   ]
  },
  {
   "cell_type": "code",
   "execution_count": 38,
   "metadata": {},
   "outputs": [
    {
     "data": {
      "text/plain": [
       "[[0, 0, 4, 0, 2],\n",
       " [0, 0, 5, 5, 0],\n",
       " [0, 1, 0, 1, 2],\n",
       " [3, 3, 0, 0, 3],\n",
       " [4, 4, 4, 0, 0]]"
      ]
     },
     "execution_count": 38,
     "metadata": {},
     "output_type": "execute_result"
    }
   ],
   "source": [
    "weights = [[0, 4, 100, 6, 100], \n",
    "           [3, 0, 100, 100, 2], \n",
    "           [2, 7, 0, 100, 100], \n",
    "           [100, 100, 5, 0, 20], \n",
    "           [100, 100, 10, 4, 0]]\n",
    "\n",
    "P = floyd(weights)\n",
    "P"
   ]
  },
  {
   "cell_type": "code",
   "execution_count": 66,
   "metadata": {},
   "outputs": [],
   "source": [
    "def paths(P):\n",
    "    global weights\n",
    "    \n",
    "    path_list = []\n",
    "    \n",
    "    for i in range(len(P)):\n",
    "\n",
    "        for j in range(len(P)):\n",
    "            if i == j:\n",
    "                pass\n",
    "\n",
    "            elif P[i][j] == 0:\n",
    "                print(\"%s -> %s : %s , %s\" %(i + 1, j + 1, i + 1, j + 1))\n",
    "                path_list.append((i, j, weights[i][j]))\n",
    "\n",
    "            elif P[i][j] != 0:\n",
    "                print(\"%s -> %s : %s , \" %(i + 1, j + 1, i + 1), end = \"\")\n",
    "                a = pathFinder(i, j, P)\n",
    "                print(j + 1, \"// \", end = \"\")\n",
    "                print(\"sum\", a)\n",
    "                path_list.append((i, j, a))\n",
    "            "
   ]
  },
  {
   "cell_type": "code",
   "execution_count": 59,
   "metadata": {},
   "outputs": [
    {
     "name": "stdout",
     "output_type": "stream",
     "text": [
      "1 -> 2 : 1 , 2\n",
      "1 -> 3 : 1 , 4 , 3 // sum 11\n",
      "1 -> 4 : 1 , 4\n",
      "1 -> 5 : 1 , 2 , 5 // sum 6\n",
      "2 -> 1 : 2 , 1\n",
      "2 -> 3 : 2 , 5 , 4 , 3 // sum 11\n",
      "2 -> 4 : 2 , 5 , 4 // sum 6\n",
      "2 -> 5 : 2 , 5\n",
      "3 -> 1 : 3 , 1\n",
      "3 -> 2 : 3 , 1 , 2 // sum 6\n",
      "3 -> 4 : 3 , 1 , 4 // sum 8\n",
      "3 -> 5 : 3 , 1 , 2 , 5 // sum 8\n",
      "4 -> 1 : 4 , 3 , 1 // sum 7\n",
      "4 -> 2 : 4 , 3 , 1 , 2 // sum 11\n",
      "4 -> 3 : 4 , 3\n",
      "4 -> 5 : 4 , 3 , 1 , 2 , 5 // sum 13\n",
      "5 -> 1 : 5 , 4 , 3 , 1 // sum 11\n",
      "5 -> 2 : 5 , 4 , 3 , 1 , 2 // sum 15\n",
      "5 -> 3 : 5 , 4 , 3 // sum 9\n",
      "5 -> 4 : 5 , 4\n"
     ]
    }
   ],
   "source": [
    "for i in range(len(P)):\n",
    "\n",
    "    for j in range(len(P)):\n",
    "        if i == j:\n",
    "            pass\n",
    "\n",
    "        elif P[i][j] == 0:\n",
    "            print(\"%s -> %s : %s , %s\" %(i + 1, j + 1, i + 1, j + 1))\n",
    "\n",
    "        elif P[i][j] != 0:\n",
    "            print(\"%s -> %s : %s , \" %(i + 1, j + 1, i + 1), end = \"\")\n",
    "            a = pathFinder(i, j, P)\n",
    "            print(j + 1, \"// \", end = \"\")\n",
    "            print(\"sum\", a)"
   ]
  },
  {
   "cell_type": "code",
   "execution_count": 67,
   "metadata": {},
   "outputs": [
    {
     "name": "stdout",
     "output_type": "stream",
     "text": [
      "1 -> 2 : 1 , 2\n",
      "1 -> 3 : 1 , 4 , 3 // sum 11\n",
      "1 -> 4 : 1 , 4\n",
      "1 -> 5 : 1 , 2 , 5 // sum 6\n",
      "2 -> 1 : 2 , 1\n",
      "2 -> 3 : 2 , 5 , 4 , 3 // sum 11\n",
      "2 -> 4 : 2 , 5 , 4 // sum 6\n",
      "2 -> 5 : 2 , 5\n",
      "3 -> 1 : 3 , 1\n",
      "3 -> 2 : 3 , 1 , 2 // sum 6\n",
      "3 -> 4 : 3 , 1 , 4 // sum 8\n",
      "3 -> 5 : 3 , 1 , 2 , 5 // sum 8\n",
      "4 -> 1 : 4 , 3 , 1 // sum 7\n",
      "4 -> 2 : 4 , 3 , 1 , 2 // sum 11\n",
      "4 -> 3 : 4 , 3\n",
      "4 -> 5 : 4 , 3 , 1 , 2 , 5 // sum 13\n",
      "5 -> 1 : 5 , 4 , 3 , 1 // sum 11\n",
      "5 -> 2 : 5 , 4 , 3 , 1 , 2 // sum 15\n",
      "5 -> 3 : 5 , 4 , 3 // sum 9\n",
      "5 -> 4 : 5 , 4\n"
     ]
    },
    {
     "ename": "TypeError",
     "evalue": "sort() takes no positional arguments",
     "output_type": "error",
     "traceback": [
      "\u001b[1;31m---------------------------------------------------------------------------\u001b[0m",
      "\u001b[1;31mTypeError\u001b[0m                                 Traceback (most recent call last)",
      "\u001b[1;32m<ipython-input-67-8e72dea6fdb1>\u001b[0m in \u001b[0;36m<module>\u001b[1;34m\u001b[0m\n\u001b[1;32m----> 1\u001b[1;33m \u001b[0mpaths\u001b[0m\u001b[1;33m(\u001b[0m\u001b[0mP\u001b[0m\u001b[1;33m)\u001b[0m\u001b[1;33m\u001b[0m\u001b[1;33m\u001b[0m\u001b[0m\n\u001b[0m",
      "\u001b[1;32m<ipython-input-66-8c99cc14a3ef>\u001b[0m in \u001b[0;36mpaths\u001b[1;34m(P)\u001b[0m\n\u001b[0;32m     21\u001b[0m                 \u001b[0mpath_list\u001b[0m\u001b[1;33m.\u001b[0m\u001b[0mappend\u001b[0m\u001b[1;33m(\u001b[0m\u001b[1;33m(\u001b[0m\u001b[0mi\u001b[0m\u001b[1;33m,\u001b[0m \u001b[0mj\u001b[0m\u001b[1;33m,\u001b[0m \u001b[0ma\u001b[0m\u001b[1;33m)\u001b[0m\u001b[1;33m)\u001b[0m\u001b[1;33m\u001b[0m\u001b[1;33m\u001b[0m\u001b[0m\n\u001b[0;32m     22\u001b[0m \u001b[1;33m\u001b[0m\u001b[0m\n\u001b[1;32m---> 23\u001b[1;33m     \u001b[0mprint\u001b[0m\u001b[1;33m(\u001b[0m\u001b[0mpath_list\u001b[0m\u001b[1;33m.\u001b[0m\u001b[0msort\u001b[0m\u001b[1;33m(\u001b[0m\u001b[1;33m-\u001b[0m\u001b[1;36m1\u001b[0m\u001b[1;33m)\u001b[0m\u001b[1;33m)\u001b[0m\u001b[1;33m\u001b[0m\u001b[1;33m\u001b[0m\u001b[0m\n\u001b[0m",
      "\u001b[1;31mTypeError\u001b[0m: sort() takes no positional arguments"
     ]
    }
   ],
   "source": [
    "paths(P)"
   ]
  },
  {
   "cell_type": "code",
   "execution_count": 46,
   "metadata": {},
   "outputs": [],
   "source": [
    "def a(i, j, P):\n",
    "    if i == j:\n",
    "        pass\n",
    "\n",
    "    elif P[i][j] == 0:\n",
    "        print(\"%s -> %s : %s , %s\" %(i + 1, j + 1, i + 1, j + 1))\n",
    "\n",
    "    elif P[i][j] != 0:\n",
    "        print(\"%s -> %s : %s , \" %(i + 1, j + 1, i + 1), end = \"\")\n",
    "        a = pathFinder(i, j, P)\n",
    "        print(j + 1, \"// \", end = \"\")\n",
    "        print(\"sum =\", a)\n",
    "    return"
   ]
  },
  {
   "cell_type": "code",
   "execution_count": 47,
   "metadata": {},
   "outputs": [
    {
     "name": "stdout",
     "output_type": "stream",
     "text": [
      "4 -> 5 : 4 , 3 , 1 , 2 , 5 // sum = 13\n"
     ]
    }
   ],
   "source": [
    "a(3, 4, P)"
   ]
  },
  {
   "cell_type": "code",
   "execution_count": 48,
   "metadata": {},
   "outputs": [
    {
     "name": "stdout",
     "output_type": "stream",
     "text": [
      "5 -> 2 : 5 , 4 , 3 , 1 , 2 // sum = 15\n"
     ]
    }
   ],
   "source": [
    "a(4, 1, P)"
   ]
  },
  {
   "cell_type": "code",
   "execution_count": null,
   "metadata": {},
   "outputs": [],
   "source": []
  }
 ],
 "metadata": {
  "kernelspec": {
   "display_name": "Python 3",
   "language": "python",
   "name": "python3"
  },
  "language_info": {
   "codemirror_mode": {
    "name": "ipython",
    "version": 3
   },
   "file_extension": ".py",
   "mimetype": "text/x-python",
   "name": "python",
   "nbconvert_exporter": "python",
   "pygments_lexer": "ipython3",
   "version": "3.7.3"
  }
 },
 "nbformat": 4,
 "nbformat_minor": 2
}
