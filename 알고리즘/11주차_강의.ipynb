{
 "cells": [
  {
   "cell_type": "markdown",
   "metadata": {},
   "source": [
    "## 다익스트라 알고리즘(Dijkstra algorithm)\n",
    "\n",
    "크러스컬, 프림 알고리즘과 같은 문제를 해결하지만 노드 사이의 연결에 방향성이 있다는 점이 다름.  \n",
    "즉 두 노드 사이의 가중치가 연결의 방향에 따라 다름.\n",
    "\n",
    "단, 크러스컬 알고리즘과 프림 알고리즘이 exahustive search 기법인데 반해,  \n",
    "다익스트라 알고리즘은 각 목적지까지의 최단 경로들 중에서 가장 짧은 경로를 구한다.\n",
    "\n",
    "------\n",
    "#### 1. 최단 경로 문제(단일 출발점)\n",
    "\n",
    "출발지에서 목적지에 이르는 최단 경로를 찾는 문제.\n",
    "\n",
    "출발점은 항상 고정되어 있고, 새로운 노드를 추가할 때는 \"출발점에서 추가할 노드까지의 거리\"와  \n",
    "\"최근에 추가된 노드에서 추가할 노드까지의 거리\"를 모두 고려해야 한다.\n",
    "\n",
    "(추가) 최단 경로를 계산하므로, 이미 트리에 포함된 노드 사이의 가중치는 유지되어야 한다.\n",
    "\n",
    "    예시)\n",
    "    N1 <=> N3 (W = 7)\n",
    "    N1 <=> N5 (W = 14)\n",
    "    N3 <=> N5 (W = 5)\n",
    "    따라서, 최소 가중치는 \"7 + 5 = 12\"의 꼴로 연산이 이루어짐.\n",
    "\n",
    "아래처럼 방향성이 있는 가중치 배열 데이터를 크러스컬 알고리즘에 이용한다면 결과가 다르게 나올 수 있다.  \n",
    "다만, 아래의 데이터는 우연히 결과가 같게 나오는 듯 하다고 함.\n",
    "\n",
    "------\n",
    "#### 2. 최단 경로 문제(모든 출발점)\n",
    "\n"
   ]
  },
  {
   "cell_type": "code",
   "execution_count": 85,
   "metadata": {},
   "outputs": [],
   "source": [
    "def Dst(array_weights):\n",
    "    distance = [0]  # 출발점 노드(Node 1)와 다른 노드 사이의 최단거리. distance[0] = 출발점 노드와 출발점 노드 사이의 거리이므로 0으로 초기화.(단, 출발점 노드를 방문했다는 의미는 아님.)\n",
    "    \n",
    "    for n in range(len(array_weights) - 1):\n",
    "        distance.append(999)  # 아직 어떤 노드도 방문하지 않았으므로 모두 무한대(999)로 초기화.\n",
    "    \n",
    "    visitted = []  # 방문한 적이 있는 노드를 저장. 최초 상태에서는 방문한 노드가 없으므로 공집합으로 초기화.\n",
    "    not_visitted = [n for n in range(1, len(array_weights) + 1)]  # 방문한 적이 없는 노드를 저장. 각 요소는 노드의 번호를 의미하도록 초기화.\n",
    "\n",
    "    ##################################### 이상은 초기화 코드 #####################################\n",
    "    \n",
    "    while len(not_visitted) > 0:  # 모든 노드를 방문하기 전에는 최단거리를 확정할 수 없으므로 not_visitted가 공집합이 되어야만 경로 탐색이 종료된다.\n",
    "        \n",
    "        visit, _min = 0, 999\n",
    "        for i in range(len(distance)):  # 거리가 최소인 노드의 index를 반환.\n",
    "            if distance[i] < _min and distance[i] > 0:\n",
    "                visit, _min = i, distance[i]\n",
    "        \n",
    "        print(\"Visit:\", visit)\n",
    "        \n",
    "        visitted.append(not_visitted[visit])  # 앞의 노드를 방문한 노드 목록에 추가.\n",
    "        del not_visitted[visit]  # 방문한 노드를 방문하지 않은 노드 목록에서 삭제.\n",
    "        \n",
    "        for i in range(len(distance)):  # 방문한 노드를 이용해 distance를 재설정.\n",
    "            if distance[i] < 999 and array_weights[visit][i] < 999:\n",
    "                distance[i] = distance[i] + array_weights[visit][i]\n",
    "                print(\"1\")\n",
    "            \n",
    "            elif distance[i] == 999 and array_weights[visit][i] < 999:\n",
    "                distance[i] = array_weights[visit][i]\n",
    "                print(\"2\")\n",
    "        distance[visit] = 0\n",
    "# (\"출발점 노드<=>i번(0 = 1번(출발점 노드)) 노드 사이의 최단거리 값\" + \"i번 노드와 이웃한 다른 노드들 사이의 거리 값\" = 재설정할 값.(단, 거리가 무한이면 바꾸지 않음.)\n",
    "\n",
    "        print(\"D:\", distance)\n",
    "        print(\"Visitted:\", visitted)\n",
    "        print(\"Not visitted:\", not_visitted, \"\\n\")\n",
    "    \n",
    "    return visitted"
   ]
  },
  {
   "cell_type": "code",
   "execution_count": 86,
   "metadata": {},
   "outputs": [
    {
     "name": "stdout",
     "output_type": "stream",
     "text": [
      "Visit: 0\n",
      "1\n",
      "2\n",
      "2\n",
      "2\n",
      "2\n",
      "D: [0, 8, 7, 20, 14, 999]\n",
      "Visitted: [1]\n",
      "Not visitted: [2, 3, 4, 5, 6] \n",
      "\n",
      "Visit: 2\n",
      "1\n",
      "1\n",
      "D: [0, 8, 0, 20, 19, 999]\n",
      "Visitted: [1, 4]\n",
      "Not visitted: [2, 3, 5, 6] \n",
      "\n",
      "Visit: 1\n",
      "1\n",
      "1\n",
      "D: [0, 0, 0, 33, 19, 999]\n",
      "Visitted: [1, 4, 3]\n",
      "Not visitted: [2, 5, 6] \n",
      "\n",
      "Visit: 4\n"
     ]
    },
    {
     "ename": "IndexError",
     "evalue": "list index out of range",
     "output_type": "error",
     "traceback": [
      "\u001b[1;31m---------------------------------------------------------------------------\u001b[0m",
      "\u001b[1;31mIndexError\u001b[0m                                Traceback (most recent call last)",
      "\u001b[1;32m<ipython-input-86-ccc25297512c>\u001b[0m in \u001b[0;36m<module>\u001b[1;34m\u001b[0m\n\u001b[0;32m      6\u001b[0m            [999, 999, 999, 10, 999, 0]]  # node 6\n\u001b[0;32m      7\u001b[0m \u001b[1;33m\u001b[0m\u001b[0m\n\u001b[1;32m----> 8\u001b[1;33m \u001b[0mDst\u001b[0m\u001b[1;33m(\u001b[0m\u001b[0mweights\u001b[0m\u001b[1;33m)\u001b[0m\u001b[1;33m\u001b[0m\u001b[1;33m\u001b[0m\u001b[0m\n\u001b[0m",
      "\u001b[1;32m<ipython-input-85-e1cf583c7f01>\u001b[0m in \u001b[0;36mDst\u001b[1;34m(array_weights)\u001b[0m\n\u001b[0;32m     19\u001b[0m         \u001b[0mprint\u001b[0m\u001b[1;33m(\u001b[0m\u001b[1;34m\"Visit:\"\u001b[0m\u001b[1;33m,\u001b[0m \u001b[0mvisit\u001b[0m\u001b[1;33m)\u001b[0m\u001b[1;33m\u001b[0m\u001b[1;33m\u001b[0m\u001b[0m\n\u001b[0;32m     20\u001b[0m \u001b[1;33m\u001b[0m\u001b[0m\n\u001b[1;32m---> 21\u001b[1;33m         \u001b[0mvisitted\u001b[0m\u001b[1;33m.\u001b[0m\u001b[0mappend\u001b[0m\u001b[1;33m(\u001b[0m\u001b[0mnot_visitted\u001b[0m\u001b[1;33m[\u001b[0m\u001b[0mvisit\u001b[0m\u001b[1;33m]\u001b[0m\u001b[1;33m)\u001b[0m  \u001b[1;31m# 앞의 노드를 방문한 노드 목록에 추가.\u001b[0m\u001b[1;33m\u001b[0m\u001b[1;33m\u001b[0m\u001b[0m\n\u001b[0m\u001b[0;32m     22\u001b[0m         \u001b[1;32mdel\u001b[0m \u001b[0mnot_visitted\u001b[0m\u001b[1;33m[\u001b[0m\u001b[0mvisit\u001b[0m\u001b[1;33m]\u001b[0m  \u001b[1;31m# 방문한 노드를 방문하지 않은 노드 목록에서 삭제.\u001b[0m\u001b[1;33m\u001b[0m\u001b[1;33m\u001b[0m\u001b[0m\n\u001b[0;32m     23\u001b[0m \u001b[1;33m\u001b[0m\u001b[0m\n",
      "\u001b[1;31mIndexError\u001b[0m: list index out of range"
     ]
    }
   ],
   "source": [
    "weights = [[0, 8, 7, 20, 14, 999],  # node 1\n",
    "           [999, 0, 999, 13, 999, 999],  # node 2\n",
    "           [999, 999, 0, 999, 5, 999],  # node 3\n",
    "           [12, 999, 999, 0, 999, 999],  # node 4\n",
    "           [11, 999, 999, 6, 0, 4],  # node 5\n",
    "           [999, 999, 999, 10, 999, 0]]  # node 6\n",
    "\n",
    "Dst(weights)"
   ]
  },
  {
   "cell_type": "code",
   "execution_count": 35,
   "metadata": {},
   "outputs": [
    {
     "data": {
      "text/plain": [
       "[0, 8, 7, 20, 999, 999]"
      ]
     },
     "execution_count": 35,
     "metadata": {},
     "output_type": "execute_result"
    }
   ],
   "source": [
    "d = [0, 999, 999, 999, 999, 999]\n",
    "test = [0, 8, 7, 20, 10000, 1000]\n",
    "\n",
    "for k in range(len(d)):\n",
    "    d[k] = d[0] + test[k] if test[k] < 999 else d[k]\n",
    "\n",
    "d"
   ]
  },
  {
   "cell_type": "code",
   "execution_count": null,
   "metadata": {},
   "outputs": [],
   "source": []
  }
 ],
 "metadata": {
  "kernelspec": {
   "display_name": "Python 3",
   "language": "python",
   "name": "python3"
  },
  "language_info": {
   "codemirror_mode": {
    "name": "ipython",
    "version": 3
   },
   "file_extension": ".py",
   "mimetype": "text/x-python",
   "name": "python",
   "nbconvert_exporter": "python",
   "pygments_lexer": "ipython3",
   "version": "3.7.3"
  }
 },
 "nbformat": 4,
 "nbformat_minor": 2
}
