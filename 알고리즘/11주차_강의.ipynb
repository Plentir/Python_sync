{
 "cells": [
  {
   "cell_type": "markdown",
   "metadata": {},
   "source": [
    "## 다익스트라 알고리즘(Dijkstra algorithm)\n",
    "\n",
    "크러스컬, 프림 알고리즘과 같은 문제를 해결하지만 노드 사이의 연결에 방향성이 있다는 점이 다름.  \n",
    "즉 두 노드 사이의 가중치가 연결의 방향에 따라 다름.\n",
    "\n",
    "단, 크러스컬 알고리즘과 프림 알고리즘이 exahustive search 기법인데 반해,  \n",
    "다익스트라 알고리즘은 각 목적지까지의 최단 경로들 중에서 가장 짧은 경로를 구한다.\n",
    "\n",
    "------\n",
    "#### 1. 최단 경로 문제(단일 출발점)\n",
    "\n",
    "출발지에서 목적지에 이르는 최단 경로를 찾는 문제.\n",
    "\n",
    "출발점은 항상 고정되어 있고, 새로운 노드를 추가할 때는 \"출발점에서 추가할 노드까지의 거리\"와  \n",
    "\"최근에 추가된 노드에서 추가할 노드까지의 거리\"를 모두 고려해야 한다.\n",
    "\n",
    "(추가) 최단 경로를 계산하므로, 이미 트리에 포함된 노드 사이의 가중치는 유지되어야 한다.\n",
    "\n",
    "    예시)\n",
    "    N1 <=> N3 (W = 7)\n",
    "    N1 <=> N5 (W = 14)\n",
    "    N3 <=> N5 (W = 5)\n",
    "    따라서, 최소 가중치는 \"7 + 5 = 12\"의 꼴로 연산이 이루어짐.\n",
    "\n",
    "아래처럼 방향성이 있는 가중치 배열 데이터를 크러스컬 알고리즘에 이용한다면 결과가 다르게 나올 수 있다.  \n",
    "다만, 아래의 데이터는 우연히 결과가 같게 나오는 듯 하다고 함.\n",
    "\n",
    "------\n",
    "#### 2. 최단 경로 문제(모든 출발점)\n",
    "\n"
   ]
  },
  {
   "cell_type": "code",
   "execution_count": 3,
   "metadata": {},
   "outputs": [],
   "source": [
    "weights = [[-1, 8, 7, 20, 14, 999],  # node 1\n",
    "           [999, -1, 999, 13, 999, 999],  # node 2\n",
    "           [999, 999, -1, 999, 5, 999],  # node 3\n",
    "           [12, 999, 999, -1, 999, 999],  # node 4\n",
    "           [11, 999, 999, 6, -1, 4],  # node 5\n",
    "           [999, 999, 999, 10, 999, -1]]  # node 6\n",
    "\n",
    "Dst(weights)"
   ]
  },
  {
   "cell_type": "code",
   "execution_count": 4,
   "metadata": {},
   "outputs": [],
   "source": [
    "def Dst(array_weights):\n",
    "    pass"
   ]
  },
  {
   "cell_type": "code",
   "execution_count": null,
   "metadata": {},
   "outputs": [],
   "source": []
  }
 ],
 "metadata": {
  "kernelspec": {
   "display_name": "Python 3",
   "language": "python",
   "name": "python3"
  },
  "language_info": {
   "codemirror_mode": {
    "name": "ipython",
    "version": 3
   },
   "file_extension": ".py",
   "mimetype": "text/x-python",
   "name": "python",
   "nbconvert_exporter": "python",
   "pygments_lexer": "ipython3",
   "version": "3.7.3"
  }
 },
 "nbformat": 4,
 "nbformat_minor": 2
}
