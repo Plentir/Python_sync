{
 "cells": [
  {
   "cell_type": "code",
   "execution_count": null,
   "metadata": {},
   "outputs": [],
   "source": [
    "\"\"\"\n",
    "nodes = ((0, 0), (0, 7), (4, 0), (9, 7), (-7.86, 1.5), ())\n",
    "# node #:  N3,     N1,     N4,     N6,        N2,     N5\n",
    "\"\"\""
   ]
  },
  {
   "cell_type": "code",
   "execution_count": 3,
   "metadata": {
    "ExecuteTime": {
     "end_time": "2019-05-07T00:52:38.420236Z",
     "start_time": "2019-05-07T00:52:38.410086Z"
    }
   },
   "outputs": [
    {
     "name": "stdout",
     "output_type": "stream",
     "text": [
      "[[0, 6, 7, 999, 10, 9], [6, 0, 8, 999, 999, 999], [7, 8, 0, 4, 5, 999], [999, 999, 4, 0, 3, 999], [10, 999, 5, 3, 0, 11], [9, 999, 999, 999, 11, 0]]\n"
     ]
    }
   ],
   "source": [
    "tree = [(1, 2, 3, 4, 5, 6)]  # 노드가 부분 트리에 포함되어 있는지 표시. 초기에는 모두 다른 부분 트리에 포함.\n",
    "dist = [[0, 6, 7, 999, 10, 9], [6, 0, 8, 999, 999, 999], [7, 8, 0, 4, 5, 999],\n",
    "[999, 999, 4, 0, 3, 999], [10, 999, 5, 3, 0, 11], [9, 999, 999, 999, 11, 0]]\n",
    "T = []  # 간선을 만드는 노드쌍을 저장. ex) (1, 2), (4, 5), ...\n",
    "\n",
    "while flag == 1:\n",
    "    "
   ]
  },
  {
   "cell_type": "code",
   "execution_count": null,
   "metadata": {},
   "outputs": [],
   "source": []
  }
 ],
 "metadata": {
  "kernelspec": {
   "display_name": "Python 3",
   "language": "python",
   "name": "python3"
  },
  "language_info": {
   "codemirror_mode": {
    "name": "ipython",
    "version": 3
   },
   "file_extension": ".py",
   "mimetype": "text/x-python",
   "name": "python",
   "nbconvert_exporter": "python",
   "pygments_lexer": "ipython3",
   "version": "3.7.3"
  },
  "varInspector": {
   "cols": {
    "lenName": "10",
    "lenType": "10",
    "lenVar": "40"
   },
   "kernels_config": {
    "python": {
     "delete_cmd_postfix": "",
     "delete_cmd_prefix": "del ",
     "library": "var_list.py",
     "varRefreshCmd": "print(var_dic_list())"
    },
    "r": {
     "delete_cmd_postfix": ") ",
     "delete_cmd_prefix": "rm(",
     "library": "var_list.r",
     "varRefreshCmd": "cat(var_dic_list()) "
    }
   },
   "types_to_exclude": [
    "module",
    "function",
    "builtin_function_or_method",
    "instance",
    "_Feature"
   ],
   "window_display": false
  }
 },
 "nbformat": 4,
 "nbformat_minor": 2
}
