{
 "cells": [
  {
   "cell_type": "markdown",
   "metadata": {},
   "source": [
    "### **플로이드 알고리즘**\n",
    "\n",
    "#### 설명\n",
    "\n",
    "    D_k(i, j)\n",
    "\n",
    "리스트 D_k는 크기가 i * j인 2차원 행렬이다.  \n",
    "이때, 변수 i와 j는 i => j로 이동하는 의미를 가지고 k는 i => j로 이동할 때 거쳐갈 수 있는 경유지의 번호(0번 ~ k번까지.)를 말한다.  \n",
    "즉 D_3(4, 2)는 다음과 같은 의미이다.\n",
    "\n",
    "- 4번 노드에서 2번 노드로 이동한다.\n",
    "- 경유 가능한 노드는 1번, 2번, 3번이다.(0번은 경유하지 않는다는 의미로 해석한다.)  \n",
    "- noc = (4, 2), (4, 1, 2), (4, 3, 2), (4, 1, 3, 2), (4, 3, 1, 2): 총 5가지 경우가 있다.  \n",
    "- D_3(4, 2) = min(noc)이다.\n",
    "\n",
    "#### min(noc)을 계산할 때의 키 포인트\n",
    "- **_C(4, 1, 2) = D_0(4, 1) + D_0(1, 2)_ 이고,**  \n",
    "- **_C(4, 3, 2) = D_0(4, 3) + D_0(3, 2)_ 와 같다.**  \n",
    "다시 말해 거리를 계산할 때, 출발지  <=>"
   ]
  },
  {
   "cell_type": "markdown",
   "metadata": {},
   "source": [
    "------"
   ]
  },
  {
   "cell_type": "code",
   "execution_count": 5,
   "metadata": {},
   "outputs": [],
   "source": [
    "def Floyd(array_weights):\n",
    "    path = []\n",
    "    distance = []\n",
    "    \n",
    "    print(\"(%s => %s): %s => %s => %s\" %(1, 2, 3, 4, 5))\n",
    "    return path"
   ]
  },
  {
   "cell_type": "code",
   "execution_count": 6,
   "metadata": {},
   "outputs": [
    {
     "name": "stdout",
     "output_type": "stream",
     "text": [
      "(1 => 2): 3 => 4 => 5\n"
     ]
    },
    {
     "data": {
      "text/plain": [
       "[]"
      ]
     },
     "execution_count": 6,
     "metadata": {},
     "output_type": "execute_result"
    }
   ],
   "source": [
    "weights = [[0, 6, 4, 100, 100], \n",
    "           [100, 0, 100, 7, 5], \n",
    "           [3, 100, 0, 2, 100], \n",
    "           [100, 4, 100, 0, 6], \n",
    "           [2, 100, 7, 100, 0]]\n",
    "\n",
    "Floyd(weights)"
   ]
  },
  {
   "cell_type": "code",
   "execution_count": 1,
   "metadata": {},
   "outputs": [
    {
     "name": "stdout",
     "output_type": "stream",
     "text": [
      "<Input>\n",
      " 0   6   4  99  99\n",
      "99   0  99   7   5\n",
      " 3  99   0   2  99\n",
      "99   4  99   0   6\n",
      " 2  99   7  99   0\n",
      "################## Start! ##################\n",
      "k = 1\n",
      " 0   6   4  99  99\n",
      "99   0  99   7   5\n",
      " 3   9   0   2  99\n",
      "99   4  99   0   6\n",
      " 2   8   6  99   0\n",
      "\n",
      "k = 2\n",
      " 0   6   4  13  11\n",
      "99   0  99   7   5\n",
      " 3   9   0   2  14\n",
      "99   4  99   0   6\n",
      " 2   8   6  15   0\n",
      "\n",
      "k = 3\n",
      " 0   6   4   6  11\n",
      "99   0  99   7   5\n",
      " 3   9   0   2  14\n",
      "99   4  99   0   6\n",
      " 2   8   6   8   0\n",
      "\n",
      "k = 4\n",
      " 0   6   4   6  11\n",
      "99   0  99   7   5\n",
      " 3   6   0   2   8\n",
      "99   4  99   0   6\n",
      " 2   8   6   8   0\n",
      "\n",
      "k = 5\n",
      " 0   6   4   6  11\n",
      " 7   0  11   7   5\n",
      " 3   6   0   2   8\n",
      " 8   4  12   0   6\n",
      " 2   8   6   8   0\n",
      "################### End! ###################\n",
      "<Final>\n",
      " 0   6   4   6  11\n",
      " 7   0  11   7   5\n",
      " 3   6   0   2   8\n",
      " 8   4  12   0   6\n",
      " 2   8   6   8   0\n",
      "\n",
      "<P>\n",
      "[0, 0, 0, 3, 2]\n",
      "[5, 0, 5, 0, 0]\n",
      "[0, 4, 0, 0, 4]\n",
      "[5, 0, 5, 0, 0]\n",
      "[0, 1, 1, 3, 0]\n"
     ]
    }
   ],
   "source": [
    "def floyd(array_weights):\n",
    "    _len = len(array_weights)\n",
    "  \n",
    "    P = [[0 for n in range(_len)] for p in range(_len)]\n",
    "    D = [[array_weights[p][n] for n in range(_len)] for p in range(_len)]\n",
    "\n",
    "\n",
    "    print(\"<Input>\")\n",
    "    for n in range(_len):  # 양식에 맞게 출력.\n",
    "\n",
    "            for p in range(_len):\n",
    "                if p == _len - 1:\n",
    "                    print(\"%2s\\n\" %D[n][p], end = \"\")\n",
    "\n",
    "                else:\n",
    "                    print(\"%2s  \" %D[n][p], end = \"\")\n",
    "    print(\"################## Start! ##################\", end = \"\")\n",
    "\n",
    "\n",
    "    for k in range(_len):\n",
    "\n",
    "        for i in range(_len):\n",
    "            \n",
    "            for j in range(_len):\n",
    "                if D[i][k] + D[k][j] < D[i][j]:\n",
    "                    D[i][j] = D[i][k] + D[k][j]\n",
    "                    P[i][j] = k + 1\n",
    "        \n",
    "        \n",
    "        print(\"\\nk =\", k + 1)\n",
    "        for n in range(_len):  # 매 루프마다 결과 출력\n",
    "\n",
    "            for p in range(_len):\n",
    "                if p == _len - 1:\n",
    "                    print(\"%2s\\n\" %D[n][p], end = \"\")\n",
    "\n",
    "                else:\n",
    "                    print(\"%2s  \" %D[n][p], end = \"\")\n",
    "\n",
    "    \n",
    "    print(\"################### End! ###################\\n<Final>\")\n",
    "    for n in range(_len):  # 매 루프마다 결과 출력\n",
    "\n",
    "        for p in range(_len):\n",
    "            if p == _len - 1:\n",
    "                print(\"%2s\\n\" %D[n][p], end = \"\")\n",
    "\n",
    "            else:\n",
    "                print(\"%2s  \" %D[n][p], end = \"\")\n",
    "\n",
    "    return P\n",
    "\n",
    "\n",
    "if __name__ == \"__main__\":\n",
    "    P = floyd(\n",
    "        [\n",
    "            [0, 6, 4, 99, 99],\n",
    "            [99, 0, 99, 7, 5],\n",
    "            [3, 99, 0, 2, 99],\n",
    "            [99, 4, 99, 0, 6],\n",
    "            [2, 99, 7, 99, 0]\n",
    "        ]\n",
    "    )\n",
    "\n",
    "    print(\"\\n<P>\")\n",
    "    for i in range(len(P)):\n",
    "        print(P[i])"
   ]
  },
  {
   "cell_type": "code",
   "execution_count": 2,
   "metadata": {},
   "outputs": [],
   "source": [
    "def print_path(i, j, P):\n",
    "\n",
    "    if P[i][j] != 0:\n",
    "        print_path(i, P[i][j] - 1, P)\n",
    "        print(i + 1, P[i][j], j + 1)\n",
    "        print_path(P[i][j] - 1, j, P)\n",
    "    \n",
    "    return"
   ]
  },
  {
   "cell_type": "code",
   "execution_count": 3,
   "metadata": {},
   "outputs": [
    {
     "name": "stdout",
     "output_type": "stream",
     "text": [
      "1 3 4\n",
      "1 2 5\n",
      "2 5 1\n",
      "2 5 3\n",
      "5 1 3\n",
      "3 4 2\n",
      "3 4 5\n",
      "4 5 1\n",
      "4 5 3\n",
      "5 1 3\n",
      "5 1 2\n",
      "5 1 3\n",
      "5 1 3\n",
      "5 3 4\n"
     ]
    }
   ],
   "source": [
    "for i in range(len(P)):\n",
    "    for j in range(len(P)):\n",
    "        print_path(i, j, P)"
   ]
  },
  {
   "cell_type": "code",
   "execution_count": null,
   "metadata": {},
   "outputs": [],
   "source": []
  }
 ],
 "metadata": {
  "kernelspec": {
   "display_name": "Python 3",
   "language": "python",
   "name": "python3"
  },
  "language_info": {
   "codemirror_mode": {
    "name": "ipython",
    "version": 3
   },
   "file_extension": ".py",
   "mimetype": "text/x-python",
   "name": "python",
   "nbconvert_exporter": "python",
   "pygments_lexer": "ipython3",
   "version": "3.7.3"
  }
 },
 "nbformat": 4,
 "nbformat_minor": 2
}
