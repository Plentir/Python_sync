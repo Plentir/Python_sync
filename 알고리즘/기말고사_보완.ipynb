{
  "cells": [
    {
      "metadata": {
        "ExecuteTime": {
          "start_time": "2019-06-22T03:51:58.954414Z",
          "end_time": "2019-06-22T03:51:58.981489Z"
        },
        "trusted": true,
        "slideshow": {
          "slide_type": "slide"
        }
      },
      "cell_type": "code",
      "source": "def floyd(weights):\n    \"\"\"Finds all of the intermediate nodes from each nodes to the others.\"\"\"\n    \n    len_wg = len(weights)\n    P = [[0 for j in range(len_wg)] for i in range(len_wg)]\n    D = weights[:]\n\n    for k in range(len_wg):\n\n        for i in range(len_wg):\n\n            for j in range(len_wg):\n                if D[i][j] > D[i][k] + D[k][j]:\n                    D[i][j] = D[i][k] + D[k][j]\n                    P[i][j] = k + 1\n\n    return P",
      "execution_count": 2,
      "outputs": []
    },
    {
      "metadata": {
        "ExecuteTime": {
          "start_time": "2019-06-22T03:52:01.103755Z",
          "end_time": "2019-06-22T03:52:01.110124Z"
        },
        "trusted": true,
        "slideshow": {
          "slide_type": "subslide"
        }
      },
      "cell_type": "code",
      "source": "def pathfinder(i, j, P, path):\n    \"\"\"Returns an ordered list of intermediate nodes from node 'i' to node 'j'.\"\"\"\n\n    via = P[i][j]\n    \n    if via != 0:\n        pathfinder(i, via - 1, P, path)\n        path += [via,]\n        pathfinder(via - 1, j, P, path)\n        \n    return path",
      "execution_count": 3,
      "outputs": []
    },
    {
      "metadata": {
        "ExecuteTime": {
          "start_time": "2019-06-22T03:52:03.104096Z",
          "end_time": "2019-06-22T03:52:03.112183Z"
        },
        "trusted": true,
        "slideshow": {
          "slide_type": "subslide"
        }
      },
      "cell_type": "code",
      "source": "def weightsum(paths, weights):\n    \"\"\"Appends a sum of the each paths' own weights to the end of the lists.\"\"\"\n\n    len_paths = len(paths)\n    \n    for i in range(len_paths):\n        len_ele = len(paths[i])\n        wg = 0\n        \n        for j in range(len_ele - 1):\n            _from = paths[i][j] - 1\n            _to = paths[i][j + 1] - 1\n            wg += weights[_from][_to]\n        \n        paths[i] += (wg,)\n        \n    return paths",
      "execution_count": 4,
      "outputs": []
    },
    {
      "metadata": {
        "ExecuteTime": {
          "start_time": "2019-06-22T03:52:05.098648Z",
          "end_time": "2019-06-22T03:52:05.138651Z"
        },
        "trusted": true,
        "slideshow": {
          "slide_type": "subslide"
        }
      },
      "cell_type": "code",
      "source": "def pathpicker(P, weights, mode = \"pick\"):\n    \"\"\"Finds a path visiting all of the nodes and returns the shortest path.\n    \n    A parameter ['mode'] determines which result you would get and its defalut value is \"pick\".\n    If the parameter is ['mode'] = \"all\", returns all of the paths which is posible.\n    \"\"\"\n\n    len_wg = len(P)\n    paths = []\n\n    for i in range(len_wg):\n\n        for j in range(len_wg):\n            if i != j:\n                path = [i + 1,]\n                pathfinder(i, j, P, path)\n                path += [j + 1,]\n\n                if len(path) == len_wg or mode == \"all\":\n                    paths.append(tuple(path))\n                    \n    weightsum(paths, weights)\n    \n    if mode == \"all\":\n        return paths\n    \n    else:\n        sorted(paths, key = lambda lst: lst[-1])\n        \n        print(\"최단경로:\", end = \"\")\n        \n        for n in paths[0][:-1]:\n            print(\" %sv =>\" %n if n != paths[0][-2] else \" %sv\" %n, end = \"\")\n\n        print(\"\\n소요시간:\", paths[0][-1])\n        \n        return paths[0]",
      "execution_count": 5,
      "outputs": []
    },
    {
      "metadata": {
        "ExecuteTime": {
          "start_time": "2019-06-22T03:52:08.677485Z",
          "end_time": "2019-06-22T03:52:08.68269Z"
        },
        "code_folding": [],
        "trusted": true,
        "slideshow": {
          "slide_type": "fragment"
        }
      },
      "cell_type": "code",
      "source": "weights = [[0, 4, 100, 6, 100], \n           [3, 0, 100, 100, 2], \n           [2, 7, 0, 100, 100], \n           [100, 100, 5, 0, 20], \n           [100, 100, 10, 4, 0]]\n\nP = floyd(weights)",
      "execution_count": 6,
      "outputs": []
    },
    {
      "metadata": {
        "trusted": true,
        "ExecuteTime": {
          "start_time": "2019-06-22T03:52:11.067837Z",
          "end_time": "2019-06-22T03:52:11.086988Z"
        },
        "scrolled": true,
        "slideshow": {
          "slide_type": "slide"
        }
      },
      "cell_type": "code",
      "source": "pathpicker(P, weights)",
      "execution_count": 7,
      "outputs": [
        {
          "output_type": "stream",
          "text": "최단경로: 4v => 3v => 1v => 2v => 5v\n소요시간: 13\n",
          "name": "stdout"
        },
        {
          "output_type": "execute_result",
          "execution_count": 7,
          "data": {
            "text/plain": "(4, 3, 1, 2, 5, 13)"
          },
          "metadata": {}
        }
      ]
    },
    {
      "metadata": {
        "trusted": true,
        "ExecuteTime": {
          "start_time": "2019-06-22T03:52:18.590803Z",
          "end_time": "2019-06-22T03:52:18.597849Z"
        },
        "slideshow": {
          "slide_type": "subslide"
        }
      },
      "cell_type": "code",
      "source": "pathpicker(P, weights, mode=\"all\")",
      "execution_count": 8,
      "outputs": [
        {
          "output_type": "execute_result",
          "execution_count": 8,
          "data": {
            "text/plain": "[(1, 2, 4),\n (1, 4, 3, 11),\n (1, 4, 6),\n (1, 2, 5, 6),\n (2, 1, 3),\n (2, 5, 4, 3, 11),\n (2, 5, 4, 6),\n (2, 5, 2),\n (3, 1, 2),\n (3, 1, 2, 6),\n (3, 1, 4, 8),\n (3, 1, 2, 5, 8),\n (4, 3, 1, 7),\n (4, 3, 1, 2, 11),\n (4, 3, 5),\n (4, 3, 1, 2, 5, 13),\n (5, 4, 3, 1, 11),\n (5, 4, 3, 1, 2, 15),\n (5, 4, 3, 9),\n (5, 4, 4)]"
          },
          "metadata": {}
        }
      ]
    },
    {
      "metadata": {
        "trusted": true
      },
      "cell_type": "code",
      "source": "res[]",
      "execution_count": null,
      "outputs": []
    },
    {
      "metadata": {
        "ExecuteTime": {
          "start_time": "2019-06-21T02:20:13.299914Z",
          "end_time": "2019-06-21T02:20:13.312441Z"
        },
        "trusted": true,
        "slideshow": {
          "slide_type": "slide"
        }
      },
      "cell_type": "code",
      "source": "help(floyd)",
      "execution_count": 8,
      "outputs": [
        {
          "output_type": "stream",
          "text": "Help on function floyd in module __main__:\n\nfloyd(weights)\n    Finds all of the intermediate nodes from each nodes to the others.\n\n",
          "name": "stdout"
        }
      ]
    },
    {
      "metadata": {
        "ExecuteTime": {
          "start_time": "2019-06-21T02:20:14.06631Z",
          "end_time": "2019-06-21T02:20:14.079254Z"
        },
        "trusted": true,
        "slideshow": {
          "slide_type": "subslide"
        }
      },
      "cell_type": "code",
      "source": "help(pathfinder)",
      "execution_count": 9,
      "outputs": [
        {
          "output_type": "stream",
          "text": "Help on function pathfinder in module __main__:\n\npathfinder(i, j, P, path)\n    Returns an ordered list of intermediate nodes from node 'i' to node 'j'.\n\n",
          "name": "stdout"
        }
      ]
    },
    {
      "metadata": {
        "ExecuteTime": {
          "start_time": "2019-06-21T02:20:14.753418Z",
          "end_time": "2019-06-21T02:20:14.765918Z"
        },
        "trusted": true,
        "slideshow": {
          "slide_type": "subslide"
        }
      },
      "cell_type": "code",
      "source": "help(weightsum)",
      "execution_count": 10,
      "outputs": [
        {
          "output_type": "stream",
          "text": "Help on function weightsum in module __main__:\n\nweightsum(paths, weights)\n    Appends a sum of the each paths' own weights to the end of the lists.\n\n",
          "name": "stdout"
        }
      ]
    },
    {
      "metadata": {
        "ExecuteTime": {
          "start_time": "2019-06-21T02:20:15.39237Z",
          "end_time": "2019-06-21T02:20:15.397955Z"
        },
        "trusted": true,
        "slideshow": {
          "slide_type": "subslide"
        }
      },
      "cell_type": "code",
      "source": "help(pathpicker)",
      "execution_count": 11,
      "outputs": [
        {
          "output_type": "stream",
          "text": "Help on function pathpicker in module __main__:\n\npathpicker(P, weights, mode='pick')\n    Finds a path visiting all of the nodes and returns the shortest path.\n    \n    A parameter ['mode'] determines which result you would get and its defalut value is \"pick\".\n    If the parameter is ['mode'] = \"all\", returns all of the paths which is posible.\n\n",
          "name": "stdout"
        }
      ]
    },
    {
      "metadata": {
        "trusted": true,
        "ExecuteTime": {
          "start_time": "2019-06-22T03:50:58.177108Z",
          "end_time": "2019-06-22T03:50:58.317856Z"
        }
      },
      "cell_type": "code",
      "source": "lst = [1, 2, 3, 4, [5,]]\ntp = tuple(lst)\ntp += [0,]",
      "execution_count": 1,
      "outputs": [
        {
          "output_type": "error",
          "ename": "TypeError",
          "evalue": "can only concatenate tuple (not \"list\") to tuple",
          "traceback": [
            "\u001b[0;31m---------------------------------------------------------------------------\u001b[0m",
            "\u001b[0;31mTypeError\u001b[0m                                 Traceback (most recent call last)",
            "\u001b[0;32m<ipython-input-1-0b2d71a8b2e3>\u001b[0m in \u001b[0;36m<module>\u001b[0;34m\u001b[0m\n\u001b[1;32m      1\u001b[0m \u001b[0mlst\u001b[0m \u001b[0;34m=\u001b[0m \u001b[0;34m[\u001b[0m\u001b[0;36m1\u001b[0m\u001b[0;34m,\u001b[0m \u001b[0;36m2\u001b[0m\u001b[0;34m,\u001b[0m \u001b[0;36m3\u001b[0m\u001b[0;34m,\u001b[0m \u001b[0;36m4\u001b[0m\u001b[0;34m,\u001b[0m \u001b[0;34m[\u001b[0m\u001b[0;36m5\u001b[0m\u001b[0;34m,\u001b[0m\u001b[0;34m]\u001b[0m\u001b[0;34m]\u001b[0m\u001b[0;34m\u001b[0m\u001b[0m\n\u001b[1;32m      2\u001b[0m \u001b[0mtp\u001b[0m \u001b[0;34m=\u001b[0m \u001b[0mtuple\u001b[0m\u001b[0;34m(\u001b[0m\u001b[0mlst\u001b[0m\u001b[0;34m)\u001b[0m\u001b[0;34m\u001b[0m\u001b[0m\n\u001b[0;32m----> 3\u001b[0;31m \u001b[0mtp\u001b[0m \u001b[0;34m+=\u001b[0m \u001b[0;34m[\u001b[0m\u001b[0;36m0\u001b[0m\u001b[0;34m,\u001b[0m\u001b[0;34m]\u001b[0m\u001b[0;34m\u001b[0m\u001b[0m\n\u001b[0m",
            "\u001b[0;31mTypeError\u001b[0m: can only concatenate tuple (not \"list\") to tuple"
          ]
        }
      ]
    }
  ],
  "metadata": {
    "kernelspec": {
      "name": "python36",
      "display_name": "Python 3.6",
      "language": "python"
    },
    "language_info": {
      "mimetype": "text/x-python",
      "nbconvert_exporter": "python",
      "name": "python",
      "pygments_lexer": "ipython3",
      "version": "3.6.6",
      "file_extension": ".py",
      "codemirror_mode": {
        "version": 3,
        "name": "ipython"
      }
    },
    "celltoolbar": "Slideshow"
  },
  "nbformat": 4,
  "nbformat_minor": 1
}