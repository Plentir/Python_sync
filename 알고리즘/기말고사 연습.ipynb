{
 "cells": [
  {
   "cell_type": "markdown",
   "metadata": {},
   "source": [
    "# Kruskal algorithm\n",
    "\n",
    "- **알고리즘**\n",
    "    1. 가중치가 가장 작은 노드를 찾는다.\n",
    "    2. 두 노드를 연결한다.\n",
    "    3. 두 노드를 연결했을 때 loop가 생성되는지 검사하고, loop가 생성되지 않으면 섹션을 병합한다.\n",
    "    4. 앞의 과정을 모든 노드가 하나의 섹션으로 통합될 때까지 반복한다."
   ]
  },
  {
   "cell_type": "code",
   "execution_count": 3,
   "metadata": {},
   "outputs": [],
   "source": [
    "# 코드"
   ]
  },
  {
   "cell_type": "code",
   "execution_count": 2,
   "metadata": {},
   "outputs": [],
   "source": [
    "# 사용할 데이터\n",
    "weights = [[0, 8, 7, 20, 14, 1000],  # node 1\n",
    "           [1000, 0, 1000, 13, 1000, 1000],  # node 2\n",
    "           [1000, 1000, 0, 1000, 5, 1000],  # node 3\n",
    "           [12, 1000, 1000, 0, 1000, 1000],  # node 4\n",
    "           [11, 1000, 1000, 6, 0, 4],  # node 5\n",
    "           [1000, 1000, 1000, 10, 1000, 0]]  # node 6\n",
    "\n",
    "# Kruskal(weights)"
   ]
  },
  {
   "cell_type": "markdown",
   "metadata": {},
   "source": [
    "[See Dijkstra algorithm](#Dijkstra-algorithm)  \n",
    "[See Floyd algorithm](#Floyd-algorithm)  \n",
    "[See Back tracking](#Back-tracking)  \n",
    "[See Sequence alignment](#Sequence-alignment)  \n",
    "\n",
    "------\n",
    "------"
   ]
  },
  {
   "cell_type": "markdown",
   "metadata": {},
   "source": [
    "# Dijkstra algorithm\n",
    "\n",
    "- **알고리즘**\n",
    "    1. 가중치가 가장 작은 간선을 찾는다.\n",
    "    2. 출발점에서 각 노드까지의 최단거리(가중치의 합계)가 바뀌었는지 검사한다.\n",
    "    3. 최단거리가 바뀌었다면 값을 갱신한다.\n",
    "    4. 앞의 과정을 반복한다."
   ]
  },
  {
   "cell_type": "code",
   "execution_count": 5,
   "metadata": {},
   "outputs": [],
   "source": [
    "# 코드"
   ]
  },
  {
   "cell_type": "code",
   "execution_count": 4,
   "metadata": {},
   "outputs": [],
   "source": [
    "# 사용할 데이터\n",
    "weights = [[0, 8, 7, 20, 14, 1000],  # node 1\n",
    "           [1000, 0, 1000, 13, 1000, 1000],  # node 2\n",
    "           [1000, 1000, 0, 1000, 5, 1000],  # node 3\n",
    "           [12, 1000, 1000, 0, 1000, 1000],  # node 4\n",
    "           [11, 1000, 1000, 6, 0, 4],  # node 5\n",
    "           [1000, 1000, 1000, 10, 1000, 0]]  # node 6\n",
    "\n",
    "# T = Dst(weights)\n",
    "# print(T)"
   ]
  },
  {
   "cell_type": "markdown",
   "metadata": {},
   "source": [
    "[See Kruskal algorithm](#Kruskal-algorithm)  \n",
    "[See Floyd algorithm](#Floyd-algorithm)  \n",
    "[See Back tracking](#Back-tracking)  \n",
    "[See Sequence alignment](#Sequence-alignment)  \n",
    "\n",
    "------\n",
    "------"
   ]
  },
  {
   "cell_type": "markdown",
   "metadata": {},
   "source": [
    "# Floyd algorithm\n",
    "\n",
    "- 기본 지식  \n",
    "_<div style=\"color:#a199f1; font-size:18pt;\">D<sub>k</sub>(i, j) = min[D<sub>k-1</sub>(i, j), D<sub>k-1</sub>(i, k) + D<sub>k-1</sub>(k, j)]</div>_\n",
    "k = (0 ~ k)까지의 노드를 경유할 수 있다는 뜻.  \n",
    "i = 출발지 노드의 번호  \n",
    "j = 도착지 노드의 번호\n",
    "\n",
    "\n",
    "------\n",
    "<k = 0 (최초)>  \n",
    "\n",
    "| D<sub>0</sub> | i = 1 |  2 |  3 |  4 |  5 |\n",
    "|:-------------:|:-----:|:--:|:--:|:--:|:--:|\n",
    "|   **j = 1**   |   0   |  6 |  4 | 99 | 99 |\n",
    "|     **2**     |   99  |  0 | 99 |  7 |  5 |\n",
    "|     **3**     |   3   | 99 |  0 |  2 | 99 |\n",
    "|     **4**     |   99  |  4 | 99 |  0 |  6 |\n",
    "|     **5**     |   2   | 99 |  7 | 99 |  0 |\n",
    "\n",
    "\n",
    "<k = 1>  \n",
    "\n",
    "| D<sub>1</sub> | i = 1 | 2 |  3 |  4 |  5 |\n",
    "|:-------------:|:-----:|:-:|:--:|:--:|:--:|\n",
    "|   **j = 1**   |   0   | 6 |  4 | 99 | 99 |\n",
    "|     **2**     |   99  | 0 | 99 |  7 |  5 |\n",
    "|     **3**     |   3   | 9 |  0 |  2 | 99 |\n",
    "|     **4**     |   99  | 4 | 99 |  0 |  6 |\n",
    "|     **5**     |   2   | 8 |  6 | 99 |  0 |\n",
    "\n",
    "\n",
    "<k = 2>  \n",
    "\n",
    "| D<sub>2</sub> | i = 1 | 2 |  3 |  4 |  5 |\n",
    "|:-------------:|:-----:|:-:|:--:|:--:|:--:|\n",
    "|   **j = 1**   |   0   | 6 |  4 | 13 | 11 |\n",
    "|     **2**     |   99  | 0 | 99 |  7 |  5 |\n",
    "|     **3**     |   3   | 9 |  0 |  2 | 14 |\n",
    "|     **4**     |   99  | 4 | 99 |  0 |  6 |\n",
    "|     **5**     |   2   | 8 |  6 | 15 |  0 |\n",
    "\n",
    "\n",
    "<k = 3>  \n",
    "\n",
    "| D<sub>3</sub> | i = 1 | 2 |  3 |  4 |  5 |\n",
    "|:-------------:|:-----:|:-:|:--:|:--:|:--:|\n",
    "|   **j = 1**   |   0   | 6 |  4 |  6 | 11 |\n",
    "|     **2**     |   99  | 0 | 99 |  7 |  5 |\n",
    "|     **3**     |   3   | 9 |  0 |  2 | 14 |\n",
    "|     **4**     |   99  | 4 | 99 |  0 |  6 |\n",
    "|     **5**     |   2   | 8 |  6 |  8 |  0 |\n",
    "\n",
    "\n",
    "<k = 4>  \n",
    "\n",
    "| D<sub>4</sub> | i = 1 | 2 |  3 |  4 |  5 |\n",
    "|:-------------:|:-----:|:-:|:--:|:--:|:--:|\n",
    "|   **j = 1**   |   0   | 6 |  4 |  6 | 11 |\n",
    "|     **2**     |   99  | 0 | 99 |  7 |  5 |\n",
    "|     **3**     |   3   | 6 |  0 |  2 |  8 |\n",
    "|     **4**     |   99  | 4 | 99 |  0 |  6 |\n",
    "|     **5**     |   2   | 8 |  6 |  8 |  0 |\n",
    "\n",
    "\n",
    "<k = 5 (끝)>  \n",
    "\n",
    "| D<sub>5</sub> | i = 1 | 2 |  3 |  4 |  5 |\n",
    "|:-------------:|:-----:|:-:|:--:|:--:|:--:|\n",
    "|   **j = 1**   |   0   | 6 |  4 |  6 | 11 |\n",
    "|     **2**     |   7   | 0 | 11 |  7 |  5 |\n",
    "|     **3**     |   3   | 6 |  0 |  2 |  8 |\n",
    "|     **4**     |   8   | 4 | 12 |  0 |  6 |\n",
    "|     **5**     |   2   | 8 |  6 |  8 |  0 |\n",
    "\n",
    "\n",
    "------\n",
    "\n",
    "\n",
    "- 알고리즘  \n",
    "    1. _D<sub>k</sub>(i, j)_ plot...?"
   ]
  },
  {
   "cell_type": "code",
   "execution_count": 9,
   "metadata": {},
   "outputs": [],
   "source": [
    "# 코드"
   ]
  },
  {
   "cell_type": "code",
   "execution_count": 8,
   "metadata": {},
   "outputs": [],
   "source": [
    "# 사용할 데이터\n",
    "raw_data = [\n",
    "    [0, 6, 4, 99, 99],\n",
    "    [99, 0, 99, 7, 5],\n",
    "    [3, 99, 0, 2, 99],\n",
    "    [99, 4, 99, 0, 6],\n",
    "    [2, 99, 7, 99, 0]\n",
    "]\n",
    "\n",
    "# P = floyd(raw_data)"
   ]
  },
  {
   "cell_type": "markdown",
   "metadata": {},
   "source": [
    "[See Kruskal algorithm](#Kruskal-algorithm)  \n",
    "[See Dijkstra algorithm](#Dijkstra-algorithm)  \n",
    "[See Back tracking](#Back-tracking)  \n",
    "[See Sequence alignment](#Sequence-alignment)  \n",
    "\n",
    "------\n",
    "------"
   ]
  },
  {
   "cell_type": "markdown",
   "metadata": {},
   "source": [
    "# Back tracking\n",
    "\n",
    "\n",
    "- **알고리즘**\n",
    "    1. ?"
   ]
  },
  {
   "cell_type": "code",
   "execution_count": 12,
   "metadata": {},
   "outputs": [],
   "source": [
    "# 코드"
   ]
  },
  {
   "cell_type": "code",
   "execution_count": 13,
   "metadata": {},
   "outputs": [],
   "source": [
    "# 사용할 데이터\n",
    "B = [1, 2, 3, 4, 5, 6, 7, 8]"
   ]
  },
  {
   "cell_type": "markdown",
   "metadata": {},
   "source": [
    "[See Kruskal algorithm](#Kruskal-algorithm)  \n",
    "[See Dijkstra algorithm](#Dijkstra-algorithm)  \n",
    "[See Floyd algorithm](#Floyd-algorithm)  \n",
    "[See Sequence alignment](#Sequence-alignment)  \n",
    "\n",
    "------\n",
    "------"
   ]
  },
  {
   "cell_type": "markdown",
   "metadata": {},
   "source": [
    "# Sequence alignment\n",
    "\n",
    "\n",
    "- 알고리즘  \n",
    "    1. Sum matrix 생성하기.  \n",
    "        + 일치 = 1, 불일치 = 0으로 채워진 matrix를 생성한다.  \n",
    "        + 가로축과 세로축이 의미하는 sequence에 주의할 것.  \n",
    "    2. Sum matrix의 셀 값 업데이트하기.  \n",
    "        + 업데이트 시 알고리즘은 과제 제출했던 것 참고.  \n",
    "        + 우측 하단에서부터 좌측 상단 순서로 업데이트한다.  \n",
    "    3. Sum matrix를 이용해서 sequence 정렬하기.  \n",
    "        + 대각선으로 이동할지,  \n",
    "        + 오른쪽으로 이동할지,  \n",
    "        + 아래쪽으로 이동할지 선택해야 함."
   ]
  },
  {
   "cell_type": "code",
   "execution_count": 10,
   "metadata": {},
   "outputs": [],
   "source": [
    "# 코드"
   ]
  },
  {
   "cell_type": "code",
   "execution_count": 11,
   "metadata": {},
   "outputs": [],
   "source": [
    "# 사용할 데이터\n",
    "seq_ref = \"ABCNYRQCLCRPM\"  # col\n",
    "seq_target = \"AYCYNRCKCRBP\"  # row\n",
    "\n",
    "# ary = summatrix(seq_ref, seq_target)"
   ]
  },
  {
   "cell_type": "markdown",
   "metadata": {},
   "source": [
    "[See Kruskal algorithm](#Kruskal-algorithm)  \n",
    "[See Dijkstra algorithm](#Dijkstra-algorithm)  \n",
    "[See Floyd algorithm](#Floyd-algorithm)  \n",
    "[See Back tracking](#Back-tracking)  \n",
    "\n",
    "------\n",
    "------"
   ]
  },
  {
   "cell_type": "code",
   "execution_count": null,
   "metadata": {},
   "outputs": [],
   "source": []
  }
 ],
 "metadata": {
  "kernelspec": {
   "display_name": "Python 3",
   "language": "python",
   "name": "python3"
  },
  "language_info": {
   "codemirror_mode": {
    "name": "ipython",
    "version": 3
   },
   "file_extension": ".py",
   "mimetype": "text/x-python",
   "name": "python",
   "nbconvert_exporter": "python",
   "pygments_lexer": "ipython3",
   "version": "3.7.3"
  }
 },
 "nbformat": 4,
 "nbformat_minor": 2
}
