{
 "cells": [
  {
   "cell_type": "code",
   "execution_count": 15,
   "metadata": {
    "ExecuteTime": {
     "end_time": "2019-04-28T03:08:24.456701Z",
     "start_time": "2019-04-28T03:08:24.452708Z"
    },
    "collapsed": true
   },
   "outputs": [],
   "source": [
    "list_ = [1, 2] #리스트: 순서 있음, 편집 가능, 인덱싱 가능\n",
    "tuple_ = (1, 2) #튜플: 순서 ?, 편집 불가, 인덱싱 ?\n",
    "dictionary = {'a':1, 'b':2} #딕셔너리: 순서 없음, 편집 ?, 인덱싱 불가(불필요)"
   ]
  },
  {
   "cell_type": "code",
   "execution_count": 16,
   "metadata": {
    "ExecuteTime": {
     "end_time": "2019-04-28T03:08:24.483686Z",
     "start_time": "2019-04-28T03:08:24.458699Z"
    },
    "collapsed": true
   },
   "outputs": [
    {
     "data": {
      "text/plain": [
       "list"
      ]
     },
     "execution_count": 16,
     "metadata": {},
     "output_type": "execute_result"
    }
   ],
   "source": [
    "type(list_)"
   ]
  },
  {
   "cell_type": "code",
   "execution_count": 17,
   "metadata": {
    "ExecuteTime": {
     "end_time": "2019-04-28T03:08:24.496689Z",
     "start_time": "2019-04-28T03:08:24.486682Z"
    },
    "collapsed": true
   },
   "outputs": [
    {
     "data": {
      "text/plain": [
       "'3'"
      ]
     },
     "execution_count": 17,
     "metadata": {},
     "output_type": "execute_result"
    }
   ],
   "source": [
    "str(3)"
   ]
  },
  {
   "cell_type": "code",
   "execution_count": 18,
   "metadata": {
    "ExecuteTime": {
     "end_time": "2019-04-28T03:08:24.505671Z",
     "start_time": "2019-04-28T03:08:24.498676Z"
    },
    "collapsed": true
   },
   "outputs": [
    {
     "data": {
      "text/plain": [
       "3"
      ]
     },
     "execution_count": 18,
     "metadata": {},
     "output_type": "execute_result"
    }
   ],
   "source": [
    "int('3')"
   ]
  },
  {
   "cell_type": "code",
   "execution_count": 19,
   "metadata": {
    "ExecuteTime": {
     "end_time": "2019-04-28T03:08:24.515666Z",
     "start_time": "2019-04-28T03:08:24.507670Z"
    },
    "collapsed": true
   },
   "outputs": [
    {
     "data": {
      "text/plain": [
       "list"
      ]
     },
     "execution_count": 19,
     "metadata": {},
     "output_type": "execute_result"
    }
   ],
   "source": [
    "tuple_l = list(tuple_)\n",
    "type(tuple_l)"
   ]
  },
  {
   "cell_type": "code",
   "execution_count": 20,
   "metadata": {
    "ExecuteTime": {
     "end_time": "2019-04-28T03:08:24.526672Z",
     "start_time": "2019-04-28T03:08:24.517664Z"
    },
    "collapsed": true
   },
   "outputs": [
    {
     "name": "stdout",
     "output_type": "stream",
     "text": [
      "{1, 2}\n"
     ]
    },
    {
     "data": {
      "text/plain": [
       "set"
      ]
     },
     "execution_count": 20,
     "metadata": {},
     "output_type": "execute_result"
    }
   ],
   "source": [
    "set_l = set(list_) #list를 집합(set)로 변환. 집합 연산자(합, 차, 교집합) 사용 가능.\n",
    "print(set_l)\n",
    "type(set_l)"
   ]
  },
  {
   "cell_type": "code",
   "execution_count": 21,
   "metadata": {
    "ExecuteTime": {
     "end_time": "2019-04-28T03:08:24.545648Z",
     "start_time": "2019-04-28T03:08:24.527658Z"
    },
    "collapsed": true
   },
   "outputs": [
    {
     "name": "stdout",
     "output_type": "stream",
     "text": [
      "['ball', 'ball', 'ball', 'ball']\n",
      "['ball_1', 'ball_2', 'ball_3', 'ball_4']\n"
     ]
    }
   ],
   "source": [
    "#range(start, end, step).\n",
    "box = ['boll', 'boll', 'boll', 'boll']\n",
    "box_n = ['boll', 'boll', 'boll', 'boll']\n",
    "\n",
    "for i in range(0, 3+1):\n",
    "    box[i] = 'ball'\n",
    "    box_n[i] = 'ball_%s' %(i+1)\n",
    "\n",
    "print(box)\n",
    "print(box_n)"
   ]
  },
  {
   "cell_type": "code",
   "execution_count": 22,
   "metadata": {
    "ExecuteTime": {
     "end_time": "2019-04-28T03:08:24.568636Z",
     "start_time": "2019-04-28T03:08:24.546648Z"
    },
    "collapsed": true
   },
   "outputs": [
    {
     "name": "stdout",
     "output_type": "stream",
     "text": [
      " 2 x  1\n",
      " 2 x  2\n",
      " 2 x  3\n",
      " 2 x  4\n",
      " 2 x  5\n",
      " 2 x  6\n",
      " 2 x  7\n",
      " 2 x  8\n",
      " 2 x  9\n"
     ]
    }
   ],
   "source": [
    "for i in range(1,10):\n",
    "    print('%2s x %2s' %(2, i))"
   ]
  },
  {
   "cell_type": "code",
   "execution_count": 23,
   "metadata": {
    "ExecuteTime": {
     "end_time": "2019-04-28T03:08:24.588624Z",
     "start_time": "2019-04-28T03:08:24.570633Z"
    },
    "collapsed": true
   },
   "outputs": [
    {
     "name": "stdout",
     "output_type": "stream",
     "text": [
      "1는 홀수입니다.\n",
      "7는 홀수입니다.\n",
      "10는 짝수입니다.\n",
      "5는 홀수입니다.\n",
      "8는 짝수입니다.\n",
      "2는 짝수입니다.\n",
      "7는 홀수입니다.\n",
      "짝수의 개수는 3개입니다.\n"
     ]
    }
   ],
   "source": [
    "a = [1, 7, 10, 5, 8, 2 ,7]\n",
    "cnt = 0\n",
    "for i in a:\n",
    "    if i%2 == 0:\n",
    "        print('%d는 짝수입니다.' %i)\n",
    "        cnt = cnt + 1\n",
    "    else:\n",
    "        print('%d는 홀수입니다.' %i)\n",
    "        \n",
    "print('짝수의 개수는 %d개입니다.' %cnt)"
   ]
  },
  {
   "cell_type": "code",
   "execution_count": 24,
   "metadata": {
    "ExecuteTime": {
     "end_time": "2019-04-28T03:08:24.608618Z",
     "start_time": "2019-04-28T03:08:24.590623Z"
    },
    "code_folding": [],
    "collapsed": true
   },
   "outputs": [
    {
     "name": "stdout",
     "output_type": "stream",
     "text": [
      "47000\n"
     ]
    }
   ],
   "source": [
    "pep = [22, 21, 17, 32, 4, 28, 19, 8]\n",
    "\n",
    "price = 0\n",
    "for i in pep:\n",
    "    if i>=20:\n",
    "        price = price + 8000\n",
    "    elif 10>=i<=19:\n",
    "        price = price + 5000\n",
    "    else: #elif로 10미만에 대한 명령문을 쓰고, else에는 오류 메시지를 넣는 방법이 디버깅에 유리.\n",
    "        price = price + 2500\n",
    "        \n",
    "print(price)"
   ]
  },
  {
   "cell_type": "code",
   "execution_count": 25,
   "metadata": {
    "ExecuteTime": {
     "end_time": "2019-04-28T08:41:45.761465Z",
     "start_time": "2019-04-28T08:41:45.758456Z"
    }
   },
   "outputs": [
    {
     "name": "stdout",
     "output_type": "stream",
     "text": [
      "2번 거북이 출석!\n"
     ]
    }
   ],
   "source": [
    "geobook = ['t1', 't2', 't3', 't4', 't5']\n",
    "from random import randint\n",
    "print(\"%s번 거북이 출석!\" %randint(0, 4))"
   ]
  },
  {
   "cell_type": "code",
   "execution_count": 26,
   "metadata": {
    "ExecuteTime": {
     "end_time": "2019-04-28T03:08:24.628601Z",
     "start_time": "2019-04-28T03:08:24.477Z"
    },
    "code_folding": [],
    "collapsed": true
   },
   "outputs": [
    {
     "name": "stdout",
     "output_type": "stream",
     "text": [
      "36000 3000 1\n",
      "33000 6000 2\n",
      "30000 9000 3\n",
      "27000 12000 4\n",
      "24000 15000 5\n",
      "21000 18000 6\n",
      "18000 21000 7\n",
      "15000 24000 8\n",
      "12000 27000 9\n",
      "9000 30000 10\n",
      "6000 33000 11\n",
      "3000 36000 12\n",
      "0 39000 13\n"
     ]
    }
   ],
   "source": [
    "pok = 39000\n",
    "cost = 3000\n",
    "tot_cost = 0\n",
    "cnt = 0\n",
    "\n",
    "while (pok >= 3000):\n",
    "    pok = pok - cost\n",
    "    tot_cost = tot_cost + cost\n",
    "    cnt = cnt + 1\n",
    "    print(pok, tot_cost, cnt)"
   ]
  },
  {
   "cell_type": "code",
   "execution_count": 27,
   "metadata": {
    "ExecuteTime": {
     "end_time": "2019-04-28T03:08:24.629601Z",
     "start_time": "2019-04-28T03:08:24.478Z"
    },
    "collapsed": true
   },
   "outputs": [
    {
     "name": "stdout",
     "output_type": "stream",
     "text": [
      "[1, 2, 3, 5, 7, 11, 13, 17, 19, 23, 29, 31, 37, 41, 43, 47, 53, 59, 61, 67, 71, 73, 79, 83, 89, 97] \n",
      " 26\n"
     ]
    }
   ],
   "source": [
    "prm_n = [1]\n",
    "\n",
    "for i in range(2, 101):\n",
    "    flag = 0\n",
    "    for j in range(2, i):\n",
    "        if i%j == 0:\n",
    "            flag = 1\n",
    "            break\n",
    "    if flag == 0:\n",
    "        prm_n.append(i)\n",
    "        \n",
    "print(prm_n, '\\n', len(prm_n))"
   ]
  },
  {
   "cell_type": "code",
   "execution_count": 28,
   "metadata": {
    "ExecuteTime": {
     "end_time": "2019-04-28T03:08:24.630600Z",
     "start_time": "2019-04-28T03:08:24.480Z"
    },
    "collapsed": true
   },
   "outputs": [
    {
     "name": "stdout",
     "output_type": "stream",
     "text": [
      "Help on list object:\n",
      "\n",
      "class list(object)\n",
      " |  list(iterable=(), /)\n",
      " |  \n",
      " |  Built-in mutable sequence.\n",
      " |  \n",
      " |  If no argument is given, the constructor creates a new empty list.\n",
      " |  The argument must be an iterable if specified.\n",
      " |  \n",
      " |  Methods defined here:\n",
      " |  \n",
      " |  __add__(self, value, /)\n",
      " |      Return self+value.\n",
      " |  \n",
      " |  __contains__(self, key, /)\n",
      " |      Return key in self.\n",
      " |  \n",
      " |  __delitem__(self, key, /)\n",
      " |      Delete self[key].\n",
      " |  \n",
      " |  __eq__(self, value, /)\n",
      " |      Return self==value.\n",
      " |  \n",
      " |  __ge__(self, value, /)\n",
      " |      Return self>=value.\n",
      " |  \n",
      " |  __getattribute__(self, name, /)\n",
      " |      Return getattr(self, name).\n",
      " |  \n",
      " |  __getitem__(...)\n",
      " |      x.__getitem__(y) <==> x[y]\n",
      " |  \n",
      " |  __gt__(self, value, /)\n",
      " |      Return self>value.\n",
      " |  \n",
      " |  __iadd__(self, value, /)\n",
      " |      Implement self+=value.\n",
      " |  \n",
      " |  __imul__(self, value, /)\n",
      " |      Implement self*=value.\n",
      " |  \n",
      " |  __init__(self, /, *args, **kwargs)\n",
      " |      Initialize self.  See help(type(self)) for accurate signature.\n",
      " |  \n",
      " |  __iter__(self, /)\n",
      " |      Implement iter(self).\n",
      " |  \n",
      " |  __le__(self, value, /)\n",
      " |      Return self<=value.\n",
      " |  \n",
      " |  __len__(self, /)\n",
      " |      Return len(self).\n",
      " |  \n",
      " |  __lt__(self, value, /)\n",
      " |      Return self<value.\n",
      " |  \n",
      " |  __mul__(self, value, /)\n",
      " |      Return self*value.\n",
      " |  \n",
      " |  __ne__(self, value, /)\n",
      " |      Return self!=value.\n",
      " |  \n",
      " |  __repr__(self, /)\n",
      " |      Return repr(self).\n",
      " |  \n",
      " |  __reversed__(self, /)\n",
      " |      Return a reverse iterator over the list.\n",
      " |  \n",
      " |  __rmul__(self, value, /)\n",
      " |      Return value*self.\n",
      " |  \n",
      " |  __setitem__(self, key, value, /)\n",
      " |      Set self[key] to value.\n",
      " |  \n",
      " |  __sizeof__(self, /)\n",
      " |      Return the size of the list in memory, in bytes.\n",
      " |  \n",
      " |  append(self, object, /)\n",
      " |      Append object to the end of the list.\n",
      " |  \n",
      " |  clear(self, /)\n",
      " |      Remove all items from list.\n",
      " |  \n",
      " |  copy(self, /)\n",
      " |      Return a shallow copy of the list.\n",
      " |  \n",
      " |  count(self, value, /)\n",
      " |      Return number of occurrences of value.\n",
      " |  \n",
      " |  extend(self, iterable, /)\n",
      " |      Extend list by appending elements from the iterable.\n",
      " |  \n",
      " |  index(self, value, start=0, stop=9223372036854775807, /)\n",
      " |      Return first index of value.\n",
      " |      \n",
      " |      Raises ValueError if the value is not present.\n",
      " |  \n",
      " |  insert(self, index, object, /)\n",
      " |      Insert object before index.\n",
      " |  \n",
      " |  pop(self, index=-1, /)\n",
      " |      Remove and return item at index (default last).\n",
      " |      \n",
      " |      Raises IndexError if list is empty or index is out of range.\n",
      " |  \n",
      " |  remove(self, value, /)\n",
      " |      Remove first occurrence of value.\n",
      " |      \n",
      " |      Raises ValueError if the value is not present.\n",
      " |  \n",
      " |  reverse(self, /)\n",
      " |      Reverse *IN PLACE*.\n",
      " |  \n",
      " |  sort(self, /, *, key=None, reverse=False)\n",
      " |      Stable sort *IN PLACE*.\n",
      " |  \n",
      " |  ----------------------------------------------------------------------\n",
      " |  Static methods defined here:\n",
      " |  \n",
      " |  __new__(*args, **kwargs) from builtins.type\n",
      " |      Create and return a new object.  See help(type) for accurate signature.\n",
      " |  \n",
      " |  ----------------------------------------------------------------------\n",
      " |  Data and other attributes defined here:\n",
      " |  \n",
      " |  __hash__ = None\n",
      "\n"
     ]
    }
   ],
   "source": [
    "a = ['l', 'i', 's', 't']\n",
    "dir(a) #a에 대해 사용 가능한 모든 명령들을 출력\n",
    "help(a) #동일"
   ]
  }
 ],
 "metadata": {
  "kernelspec": {
   "display_name": "Python 3",
   "language": "python",
   "name": "python3"
  },
  "language_info": {
   "codemirror_mode": {
    "name": "ipython",
    "version": 3
   },
   "file_extension": ".py",
   "mimetype": "text/x-python",
   "name": "python",
   "nbconvert_exporter": "python",
   "pygments_lexer": "ipython3",
   "version": "3.7.3"
  },
  "varInspector": {
   "cols": {
    "lenName": "10",
    "lenType": "10",
    "lenVar": 40
   },
   "kernels_config": {
    "python": {
     "delete_cmd_postfix": "",
     "delete_cmd_prefix": "del ",
     "library": "var_list.py",
     "varRefreshCmd": "print(var_dic_list())"
    },
    "r": {
     "delete_cmd_postfix": ") ",
     "delete_cmd_prefix": "rm(",
     "library": "var_list.r",
     "varRefreshCmd": "cat(var_dic_list()) "
    }
   },
   "position": {
    "height": "260.333px",
    "left": "1105.26px",
    "right": "20px",
    "top": "141.995px",
    "width": "286.899px"
   },
   "types_to_exclude": [
    "module",
    "function",
    "builtin_function_or_method",
    "instance",
    "_Feature"
   ],
   "window_display": false
  }
 },
 "nbformat": 4,
 "nbformat_minor": 2
}
