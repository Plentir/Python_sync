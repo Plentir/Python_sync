{
 "cells": [
  {
   "cell_type": "code",
   "execution_count": 10,
   "metadata": {},
   "outputs": [],
   "source": [
    "list_ = [1, 2] #리스트: 순서 있음, 편집 가능, 인덱싱 가능\n",
    "tuple_ = (1, 2) #튜플: 순서 ?, 편집 불가, 인덱싱 ?\n",
    "dictionary = {'a':1, 'b':2} #딕셔너리: 순서 없음, 편집 ?, 인덱싱 불가(불필요)"
   ]
  },
  {
   "cell_type": "code",
   "execution_count": 4,
   "metadata": {},
   "outputs": [
    {
     "data": {
      "text/plain": [
       "list"
      ]
     },
     "execution_count": 4,
     "metadata": {},
     "output_type": "execute_result"
    }
   ],
   "source": [
    "type(list_)"
   ]
  },
  {
   "cell_type": "code",
   "execution_count": 5,
   "metadata": {},
   "outputs": [
    {
     "data": {
      "text/plain": [
       "'3'"
      ]
     },
     "execution_count": 5,
     "metadata": {},
     "output_type": "execute_result"
    }
   ],
   "source": [
    "str(3)"
   ]
  },
  {
   "cell_type": "code",
   "execution_count": 6,
   "metadata": {},
   "outputs": [
    {
     "data": {
      "text/plain": [
       "3"
      ]
     },
     "execution_count": 6,
     "metadata": {},
     "output_type": "execute_result"
    }
   ],
   "source": [
    "int('3')"
   ]
  },
  {
   "cell_type": "code",
   "execution_count": 8,
   "metadata": {},
   "outputs": [
    {
     "data": {
      "text/plain": [
       "list"
      ]
     },
     "execution_count": 8,
     "metadata": {},
     "output_type": "execute_result"
    }
   ],
   "source": [
    "tuple_l = list(tuple_)\n",
    "type(tuple_l)"
   ]
  },
  {
   "cell_type": "code",
   "execution_count": 13,
   "metadata": {},
   "outputs": [
    {
     "name": "stdout",
     "output_type": "stream",
     "text": [
      "{1, 2}\n"
     ]
    },
    {
     "data": {
      "text/plain": [
       "set"
      ]
     },
     "execution_count": 13,
     "metadata": {},
     "output_type": "execute_result"
    }
   ],
   "source": [
    "set_l = set(list_) #list를 집합(set)로 변환. 집합 연산자(합, 차, 교집합) 사용 가능.\n",
    "print(set_l)\n",
    "type(set_l)"
   ]
  },
  {
   "cell_type": "code",
   "execution_count": 19,
   "metadata": {},
   "outputs": [
    {
     "name": "stdout",
     "output_type": "stream",
     "text": [
      "['ball', 'ball', 'ball', 'ball']\n",
      "['ball_1', 'ball_2', 'ball_3', 'ball_4']\n"
     ]
    }
   ],
   "source": [
    "#range(start, end, step).\n",
    "box = ['boll', 'boll', 'boll', 'boll']\n",
    "box_n = ['boll', 'boll', 'boll', 'boll']\n",
    "\n",
    "for i in range(0, 3+1):\n",
    "    box[i] = 'ball'\n",
    "    box_n[i] = 'ball_%s' %(i+1)\n",
    "\n",
    "print(box)\n",
    "print(box_n)"
   ]
  },
  {
   "cell_type": "code",
   "execution_count": 20,
   "metadata": {},
   "outputs": [
    {
     "name": "stdout",
     "output_type": "stream",
     "text": [
      " 2 x  1\n",
      " 2 x  2\n",
      " 2 x  3\n",
      " 2 x  4\n",
      " 2 x  5\n",
      " 2 x  6\n",
      " 2 x  7\n",
      " 2 x  8\n",
      " 2 x  9\n"
     ]
    }
   ],
   "source": [
    "for i in range(1,10):\n",
    "    print('%2s x %2s' %(2, i))"
   ]
  },
  {
   "cell_type": "code",
   "execution_count": 25,
   "metadata": {},
   "outputs": [
    {
     "name": "stdout",
     "output_type": "stream",
     "text": [
      "1는 홀수입니다.\n",
      "7는 홀수입니다.\n",
      "10는 짝수입니다.\n",
      "5는 홀수입니다.\n",
      "8는 짝수입니다.\n",
      "2는 짝수입니다.\n",
      "7는 홀수입니다.\n",
      "짝수의 개수는 3개입니다.\n"
     ]
    }
   ],
   "source": [
    "a = [1, 7, 10, 5, 8, 2 ,7]\n",
    "cnt = 0\n",
    "for i in a:\n",
    "    if i%2 == 0:\n",
    "        print('%d는 짝수입니다.' %i)\n",
    "        cnt = cnt + 1\n",
    "    else:\n",
    "        print('%d는 홀수입니다.' %i)\n",
    "        \n",
    "print('짝수의 개수는 %d개입니다.' %cnt)"
   ]
  },
  {
   "cell_type": "code",
   "execution_count": 28,
   "metadata": {
    "code_folding": []
   },
   "outputs": [
    {
     "name": "stdout",
     "output_type": "stream",
     "text": [
      "47000\n"
     ]
    }
   ],
   "source": [
    "pep = [22, 21, 17, 32, 4, 28, 19, 8]\n",
    "\n",
    "price = 0\n",
    "for i in pep:\n",
    "    if i>=20:\n",
    "        price = price + 8000\n",
    "    elif 10>=i<=19:\n",
    "        price = price + 5000\n",
    "    else: #elif로 10미만에 대한 명령문을 쓰고, else에는 오류 메시지를 넣는 방법이 디버깅에 유리.\n",
    "        price = price + 2500\n",
    "        \n",
    "print(price)"
   ]
  },
  {
   "cell_type": "code",
   "execution_count": 32,
   "metadata": {},
   "outputs": [
    {
     "data": {
      "text/plain": [
       "2"
      ]
     },
     "execution_count": 32,
     "metadata": {},
     "output_type": "execute_result"
    }
   ],
   "source": [
    "geobook = ['t1', 't2', 't3', 't4', 't5']\n",
    "import random\n",
    "\n",
    "for random.randint(0, 4)"
   ]
  },
  {
   "cell_type": "code",
   "execution_count": 35,
   "metadata": {},
   "outputs": [
    {
     "name": "stdout",
     "output_type": "stream",
     "text": [
      "36000 3000 1\n",
      "33000 6000 2\n",
      "30000 9000 3\n",
      "27000 12000 4\n",
      "24000 15000 5\n",
      "21000 18000 6\n",
      "18000 21000 7\n",
      "15000 24000 8\n",
      "12000 27000 9\n",
      "9000 30000 10\n",
      "6000 33000 11\n",
      "3000 36000 12\n",
      "0 39000 13\n"
     ]
    }
   ],
   "source": [
    "pok = 39000\n",
    "cost = 3000\n",
    "tot_cost = 0\n",
    "cnt = 0\n",
    "\n",
    "while (pok >= 3000):\n",
    "    pok = pok - cost\n",
    "    tot_cost = tot_cost + cost\n",
    "    cnt = cnt + 1\n",
    "    print(pok, tot_cost, cnt)"
   ]
  },
  {
   "cell_type": "code",
   "execution_count": 40,
   "metadata": {},
   "outputs": [
    {
     "name": "stdout",
     "output_type": "stream",
     "text": [
      "[1, 2, 3, 5, 7, 11, 13, 17, 19, 23, 29, 31, 37, 41, 43, 47, 53, 59, 61, 67, 71, 73, 79, 83, 89, 97] \n",
      " 26\n"
     ]
    }
   ],
   "source": [
    "prm_n = [1]\n",
    "\n",
    "for i in range(2, 101):\n",
    "    flag = 0\n",
    "    for j in range(2, i):\n",
    "        if i%j == 0:\n",
    "            flag = 1\n",
    "            break\n",
    "    if flag == 0:\n",
    "        prm_n.append(i)\n",
    "        \n",
    "print(prm_n, '\\n', len(prm_n))"
   ]
  },
  {
   "cell_type": "code",
   "execution_count": null,
   "metadata": {},
   "outputs": [],
   "source": [
    "a = ['l', 'i', 's', 't']\n",
    "dir(a) #a에 대해 사용 가능한 모든 명령들을 출력\n",
    "help(a) #동일"
   ]
  }
 ],
 "metadata": {
  "kernelspec": {
   "display_name": "Python 3",
   "language": "python",
   "name": "python3"
  },
  "language_info": {
   "codemirror_mode": {
    "name": "ipython",
    "version": 3
   },
   "file_extension": ".py",
   "mimetype": "text/x-python",
   "name": "python",
   "nbconvert_exporter": "python",
   "pygments_lexer": "ipython3",
   "version": "3.7.0"
  },
  "varInspector": {
   "cols": {
    "lenName": "10",
    "lenType": "10",
    "lenVar": 40
   },
   "kernels_config": {
    "python": {
     "delete_cmd_postfix": "",
     "delete_cmd_prefix": "del ",
     "library": "var_list.py",
     "varRefreshCmd": "print(var_dic_list())"
    },
    "r": {
     "delete_cmd_postfix": ") ",
     "delete_cmd_prefix": "rm(",
     "library": "var_list.r",
     "varRefreshCmd": "cat(var_dic_list()) "
    }
   },
   "types_to_exclude": [
    "module",
    "function",
    "builtin_function_or_method",
    "instance",
    "_Feature"
   ],
   "window_display": false
  }
 },
 "nbformat": 4,
 "nbformat_minor": 2
}
