{
 "cells": [
  {
   "cell_type": "markdown",
   "metadata": {},
   "source": [
    "### 백트래킹 기법\n",
    "\n",
    "- 그래프(트리)를 탐색하는 문제  \n",
    "    1. 구체적인 그래프(최단거리 문제, 최소신장트리 등)  \n",
    "    2. 암묵적인 그래프(N-1 퀸 문제, 배낭?)\n",
    "    \n",
    "#### N - 1 퀸 문제\n",
    "\n",
    "- 조건  \n",
    "  1. 체스판의 크기는 n * n이고, 퀸은 n개 존재한다.  \n",
    "  2. 모든 퀸은 서로 공격할 수 없는 위치에 배치되어 있어야 한다.  \n",
    "    1. 같은 열을 피한다.  \n",
    "    2. 같은 행을 피한다.  \n",
    "    3. _**같은 대각선을 피한다.** (중요)_  \n",
    "    \"같은 대각선을 피한다.\"는 규칙을 어떻게 표현할 것인가?  \n",
    "        - abs(B[i] - B[j])\n",
    "        - abs(i - j)\n",
    "        - 위의 두 값이 같다면 같은 대각선 위에 있는 것이다.  \n",
    "        _i, j = 두 퀸이 배치되어 있는 열(Col.)이고,_  \n",
    "        _B[i], B[j] = 두 퀸이 배치되어 있는 행(Ln.)이다._\n",
    "        \n",
    "\n",
    "- 경우의 수  \n",
    "  전체 경우의 수는 C(n * n, n)이다.\n",
    "  \n",
    "  \n",
    "- 반복문 사용\n",
    "  반복문은 아래와 같이 사용한다.\n",
    "\n",
    "\n",
    "    for ... in range():        \n",
    "        for ... in range():    \n",
    "            for ... in range():\n",
    "                |              \n",
    "                |              \n",
    "                |              \n",
    "                |              \n",
    "                for in range():\n",
    "                    if ...:    "
   ]
  },
  {
   "cell_type": "code",
   "execution_count": 30,
   "metadata": {},
   "outputs": [],
   "source": [
    "class Queens:\n",
    "    def __init__(self):\n",
    "        self.__n = int(input(\"체스판의 크기 'n'을 입력: \"))\n",
    "        self.__b = [[0 for i in range(self.__n)] for j in range(self.__n)]\n",
    "        \n",
    "        \n",
    "        def print_arrays(array):\n",
    "            for i in range(len(array)):\n",
    "\n",
    "                for j in range(len(array)):\n",
    "                    if j != len(array) - 1:\n",
    "                        print(\"%2s  \" %array[i][j], end = \"\")\n",
    "\n",
    "                    else:\n",
    "                        print(\"%2s\" %array[i][j])\n",
    "            \n",
    "            return\n",
    "        \n",
    "        \n",
    "        print_arrays(self.__b)"
   ]
  },
  {
   "cell_type": "code",
   "execution_count": 31,
   "metadata": {},
   "outputs": [
    {
     "name": "stdin",
     "output_type": "stream",
     "text": [
      "체스판의 크기 'n'을 입력:  4\n"
     ]
    },
    {
     "name": "stdout",
     "output_type": "stream",
     "text": [
      " 0   0   0   0\n",
      " 0   0   0   0\n",
      " 0   0   0   0\n",
      " 0   0   0   0\n"
     ]
    }
   ],
   "source": [
    "a = Queens()"
   ]
  },
  {
   "cell_type": "code",
   "execution_count": null,
   "metadata": {},
   "outputs": [],
   "source": []
  }
 ],
 "metadata": {
  "kernelspec": {
   "display_name": "Python 3",
   "language": "python",
   "name": "python3"
  },
  "language_info": {
   "codemirror_mode": {
    "name": "ipython",
    "version": 3
   },
   "file_extension": ".py",
   "mimetype": "text/x-python",
   "name": "python",
   "nbconvert_exporter": "python",
   "pygments_lexer": "ipython3",
   "version": "3.7.3"
  }
 },
 "nbformat": 4,
 "nbformat_minor": 2
}
