{
 "cells": [
  {
   "cell_type": "code",
   "execution_count": 2,
   "metadata": {
    "ExecuteTime": {
     "end_time": "2019-05-08T13:32:43.582550Z",
     "start_time": "2019-05-08T13:32:41.221911Z"
    }
   },
   "outputs": [],
   "source": [
    "import pandas as pd"
   ]
  },
  {
   "cell_type": "code",
   "execution_count": 3,
   "metadata": {
    "ExecuteTime": {
     "end_time": "2019-05-08T13:32:43.734782Z",
     "start_time": "2019-05-08T13:32:43.584038Z"
    }
   },
   "outputs": [
    {
     "data": {
      "text/html": [
       "<div>\n",
       "<style scoped>\n",
       "    .dataframe tbody tr th:only-of-type {\n",
       "        vertical-align: middle;\n",
       "    }\n",
       "\n",
       "    .dataframe tbody tr th {\n",
       "        vertical-align: top;\n",
       "    }\n",
       "\n",
       "    .dataframe thead th {\n",
       "        text-align: right;\n",
       "    }\n",
       "</style>\n",
       "<table border=\"1\" class=\"dataframe\">\n",
       "  <thead>\n",
       "    <tr style=\"text-align: right;\">\n",
       "      <th></th>\n",
       "      <th>기관명</th>\n",
       "      <th>소계</th>\n",
       "      <th>2013년도 이전</th>\n",
       "      <th>2014년</th>\n",
       "      <th>2015년</th>\n",
       "      <th>2016년</th>\n",
       "    </tr>\n",
       "  </thead>\n",
       "  <tbody>\n",
       "    <tr>\n",
       "      <th>0</th>\n",
       "      <td>강남구</td>\n",
       "      <td>2780</td>\n",
       "      <td>1292</td>\n",
       "      <td>430</td>\n",
       "      <td>584</td>\n",
       "      <td>932</td>\n",
       "    </tr>\n",
       "    <tr>\n",
       "      <th>1</th>\n",
       "      <td>강동구</td>\n",
       "      <td>773</td>\n",
       "      <td>379</td>\n",
       "      <td>99</td>\n",
       "      <td>155</td>\n",
       "      <td>377</td>\n",
       "    </tr>\n",
       "    <tr>\n",
       "      <th>2</th>\n",
       "      <td>강북구</td>\n",
       "      <td>748</td>\n",
       "      <td>369</td>\n",
       "      <td>120</td>\n",
       "      <td>138</td>\n",
       "      <td>204</td>\n",
       "    </tr>\n",
       "    <tr>\n",
       "      <th>3</th>\n",
       "      <td>강서구</td>\n",
       "      <td>884</td>\n",
       "      <td>388</td>\n",
       "      <td>258</td>\n",
       "      <td>184</td>\n",
       "      <td>81</td>\n",
       "    </tr>\n",
       "    <tr>\n",
       "      <th>4</th>\n",
       "      <td>관악구</td>\n",
       "      <td>1496</td>\n",
       "      <td>846</td>\n",
       "      <td>260</td>\n",
       "      <td>390</td>\n",
       "      <td>613</td>\n",
       "    </tr>\n",
       "  </tbody>\n",
       "</table>\n",
       "</div>"
      ],
      "text/plain": [
       "   기관명    소계  2013년도 이전  2014년  2015년  2016년\n",
       "0  강남구  2780       1292    430    584    932\n",
       "1  강동구   773        379     99    155    377\n",
       "2  강북구   748        369    120    138    204\n",
       "3  강서구   884        388    258    184     81\n",
       "4  관악구  1496        846    260    390    613"
      ]
     },
     "execution_count": 3,
     "metadata": {},
     "output_type": "execute_result"
    }
   ],
   "source": [
    "cctv_seoul = pd.read_csv(\"C:\\\\Users\\\\yjy99\\\\Desktop\\\\Python\\\\Python_sync\\\\파이썬 머슬캠프\\\\DataFile\\\\data\\\\01. CCTV_in_Seoul.csv\", encoding = \"UTF-8\")\n",
    "# 현재 디렉터리의 상위 디렉터리 = ../ 로 표시.\n",
    "cctv_seoul.head()"
   ]
  },
  {
   "cell_type": "code",
   "execution_count": 4,
   "metadata": {
    "ExecuteTime": {
     "end_time": "2019-05-08T13:32:43.744741Z",
     "start_time": "2019-05-08T13:32:43.738251Z"
    }
   },
   "outputs": [
    {
     "data": {
      "text/plain": [
       "Index(['기관명', '소계', '2013년도 이전', '2014년', '2015년', '2016년'], dtype='object')"
      ]
     },
     "execution_count": 4,
     "metadata": {},
     "output_type": "execute_result"
    }
   ],
   "source": [
    "cctv_seoul.columns"
   ]
  },
  {
   "cell_type": "code",
   "execution_count": 5,
   "metadata": {
    "ExecuteTime": {
     "end_time": "2019-05-08T13:32:43.767696Z",
     "start_time": "2019-05-08T13:32:43.747741Z"
    }
   },
   "outputs": [
    {
     "data": {
      "text/html": [
       "<div>\n",
       "<style scoped>\n",
       "    .dataframe tbody tr th:only-of-type {\n",
       "        vertical-align: middle;\n",
       "    }\n",
       "\n",
       "    .dataframe tbody tr th {\n",
       "        vertical-align: top;\n",
       "    }\n",
       "\n",
       "    .dataframe thead th {\n",
       "        text-align: right;\n",
       "    }\n",
       "</style>\n",
       "<table border=\"1\" class=\"dataframe\">\n",
       "  <thead>\n",
       "    <tr style=\"text-align: right;\">\n",
       "      <th></th>\n",
       "      <th>구</th>\n",
       "      <th>소계</th>\n",
       "      <th>2013년도 이전</th>\n",
       "      <th>2014년</th>\n",
       "      <th>2015년</th>\n",
       "      <th>2016년</th>\n",
       "    </tr>\n",
       "  </thead>\n",
       "  <tbody>\n",
       "    <tr>\n",
       "      <th>0</th>\n",
       "      <td>강남구</td>\n",
       "      <td>2780</td>\n",
       "      <td>1292</td>\n",
       "      <td>430</td>\n",
       "      <td>584</td>\n",
       "      <td>932</td>\n",
       "    </tr>\n",
       "    <tr>\n",
       "      <th>1</th>\n",
       "      <td>강동구</td>\n",
       "      <td>773</td>\n",
       "      <td>379</td>\n",
       "      <td>99</td>\n",
       "      <td>155</td>\n",
       "      <td>377</td>\n",
       "    </tr>\n",
       "    <tr>\n",
       "      <th>2</th>\n",
       "      <td>강북구</td>\n",
       "      <td>748</td>\n",
       "      <td>369</td>\n",
       "      <td>120</td>\n",
       "      <td>138</td>\n",
       "      <td>204</td>\n",
       "    </tr>\n",
       "    <tr>\n",
       "      <th>3</th>\n",
       "      <td>강서구</td>\n",
       "      <td>884</td>\n",
       "      <td>388</td>\n",
       "      <td>258</td>\n",
       "      <td>184</td>\n",
       "      <td>81</td>\n",
       "    </tr>\n",
       "    <tr>\n",
       "      <th>4</th>\n",
       "      <td>관악구</td>\n",
       "      <td>1496</td>\n",
       "      <td>846</td>\n",
       "      <td>260</td>\n",
       "      <td>390</td>\n",
       "      <td>613</td>\n",
       "    </tr>\n",
       "  </tbody>\n",
       "</table>\n",
       "</div>"
      ],
      "text/plain": [
       "     구    소계  2013년도 이전  2014년  2015년  2016년\n",
       "0  강남구  2780       1292    430    584    932\n",
       "1  강동구   773        379     99    155    377\n",
       "2  강북구   748        369    120    138    204\n",
       "3  강서구   884        388    258    184     81\n",
       "4  관악구  1496        846    260    390    613"
      ]
     },
     "execution_count": 5,
     "metadata": {},
     "output_type": "execute_result"
    }
   ],
   "source": [
    "cctv_seoul.rename(columns = {cctv_seoul.columns[0] : \"구\"}, inplace = True)\n",
    "# inplace는 표를 이루는 값을 객체 내에서 변경하고 싶을 때 True로 사용함.\n",
    "cctv_seoul.head()"
   ]
  },
  {
   "cell_type": "code",
   "execution_count": 6,
   "metadata": {
    "ExecuteTime": {
     "end_time": "2019-05-08T13:32:44.643342Z",
     "start_time": "2019-05-08T13:32:43.769694Z"
    }
   },
   "outputs": [
    {
     "ename": "FileNotFoundError",
     "evalue": "[Errno 2] No such file or directory: 'C:\\\\Users\\\\yjy99\\\\Desktop\\\\Python\\\\Python_sync\\\\파이썬 머슬캠프\\\\DataFile\\\\data\\\\01. population_in_Seoul.xls'",
     "output_type": "error",
     "traceback": [
      "\u001b[1;31m---------------------------------------------------------------------------\u001b[0m",
      "\u001b[1;31mFileNotFoundError\u001b[0m                         Traceback (most recent call last)",
      "\u001b[1;32m<ipython-input-6-6c9ecf66a8fd>\u001b[0m in \u001b[0;36m<module>\u001b[1;34m\u001b[0m\n\u001b[1;32m----> 1\u001b[1;33m \u001b[0mpop_seoul\u001b[0m \u001b[1;33m=\u001b[0m \u001b[0mpd\u001b[0m\u001b[1;33m.\u001b[0m\u001b[0mread_excel\u001b[0m\u001b[1;33m(\u001b[0m\u001b[1;34m\"C:\\\\Users\\\\yjy99\\\\Desktop\\\\Python\\\\Python_sync\\\\파이썬 머슬캠프\\\\DataFile\\\\data\\\\01. population_in_Seoul.xls\"\u001b[0m\u001b[1;33m,\u001b[0m \u001b[0mencoding\u001b[0m \u001b[1;33m=\u001b[0m \u001b[1;34m\"UTF-8\"\u001b[0m\u001b[1;33m)\u001b[0m\u001b[1;33m\u001b[0m\u001b[1;33m\u001b[0m\u001b[0m\n\u001b[0m\u001b[0;32m      2\u001b[0m \u001b[0mpop_seoul\u001b[0m\u001b[1;33m.\u001b[0m\u001b[0mhead\u001b[0m\u001b[1;33m(\u001b[0m\u001b[1;33m)\u001b[0m\u001b[1;33m\u001b[0m\u001b[1;33m\u001b[0m\u001b[0m\n",
      "\u001b[1;32mC:\\Python\\Anaconda\\lib\\site-packages\\pandas\\util\\_decorators.py\u001b[0m in \u001b[0;36mwrapper\u001b[1;34m(*args, **kwargs)\u001b[0m\n\u001b[0;32m    186\u001b[0m                 \u001b[1;32melse\u001b[0m\u001b[1;33m:\u001b[0m\u001b[1;33m\u001b[0m\u001b[1;33m\u001b[0m\u001b[0m\n\u001b[0;32m    187\u001b[0m                     \u001b[0mkwargs\u001b[0m\u001b[1;33m[\u001b[0m\u001b[0mnew_arg_name\u001b[0m\u001b[1;33m]\u001b[0m \u001b[1;33m=\u001b[0m \u001b[0mnew_arg_value\u001b[0m\u001b[1;33m\u001b[0m\u001b[1;33m\u001b[0m\u001b[0m\n\u001b[1;32m--> 188\u001b[1;33m             \u001b[1;32mreturn\u001b[0m \u001b[0mfunc\u001b[0m\u001b[1;33m(\u001b[0m\u001b[1;33m*\u001b[0m\u001b[0margs\u001b[0m\u001b[1;33m,\u001b[0m \u001b[1;33m**\u001b[0m\u001b[0mkwargs\u001b[0m\u001b[1;33m)\u001b[0m\u001b[1;33m\u001b[0m\u001b[1;33m\u001b[0m\u001b[0m\n\u001b[0m\u001b[0;32m    189\u001b[0m         \u001b[1;32mreturn\u001b[0m \u001b[0mwrapper\u001b[0m\u001b[1;33m\u001b[0m\u001b[1;33m\u001b[0m\u001b[0m\n\u001b[0;32m    190\u001b[0m     \u001b[1;32mreturn\u001b[0m \u001b[0m_deprecate_kwarg\u001b[0m\u001b[1;33m\u001b[0m\u001b[1;33m\u001b[0m\u001b[0m\n",
      "\u001b[1;32mC:\\Python\\Anaconda\\lib\\site-packages\\pandas\\util\\_decorators.py\u001b[0m in \u001b[0;36mwrapper\u001b[1;34m(*args, **kwargs)\u001b[0m\n\u001b[0;32m    186\u001b[0m                 \u001b[1;32melse\u001b[0m\u001b[1;33m:\u001b[0m\u001b[1;33m\u001b[0m\u001b[1;33m\u001b[0m\u001b[0m\n\u001b[0;32m    187\u001b[0m                     \u001b[0mkwargs\u001b[0m\u001b[1;33m[\u001b[0m\u001b[0mnew_arg_name\u001b[0m\u001b[1;33m]\u001b[0m \u001b[1;33m=\u001b[0m \u001b[0mnew_arg_value\u001b[0m\u001b[1;33m\u001b[0m\u001b[1;33m\u001b[0m\u001b[0m\n\u001b[1;32m--> 188\u001b[1;33m             \u001b[1;32mreturn\u001b[0m \u001b[0mfunc\u001b[0m\u001b[1;33m(\u001b[0m\u001b[1;33m*\u001b[0m\u001b[0margs\u001b[0m\u001b[1;33m,\u001b[0m \u001b[1;33m**\u001b[0m\u001b[0mkwargs\u001b[0m\u001b[1;33m)\u001b[0m\u001b[1;33m\u001b[0m\u001b[1;33m\u001b[0m\u001b[0m\n\u001b[0m\u001b[0;32m    189\u001b[0m         \u001b[1;32mreturn\u001b[0m \u001b[0mwrapper\u001b[0m\u001b[1;33m\u001b[0m\u001b[1;33m\u001b[0m\u001b[0m\n\u001b[0;32m    190\u001b[0m     \u001b[1;32mreturn\u001b[0m \u001b[0m_deprecate_kwarg\u001b[0m\u001b[1;33m\u001b[0m\u001b[1;33m\u001b[0m\u001b[0m\n",
      "\u001b[1;32mC:\\Python\\Anaconda\\lib\\site-packages\\pandas\\io\\excel.py\u001b[0m in \u001b[0;36mread_excel\u001b[1;34m(io, sheet_name, header, names, index_col, parse_cols, usecols, squeeze, dtype, engine, converters, true_values, false_values, skiprows, nrows, na_values, keep_default_na, verbose, parse_dates, date_parser, thousands, comment, skip_footer, skipfooter, convert_float, mangle_dupe_cols, **kwds)\u001b[0m\n\u001b[0;32m    348\u001b[0m \u001b[1;33m\u001b[0m\u001b[0m\n\u001b[0;32m    349\u001b[0m     \u001b[1;32mif\u001b[0m \u001b[1;32mnot\u001b[0m \u001b[0misinstance\u001b[0m\u001b[1;33m(\u001b[0m\u001b[0mio\u001b[0m\u001b[1;33m,\u001b[0m \u001b[0mExcelFile\u001b[0m\u001b[1;33m)\u001b[0m\u001b[1;33m:\u001b[0m\u001b[1;33m\u001b[0m\u001b[1;33m\u001b[0m\u001b[0m\n\u001b[1;32m--> 350\u001b[1;33m         \u001b[0mio\u001b[0m \u001b[1;33m=\u001b[0m \u001b[0mExcelFile\u001b[0m\u001b[1;33m(\u001b[0m\u001b[0mio\u001b[0m\u001b[1;33m,\u001b[0m \u001b[0mengine\u001b[0m\u001b[1;33m=\u001b[0m\u001b[0mengine\u001b[0m\u001b[1;33m)\u001b[0m\u001b[1;33m\u001b[0m\u001b[1;33m\u001b[0m\u001b[0m\n\u001b[0m\u001b[0;32m    351\u001b[0m \u001b[1;33m\u001b[0m\u001b[0m\n\u001b[0;32m    352\u001b[0m     return io.parse(\n",
      "\u001b[1;32mC:\\Python\\Anaconda\\lib\\site-packages\\pandas\\io\\excel.py\u001b[0m in \u001b[0;36m__init__\u001b[1;34m(self, io, engine)\u001b[0m\n\u001b[0;32m    651\u001b[0m         \u001b[0mself\u001b[0m\u001b[1;33m.\u001b[0m\u001b[0m_io\u001b[0m \u001b[1;33m=\u001b[0m \u001b[0m_stringify_path\u001b[0m\u001b[1;33m(\u001b[0m\u001b[0mio\u001b[0m\u001b[1;33m)\u001b[0m\u001b[1;33m\u001b[0m\u001b[1;33m\u001b[0m\u001b[0m\n\u001b[0;32m    652\u001b[0m \u001b[1;33m\u001b[0m\u001b[0m\n\u001b[1;32m--> 653\u001b[1;33m         \u001b[0mself\u001b[0m\u001b[1;33m.\u001b[0m\u001b[0m_reader\u001b[0m \u001b[1;33m=\u001b[0m \u001b[0mself\u001b[0m\u001b[1;33m.\u001b[0m\u001b[0m_engines\u001b[0m\u001b[1;33m[\u001b[0m\u001b[0mengine\u001b[0m\u001b[1;33m]\u001b[0m\u001b[1;33m(\u001b[0m\u001b[0mself\u001b[0m\u001b[1;33m.\u001b[0m\u001b[0m_io\u001b[0m\u001b[1;33m)\u001b[0m\u001b[1;33m\u001b[0m\u001b[1;33m\u001b[0m\u001b[0m\n\u001b[0m\u001b[0;32m    654\u001b[0m \u001b[1;33m\u001b[0m\u001b[0m\n\u001b[0;32m    655\u001b[0m     \u001b[1;32mdef\u001b[0m \u001b[0m__fspath__\u001b[0m\u001b[1;33m(\u001b[0m\u001b[0mself\u001b[0m\u001b[1;33m)\u001b[0m\u001b[1;33m:\u001b[0m\u001b[1;33m\u001b[0m\u001b[1;33m\u001b[0m\u001b[0m\n",
      "\u001b[1;32mC:\\Python\\Anaconda\\lib\\site-packages\\pandas\\io\\excel.py\u001b[0m in \u001b[0;36m__init__\u001b[1;34m(self, filepath_or_buffer)\u001b[0m\n\u001b[0;32m    422\u001b[0m             \u001b[0mself\u001b[0m\u001b[1;33m.\u001b[0m\u001b[0mbook\u001b[0m \u001b[1;33m=\u001b[0m \u001b[0mxlrd\u001b[0m\u001b[1;33m.\u001b[0m\u001b[0mopen_workbook\u001b[0m\u001b[1;33m(\u001b[0m\u001b[0mfile_contents\u001b[0m\u001b[1;33m=\u001b[0m\u001b[0mdata\u001b[0m\u001b[1;33m)\u001b[0m\u001b[1;33m\u001b[0m\u001b[1;33m\u001b[0m\u001b[0m\n\u001b[0;32m    423\u001b[0m         \u001b[1;32melif\u001b[0m \u001b[0misinstance\u001b[0m\u001b[1;33m(\u001b[0m\u001b[0mfilepath_or_buffer\u001b[0m\u001b[1;33m,\u001b[0m \u001b[0mcompat\u001b[0m\u001b[1;33m.\u001b[0m\u001b[0mstring_types\u001b[0m\u001b[1;33m)\u001b[0m\u001b[1;33m:\u001b[0m\u001b[1;33m\u001b[0m\u001b[1;33m\u001b[0m\u001b[0m\n\u001b[1;32m--> 424\u001b[1;33m             \u001b[0mself\u001b[0m\u001b[1;33m.\u001b[0m\u001b[0mbook\u001b[0m \u001b[1;33m=\u001b[0m \u001b[0mxlrd\u001b[0m\u001b[1;33m.\u001b[0m\u001b[0mopen_workbook\u001b[0m\u001b[1;33m(\u001b[0m\u001b[0mfilepath_or_buffer\u001b[0m\u001b[1;33m)\u001b[0m\u001b[1;33m\u001b[0m\u001b[1;33m\u001b[0m\u001b[0m\n\u001b[0m\u001b[0;32m    425\u001b[0m         \u001b[1;32melse\u001b[0m\u001b[1;33m:\u001b[0m\u001b[1;33m\u001b[0m\u001b[1;33m\u001b[0m\u001b[0m\n\u001b[0;32m    426\u001b[0m             raise ValueError('Must explicitly set engine if not passing in'\n",
      "\u001b[1;32mC:\\Python\\Anaconda\\lib\\site-packages\\xlrd\\__init__.py\u001b[0m in \u001b[0;36mopen_workbook\u001b[1;34m(filename, logfile, verbosity, use_mmap, file_contents, encoding_override, formatting_info, on_demand, ragged_rows)\u001b[0m\n\u001b[0;32m    109\u001b[0m     \u001b[1;32melse\u001b[0m\u001b[1;33m:\u001b[0m\u001b[1;33m\u001b[0m\u001b[1;33m\u001b[0m\u001b[0m\n\u001b[0;32m    110\u001b[0m         \u001b[0mfilename\u001b[0m \u001b[1;33m=\u001b[0m \u001b[0mos\u001b[0m\u001b[1;33m.\u001b[0m\u001b[0mpath\u001b[0m\u001b[1;33m.\u001b[0m\u001b[0mexpanduser\u001b[0m\u001b[1;33m(\u001b[0m\u001b[0mfilename\u001b[0m\u001b[1;33m)\u001b[0m\u001b[1;33m\u001b[0m\u001b[1;33m\u001b[0m\u001b[0m\n\u001b[1;32m--> 111\u001b[1;33m         \u001b[1;32mwith\u001b[0m \u001b[0mopen\u001b[0m\u001b[1;33m(\u001b[0m\u001b[0mfilename\u001b[0m\u001b[1;33m,\u001b[0m \u001b[1;34m\"rb\"\u001b[0m\u001b[1;33m)\u001b[0m \u001b[1;32mas\u001b[0m \u001b[0mf\u001b[0m\u001b[1;33m:\u001b[0m\u001b[1;33m\u001b[0m\u001b[1;33m\u001b[0m\u001b[0m\n\u001b[0m\u001b[0;32m    112\u001b[0m             \u001b[0mpeek\u001b[0m \u001b[1;33m=\u001b[0m \u001b[0mf\u001b[0m\u001b[1;33m.\u001b[0m\u001b[0mread\u001b[0m\u001b[1;33m(\u001b[0m\u001b[0mpeeksz\u001b[0m\u001b[1;33m)\u001b[0m\u001b[1;33m\u001b[0m\u001b[1;33m\u001b[0m\u001b[0m\n\u001b[0;32m    113\u001b[0m     \u001b[1;32mif\u001b[0m \u001b[0mpeek\u001b[0m \u001b[1;33m==\u001b[0m \u001b[1;34mb\"PK\\x03\\x04\"\u001b[0m\u001b[1;33m:\u001b[0m \u001b[1;31m# a ZIP file\u001b[0m\u001b[1;33m\u001b[0m\u001b[1;33m\u001b[0m\u001b[0m\n",
      "\u001b[1;31mFileNotFoundError\u001b[0m: [Errno 2] No such file or directory: 'C:\\\\Users\\\\yjy99\\\\Desktop\\\\Python\\\\Python_sync\\\\파이썬 머슬캠프\\\\DataFile\\\\data\\\\01. population_in_Seoul.xls'"
     ]
    }
   ],
   "source": [
    "pop_seoul = pd.read_excel(\"C:\\\\Users\\\\yjy99\\\\Desktop\\\\Python\\\\Python_sync\\\\파이썬 머슬캠프\\\\DataFile\\\\data\\\\01. population_in_Seoul.xls\", encoding = \"UTF-8\")\n",
    "pop_seoul.head()"
   ]
  },
  {
   "cell_type": "code",
   "execution_count": null,
   "metadata": {
    "ExecuteTime": {
     "end_time": "2019-05-08T13:32:44.654332Z",
     "start_time": "2019-05-08T13:32:41.238Z"
    }
   },
   "outputs": [],
   "source": [
    "pop_seoul = pd.read_excel(\"C:\\\\Users\\\\yjy99\\\\Desktop\\\\Python\\\\Python_sync\\\\파이썬 머슬캠프\\\\DataFile\\\\data\\\\01. population_in_Seoul.xls\",\n",
    "                          header = 2,\n",
    "                          usecols = \"B, D, G, J, N\",\n",
    "                          encoding = \"UTF-8\")\n",
    "# header 변수를 지정하면 해당하는 인덱스를 가진 행을 제목으로 사용하고, 그 다음 행부터는 표의 내용으로 사용함.\n",
    "pop_seoul.head()"
   ]
  },
  {
   "cell_type": "code",
   "execution_count": null,
   "metadata": {
    "ExecuteTime": {
     "end_time": "2019-05-08T13:32:44.655329Z",
     "start_time": "2019-05-08T13:32:41.241Z"
    }
   },
   "outputs": [],
   "source": [
    "pop_seoul.rename(columns = {pop_seoul.columns[0] : \"구\",\n",
    "                            pop_seoul.columns[1] : \"인구 수\",\n",
    "                            pop_seoul.columns[2] : \"한국인\",\n",
    "                            pop_seoul.columns[3] : \"외국인\",\n",
    "                            pop_seoul.columns[4] : \"고령자\"}, inplace = True)\n",
    "pop_seoul.head()"
   ]
  },
  {
   "cell_type": "code",
   "execution_count": null,
   "metadata": {
    "ExecuteTime": {
     "end_time": "2019-05-08T13:32:44.655828Z",
     "start_time": "2019-05-08T13:32:41.245Z"
    }
   },
   "outputs": [],
   "source": [
    "cctv_seoul.head()"
   ]
  },
  {
   "cell_type": "code",
   "execution_count": null,
   "metadata": {
    "ExecuteTime": {
     "end_time": "2019-05-08T13:32:44.657315Z",
     "start_time": "2019-05-08T13:32:41.248Z"
    }
   },
   "outputs": [],
   "source": [
    "cctv_seoul.sort_values(by = \"소계\", ascending = True).head()  # 내림차순 정렬"
   ]
  },
  {
   "cell_type": "code",
   "execution_count": null,
   "metadata": {
    "ExecuteTime": {
     "end_time": "2019-05-08T13:32:44.657815Z",
     "start_time": "2019-05-08T13:32:41.250Z"
    }
   },
   "outputs": [],
   "source": [
    "cctv_seoul.sort_values(by = \"소계\", ascending = False).head()  # 오름차순 정렬"
   ]
  },
  {
   "cell_type": "code",
   "execution_count": null,
   "metadata": {
    "ExecuteTime": {
     "end_time": "2019-05-08T13:32:44.658812Z",
     "start_time": "2019-05-08T13:32:41.254Z"
    }
   },
   "outputs": [],
   "source": [
    "cctv_seoul[\"최근증가율\"] = (cctv_seoul[\"2016년\"] + cctv_seoul[\"2015년\"] +\n",
    "                       cctv_seoul[\"2014년\"]) / cctv_seoul[\"2013년도 이전\"] * 100\n",
    "cctv_seoul.sort_values(by = \"최근증가율\", ascending = False).head(5)"
   ]
  },
  {
   "cell_type": "code",
   "execution_count": null,
   "metadata": {
    "ExecuteTime": {
     "end_time": "2019-05-08T13:32:44.660809Z",
     "start_time": "2019-05-08T13:32:41.256Z"
    }
   },
   "outputs": [],
   "source": [
    "pop_seoul.head()"
   ]
  },
  {
   "cell_type": "code",
   "execution_count": null,
   "metadata": {
    "ExecuteTime": {
     "end_time": "2019-05-08T13:32:44.662307Z",
     "start_time": "2019-05-08T13:32:41.259Z"
    }
   },
   "outputs": [],
   "source": [
    "pop_seoul.drop([0], inplace = True)  # 값을 지울 때에는 drop 메소드 사용. 값을 변경할 때는 항상 inplace = True.\n",
    "pop_seoul.head()"
   ]
  },
  {
   "cell_type": "code",
   "execution_count": null,
   "metadata": {
    "ExecuteTime": {
     "end_time": "2019-05-08T13:32:44.663322Z",
     "start_time": "2019-05-08T13:32:41.262Z"
    }
   },
   "outputs": [],
   "source": [
    "pop_seoul[\"구\"].unique()  # 중복된 값이 있으면 하나만 출력하고, 하나 이상의 서로 다른 값들은 리스트로 만들어 출력한다."
   ]
  },
  {
   "cell_type": "code",
   "execution_count": null,
   "metadata": {
    "ExecuteTime": {
     "end_time": "2019-05-08T13:32:44.664313Z",
     "start_time": "2019-05-08T13:32:41.265Z"
    }
   },
   "outputs": [],
   "source": [
    "pop_seoul[pop_seoul[\"구\"].isnull()]  # isnull()로 null 값의 위치를 알아냄. 위 리스트의 마지막에 있는 nan이 null 값."
   ]
  },
  {
   "cell_type": "code",
   "execution_count": null,
   "metadata": {
    "ExecuteTime": {
     "end_time": "2019-05-08T13:32:44.665807Z",
     "start_time": "2019-05-08T13:32:41.270Z"
    }
   },
   "outputs": [],
   "source": [
    "pop_seoul.drop([26], inplace = True)\n",
    "pop_seoul.head()"
   ]
  },
  {
   "cell_type": "code",
   "execution_count": null,
   "metadata": {
    "ExecuteTime": {
     "end_time": "2019-05-08T13:32:44.666799Z",
     "start_time": "2019-05-08T13:32:41.274Z"
    }
   },
   "outputs": [],
   "source": [
    "pop_seoul[\"외국인비율\"] = pop_seoul[\"외국인\"] / pop_seoul[\"인구 수\"] * 100\n",
    "pop_seoul[\"고령자비율\"] = pop_seoul[\"고령자\"] / pop_seoul[\"인구 수\"] * 100\n",
    "pop_seoul.head()"
   ]
  },
  {
   "cell_type": "code",
   "execution_count": null,
   "metadata": {
    "ExecuteTime": {
     "end_time": "2019-05-08T13:32:44.668305Z",
     "start_time": "2019-05-08T13:32:41.277Z"
    }
   },
   "outputs": [],
   "source": [
    "pop_seoul.sort_values(by = \"고령자\", ascending = False).head()"
   ]
  },
  {
   "cell_type": "code",
   "execution_count": null,
   "metadata": {
    "ExecuteTime": {
     "end_time": "2019-05-08T13:32:44.669303Z",
     "start_time": "2019-05-08T13:32:41.281Z"
    }
   },
   "outputs": [],
   "source": [
    "pop_seoul.sort_values(by = \"고령자비율\", ascending = False).head()"
   ]
  },
  {
   "cell_type": "markdown",
   "metadata": {},
   "source": [
    "    pop_seoul.sort_values(by = \"고령자비율\", ascending = False).head(5)\n",
    "**_by = \"정렬 기준으로 사용할 값\"_**"
   ]
  },
  {
   "cell_type": "markdown",
   "metadata": {},
   "source": [
    "## 2일차"
   ]
  },
  {
   "cell_type": "code",
   "execution_count": null,
   "metadata": {
    "ExecuteTime": {
     "end_time": "2019-05-08T13:32:44.670790Z",
     "start_time": "2019-05-08T13:32:41.285Z"
    }
   },
   "outputs": [],
   "source": [
    "data_result = pd.merge(cctv_seoul, pop_seoul, on = \"구\")\n",
    "data_result.head()"
   ]
  },
  {
   "cell_type": "code",
   "execution_count": null,
   "metadata": {
    "ExecuteTime": {
     "end_time": "2019-05-08T13:32:44.671788Z",
     "start_time": "2019-05-08T13:32:41.288Z"
    }
   },
   "outputs": [],
   "source": [
    "del data_result[\"2013년도 이전\"]\n",
    "del data_result[\"2014년\"]\n",
    "del data_result[\"2015년\"]\n",
    "del data_result[\"2016년\"]\n",
    "# 열을 삭제할 때는 del, 행을 삭제할 때는 drop 사용\n",
    "\n",
    "data_result.head()"
   ]
  },
  {
   "cell_type": "code",
   "execution_count": null,
   "metadata": {
    "ExecuteTime": {
     "end_time": "2019-05-08T13:32:44.673295Z",
     "start_time": "2019-05-08T13:32:41.291Z"
    }
   },
   "outputs": [],
   "source": [
    "data_result.set_index(\"구\", inplace = True)  # 기존에 설정한 index = [0, 1, 2, ..., 11]를 \"구\"에 해당하는 열의 값으로 대치.\n",
    "data_result.head()"
   ]
  },
  {
   "cell_type": "markdown",
   "metadata": {},
   "source": [
    "------\n",
    "------"
   ]
  },
  {
   "cell_type": "code",
   "execution_count": null,
   "metadata": {
    "ExecuteTime": {
     "end_time": "2019-05-08T13:32:44.674294Z",
     "start_time": "2019-05-08T13:32:41.293Z"
    }
   },
   "outputs": [],
   "source": [
    "import numpy as np"
   ]
  },
  {
   "cell_type": "code",
   "execution_count": null,
   "metadata": {
    "ExecuteTime": {
     "end_time": "2019-05-08T13:32:44.675782Z",
     "start_time": "2019-05-08T13:32:41.296Z"
    }
   },
   "outputs": [],
   "source": [
    "np.corrcoef(data_result[\"고령자비율\"], data_result[\"소계\"])"
   ]
  },
  {
   "cell_type": "code",
   "execution_count": null,
   "metadata": {
    "ExecuteTime": {
     "end_time": "2019-05-08T13:32:44.676281Z",
     "start_time": "2019-05-08T13:32:41.299Z"
    }
   },
   "outputs": [],
   "source": [
    "np.corrcoef(data_result[\"외국인비율\"], data_result[\"소계\"])"
   ]
  },
  {
   "cell_type": "code",
   "execution_count": null,
   "metadata": {
    "ExecuteTime": {
     "end_time": "2019-05-08T13:32:44.677279Z",
     "start_time": "2019-05-08T13:32:41.301Z"
    }
   },
   "outputs": [],
   "source": [
    "np.corrcoef(data_result[\"인구 수\"], data_result[\"소계\"])"
   ]
  },
  {
   "cell_type": "markdown",
   "metadata": {},
   "source": [
    "**<상관계수>**\n",
    "\n",
    "    np.corrcoef(data_result[\"인구 수\"], data_result[\"소계\"]) == 상관계수를 행렬로 출력하는 함수\n",
    "    \n",
    "    array([[1.        , 0.30634228],  \n",
    "           [0.30634228, 1.        ]])\n",
    "          \n",
    "np.corrcoef()의 출력에서 오른쪽 위의 0.30634228이 상관계수이다.\n",
    "\n",
    "상관계수는 두 데이터 사이의 관련성을 수치적으로 나타내는 것이다.  \n",
    "0.0 이하면 무시해도 되는 수준의 관련성을 의미하고,  \n",
    "0.3 이면 약한 상관관계가 있음을 의미하며,  \n",
    "0.7 이상이면 강한 상관관계가 있음을 의미한다."
   ]
  },
  {
   "cell_type": "markdown",
   "metadata": {},
   "source": [
    "------\n",
    "------"
   ]
  },
  {
   "cell_type": "code",
   "execution_count": 8,
   "metadata": {
    "ExecuteTime": {
     "end_time": "2019-05-08T13:32:58.699376Z",
     "start_time": "2019-05-08T13:32:58.479310Z"
    }
   },
   "outputs": [],
   "source": [
    "import matplotlib.pyplot as plt\n",
    "%matplotlib inline\n",
    "\n",
    "import numpy as np"
   ]
  },
  {
   "cell_type": "code",
   "execution_count": 10,
   "metadata": {
    "ExecuteTime": {
     "end_time": "2019-05-08T13:33:07.050717Z",
     "start_time": "2019-05-08T13:33:07.046725Z"
    }
   },
   "outputs": [],
   "source": [
    "t = np.arange(0, 12, 0.01)  # arnage(a, b, c)는 a부터 b 사이의 값을 c만큼 바꾼 결과에 대한 행렬을 반환한다.\n",
    "y = np.sin(t)"
   ]
  },
  {
   "cell_type": "code",
   "execution_count": null,
   "metadata": {
    "ExecuteTime": {
     "end_time": "2019-05-08T13:32:44.680774Z",
     "start_time": "2019-05-08T13:32:41.308Z"
    }
   },
   "outputs": [],
   "source": [
    "plt.figure(figsize = (10, 6))  # figsize = (a, b)는 x축으로 a만큼, y축으로 b만큼의 크기를 갖는 그래프를 그린다는 의미이다.\n",
    "plt.plot(t, y)\n",
    "plt.show()"
   ]
  },
  {
   "cell_type": "code",
   "execution_count": 13,
   "metadata": {
    "ExecuteTime": {
     "end_time": "2019-05-08T13:33:43.086002Z",
     "start_time": "2019-05-08T13:33:42.854430Z"
    }
   },
   "outputs": [
    {
     "data": {
      "image/png": "[encoded data removed]",
      "text/plain": [
       "<Figure size 720x432 with 1 Axes>"
      ]
     },
     "metadata": {
      "needs_background": "light"
     },
     "output_type": "display_data"
    }
   ],
   "source": [
    "plt.figure(figsize = (10, 6))\n",
    "\n",
    "plt.plot(t, np.sin(t), label = \"Sine\")\n",
    "plt.plot(t, np.cos(t), label = \"Cosine\")\n",
    "\n",
    "plt.legend()\n",
    "\n",
    "plt.grid()  # 좌표계 그리드 표시\n",
    "\n",
    "plt.xlabel(\"Time\")  # x축 이름 표시\n",
    "plt.ylabel(\"Amplitude\")  # y축 이름 표시\n",
    "\n",
    "plt.title(\"The example of sine and cosine wave\")  # 그래프 제목 표시\n",
    "\n",
    "plt.show()"
   ]
  },
  {
   "cell_type": "code",
   "execution_count": null,
   "metadata": {
    "ExecuteTime": {
     "end_time": "2019-05-08T13:32:44.682270Z",
     "start_time": "2019-05-08T13:32:41.316Z"
    }
   },
   "outputs": [],
   "source": [
    "t = [0, 1, 2, 3, 4, 5, 6]\n",
    "y = [1, 4, 5, 8, 9, 5, 3]\n",
    "\n",
    "plt.figure(figsize = (10, 6))\n",
    "\n",
    "plt.plot(t, y, color = \"green\")\n",
    "\n",
    "plt.show()"
   ]
  },
  {
   "cell_type": "code",
   "execution_count": null,
   "metadata": {
    "ExecuteTime": {
     "end_time": "2019-05-08T13:32:44.682783Z",
     "start_time": "2019-05-08T13:32:41.318Z"
    }
   },
   "outputs": [],
   "source": [
    "t = np.array([0, 1, 2, 3, 4, 5, 6, 7, 8, 9])\n",
    "y = np.array([9, 8, 7, 9, 8, 3, 2, 4, 3, 4])"
   ]
  },
  {
   "cell_type": "code",
   "execution_count": null,
   "metadata": {
    "ExecuteTime": {
     "end_time": "2019-05-08T13:32:44.683768Z",
     "start_time": "2019-05-08T13:32:41.322Z"
    }
   },
   "outputs": [],
   "source": [
    "plt.figure(figsize = (10, 6))\n",
    "\n",
    "plt.scatter(t, y)  # 분산형 차트로 표시\n",
    "\n",
    "plt.show()"
   ]
  },
  {
   "cell_type": "code",
   "execution_count": null,
   "metadata": {
    "ExecuteTime": {
     "end_time": "2019-05-08T13:32:44.684265Z",
     "start_time": "2019-05-08T13:32:41.324Z"
    }
   },
   "outputs": [],
   "source": [
    "colormap = t\n",
    "\n",
    "plt.figure(figsize = (10, 6))\n",
    "\n",
    "plt.scatter(t, y, s = 50, c = colormap, marker = \"x\")  # marker = x, p, >, <, o 등을 사용 가능\n",
    "\n",
    "plt.colorbar()  # 색상표 사용\n",
    "\n",
    "plt.show()"
   ]
  },
  {
   "cell_type": "code",
   "execution_count": null,
   "metadata": {
    "ExecuteTime": {
     "end_time": "2019-05-08T13:32:44.685278Z",
     "start_time": "2019-05-08T13:32:41.327Z"
    }
   },
   "outputs": [],
   "source": [
    "s1 = np.random.normal(loc = 0, scale = 1, size = 1000)\n",
    "s2 = np.random.normal(loc = 5, scale = 0.5, size = 1000)\n",
    "s3 = np.random.normal(loc = 10, scale = 2, size = 1000)"
   ]
  },
  {
   "cell_type": "code",
   "execution_count": null,
   "metadata": {
    "ExecuteTime": {
     "end_time": "2019-05-08T13:32:44.685763Z",
     "start_time": "2019-05-08T13:32:41.331Z"
    }
   },
   "outputs": [],
   "source": [
    "plt.figure(figsize = (15, 10))\n",
    "\n",
    "plt.plot(s1, lable = \"s1\")\n",
    "plt.plot(s2, lable = \"s2\")\n",
    "plt.plot(s3, lable = \"s3\")\n",
    "\n",
    "plt.legend()\n",
    "\n",
    "plt.show()"
   ]
  },
  {
   "cell_type": "code",
   "execution_count": null,
   "metadata": {
    "ExecuteTime": {
     "end_time": "2019-05-08T13:32:44.686761Z",
     "start_time": "2019-05-08T13:32:41.334Z"
    }
   },
   "outputs": [],
   "source": [
    "plt.figure(figsize = (15, 10))\n",
    "\n",
    "plt.boxplot((s1, s2, s3))\n",
    "\n",
    "plt.grid()\n",
    "\n",
    "plt.show()"
   ]
  },
  {
   "cell_type": "code",
   "execution_count": null,
   "metadata": {
    "ExecuteTime": {
     "end_time": "2019-05-08T13:32:44.687759Z",
     "start_time": "2019-05-08T13:32:41.336Z"
    }
   },
   "outputs": [],
   "source": [
    "import platform\n",
    "\n",
    "from matplotlib import font_manager, rc\n",
    "plt.rcParams[\"axes.unicode_minus\"] = False\n",
    "\n",
    "if platform.system() == \"Darwin\":\n",
    "    rc(\"font\", family = \"AppleGothic\")\n",
    "    \n",
    "elif platform.system() == \"Windows\":\n",
    "    path = \"C:\\\\Windows\\\\Fonts\\\\malgun.ttf\"\n",
    "    font_name = font_manager.FontProperties(fname = path).get_name()\n",
    "    rc(\"font\", family = font_name)\n",
    "    \n",
    "else:\n",
    "    print(\"Not available system\")"
   ]
  },
  {
   "cell_type": "code",
   "execution_count": null,
   "metadata": {
    "ExecuteTime": {
     "end_time": "2019-05-08T13:32:44.688260Z",
     "start_time": "2019-05-08T13:32:41.340Z"
    }
   },
   "outputs": [],
   "source": [
    "data_result.head()"
   ]
  },
  {
   "cell_type": "code",
   "execution_count": null,
   "metadata": {
    "ExecuteTime": {
     "end_time": "2019-05-08T13:32:44.689258Z",
     "start_time": "2019-05-08T13:32:41.343Z"
    }
   },
   "outputs": [],
   "source": [
    "plt.figure()\n",
    "\n",
    "data_result[\"소계\"].plot(kind = \"barh\", grid = True, figsize = (15, 10))\n",
    "\n",
    "plt.show()"
   ]
  },
  {
   "cell_type": "code",
   "execution_count": null,
   "metadata": {
    "ExecuteTime": {
     "end_time": "2019-05-08T13:32:44.690256Z",
     "start_time": "2019-05-08T13:32:41.347Z"
    }
   },
   "outputs": [],
   "source": [
    "data_result[\"소계\"].sort_values().plot(kind = \"barh\", grid = True, figsize = (15, 10))\n",
    "\n",
    "plt.show()"
   ]
  },
  {
   "cell_type": "code",
   "execution_count": null,
   "metadata": {
    "ExecuteTime": {
     "end_time": "2019-05-08T13:32:44.691254Z",
     "start_time": "2019-05-08T13:32:41.349Z"
    }
   },
   "outputs": [],
   "source": [
    "data_result[\"CCTV 비율\"] = data_result[\"소계\"] / data_result[\"인구 수\"] * 100  # 데이터에 열 추가.\n",
    "\n",
    "data_result[\"CCTV 비율\"].sort_values(ascending = False).plot(kind = \"bar\", grid = True, figsize = (15, 10))  # 앞에서 추가한 열을 기준으로 정렬.\n",
    "\n",
    "plt.show()"
   ]
  },
  {
   "cell_type": "code",
   "execution_count": null,
   "metadata": {
    "ExecuteTime": {
     "end_time": "2019-05-08T13:32:44.692252Z",
     "start_time": "2019-05-08T13:32:41.351Z"
    }
   },
   "outputs": [],
   "source": [
    "plt.figure(figsize = (6, 6))\n",
    "\n",
    "plt.scatter(data_result[\"인구 수\"], data_result[\"소계\"], s = 50, marker = \"x\")  # marker = x, p, >, <, o 등을 사용 가능\n",
    "\n",
    "plt.xlabel(\"인구 수\")\n",
    "plt.ylabel(\"CCTV\")\n",
    "\n",
    "plt.grid()\n",
    "\n",
    "plt.show()"
   ]
  },
  {
   "cell_type": "code",
   "execution_count": null,
   "metadata": {
    "ExecuteTime": {
     "end_time": "2019-05-08T13:32:44.693249Z",
     "start_time": "2019-05-08T13:32:41.355Z"
    }
   },
   "outputs": [],
   "source": [
    "fp1 = np.polyfit(data_result[\"인구 수\"], data_result[\"소계\"], 1)  # 평균값을 나타내는 직선을 표시하는 함수.\n",
    "\n",
    "fp1"
   ]
  },
  {
   "cell_type": "code",
   "execution_count": null,
   "metadata": {
    "ExecuteTime": {
     "end_time": "2019-05-08T13:32:44.697241Z",
     "start_time": "2019-05-08T13:32:41.357Z"
    }
   },
   "outputs": [],
   "source": [
    "f1 = np.poly1d(fp1)  # poly1d는 평균값을 찾아서 반환하는 명령어\n",
    "fx = np.linspace(100000, 700000, 100)  # x축"
   ]
  },
  {
   "cell_type": "code",
   "execution_count": null,
   "metadata": {
    "ExecuteTime": {
     "end_time": "2019-05-08T13:32:44.698240Z",
     "start_time": "2019-05-08T13:32:41.360Z"
    }
   },
   "outputs": [],
   "source": [
    "plt.figure(dpi = 121, num = 1, figsize = (10, 10))\n",
    "\n",
    "plt.scatter(data_result[\"인구 수\"], data_result[\"소계\"], s = 50)\n",
    "\n",
    "plt.plot(fx, f1(fx), ls = \"dotted\", lw = 3, color = \"gray\")\n",
    "\n",
    "plt.xlabel(\"인구 수\", fontsize = 16)\n",
    "plt.ylabel(\"CCTV\", fontsize = 16)\n",
    "\n",
    "plt.grid()\n",
    "\n",
    "plt.show()"
   ]
  },
  {
   "cell_type": "code",
   "execution_count": null,
   "metadata": {
    "ExecuteTime": {
     "end_time": "2019-05-08T13:32:44.699755Z",
     "start_time": "2019-05-08T13:32:41.363Z"
    }
   },
   "outputs": [],
   "source": [
    "fp1 = np.polyfit(data_result[\"인구 수\"], data_result[\"소계\"], 1)\n",
    "f1 = np.poly1d(fp1)\n",
    "fx = np.linspace(100000, 700000, 100)\n",
    "\n",
    "data_result[\"오차\"] = np.abs(data_result[\"소계\"] - f1(data_result[\"인구 수\"]))\n",
    "\n",
    "df_sort = data_result.sort_values(by = \"오차\", ascending = 0)\n",
    "df_sort.head()"
   ]
  },
  {
   "cell_type": "code",
   "execution_count": null,
   "metadata": {
    "ExecuteTime": {
     "end_time": "2019-05-08T13:32:44.701234Z",
     "start_time": "2019-05-08T13:32:41.367Z"
    }
   },
   "outputs": [],
   "source": [
    "plt.figure(dpi = 100, figsize = (14, 10))\n",
    "\n",
    "plt.scatter(data_result[\"인구 수\"], data_result[\"소계\"], c = data_result[\"오차\"], s = 50)\n",
    "\n",
    "plt.plot(fx, f1(fx), ls = \"dotted\", lw = 3, color = \"gray\")\n",
    "\n",
    "for n in range(10):\n",
    "    plt.text(df_sort[\"인구 수\"][n] * 1.02, df_sort[\"소계\"][n] * 0.98,\n",
    "             df_sort.index[n], fontsize = 16)\n",
    "    \n",
    "plt.xlabel(\"인구 수\", fontsize = 16)\n",
    "plt.ylabel(\"비율\", fontsize = 16)\n",
    "\n",
    "plt.colorbar()\n",
    "plt.grid()\n",
    "\n",
    "plt.show()"
   ]
  },
  {
   "cell_type": "code",
   "execution_count": null,
   "metadata": {},
   "outputs": [],
   "source": []
  }
 ],
 "metadata": {
  "kernelspec": {
   "display_name": "Python 3",
   "language": "python",
   "name": "python3"
  },
  "language_info": {
   "codemirror_mode": {
    "name": "ipython",
    "version": 3
   },
   "file_extension": ".py",
   "mimetype": "text/x-python",
   "name": "python",
   "nbconvert_exporter": "python",
   "pygments_lexer": "ipython3",
   "version": "3.7.3"
  },
  "varInspector": {
   "cols": {
    "lenName": "20",
    "lenType": "10",
    "lenVar": "60"
   },
   "kernels_config": {
    "python": {
     "delete_cmd_postfix": "",
     "delete_cmd_prefix": "del ",
     "library": "var_list.py",
     "varRefreshCmd": "print(var_dic_list())"
    },
    "r": {
     "delete_cmd_postfix": ") ",
     "delete_cmd_prefix": "rm(",
     "library": "var_list.r",
     "varRefreshCmd": "cat(var_dic_list()) "
    }
   },
   "types_to_exclude": [
    "module",
    "function",
    "builtin_function_or_method",
    "instance",
    "_Feature"
   ],
   "window_display": false
  }
 },
 "nbformat": 4,
 "nbformat_minor": 2
}
