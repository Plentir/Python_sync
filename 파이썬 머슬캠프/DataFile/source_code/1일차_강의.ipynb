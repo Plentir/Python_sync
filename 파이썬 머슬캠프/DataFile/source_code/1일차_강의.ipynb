{
 "cells": [
  {
   "cell_type": "markdown",
   "metadata": {
    "ExecuteTime": {
     "end_time": "2019-05-07T11:13:53.102341Z",
     "start_time": "2019-05-07T11:13:53.095398Z"
    }
   },
   "source": [
    "[강의 자료 열람하는 곳](https://blog.naver.com/yangha1000)"
   ]
  },
  {
   "cell_type": "code",
   "execution_count": 109,
   "metadata": {
    "ExecuteTime": {
     "end_time": "2019-05-07T10:55:32.207473Z",
     "start_time": "2019-05-07T10:55:32.204362Z"
    }
   },
   "outputs": [],
   "source": [
    "import pandas as pd  # 데이터 분석을 간편하게 수행하기 위한 모듈.\n",
    "import numpy as np  # 배열 데이터를 처리할 수 있게 해줌."
   ]
  },
  {
   "cell_type": "code",
   "execution_count": 110,
   "metadata": {
    "ExecuteTime": {
     "end_time": "2019-05-07T10:55:32.242556Z",
     "start_time": "2019-05-07T10:55:32.211804Z"
    }
   },
   "outputs": [
    {
     "data": {
      "text/plain": [
       "0    1.0\n",
       "1    3.0\n",
       "2    5.0\n",
       "3    NaN\n",
       "4    6.0\n",
       "5    8.0\n",
       "dtype: float64"
      ]
     },
     "execution_count": 110,
     "metadata": {},
     "output_type": "execute_result"
    }
   ],
   "source": [
    "s = pd.Series([1, 3, 5, np.nan, 6, 8])  # np.nan은 null 값을 반환함. NaN으로 표시됨.\n",
    "s"
   ]
  },
  {
   "cell_type": "code",
   "execution_count": 111,
   "metadata": {
    "ExecuteTime": {
     "end_time": "2019-05-07T10:55:32.266061Z",
     "start_time": "2019-05-07T10:55:32.247018Z"
    }
   },
   "outputs": [
    {
     "data": {
      "text/plain": [
       "DatetimeIndex(['2019-05-07', '2019-05-08', '2019-05-09', '2019-05-10',\n",
       "               '2019-05-11', '2019-05-12', '2019-05-13'],\n",
       "              dtype='datetime64[ns]', freq='D')"
      ]
     },
     "execution_count": 111,
     "metadata": {},
     "output_type": "execute_result"
    }
   ],
   "source": [
    "dates = pd.date_range(\"20190507\", freq = \"D\", periods = 7)  # freq는 \"D\", M\", \"Y\" 등을 값으로 가지는 변수로, 설정된 기간을 무엇을 기준으로 반환할지 결정.periods는 기간을 설정하는 변수.\n",
    "dates"
   ]
  },
  {
   "cell_type": "code",
   "execution_count": 112,
   "metadata": {
    "ExecuteTime": {
     "end_time": "2019-05-07T10:55:32.300720Z",
     "start_time": "2019-05-07T10:55:32.269834Z"
    }
   },
   "outputs": [
    {
     "data": {
      "text/html": [
       "<div>\n",
       "<style scoped>\n",
       "    .dataframe tbody tr th:only-of-type {\n",
       "        vertical-align: middle;\n",
       "    }\n",
       "\n",
       "    .dataframe tbody tr th {\n",
       "        vertical-align: top;\n",
       "    }\n",
       "\n",
       "    .dataframe thead th {\n",
       "        text-align: right;\n",
       "    }\n",
       "</style>\n",
       "<table border=\"1\" class=\"dataframe\">\n",
       "  <thead>\n",
       "    <tr style=\"text-align: right;\">\n",
       "      <th></th>\n",
       "      <th>A</th>\n",
       "      <th>B</th>\n",
       "      <th>C</th>\n",
       "      <th>D</th>\n",
       "    </tr>\n",
       "  </thead>\n",
       "  <tbody>\n",
       "    <tr>\n",
       "      <th>2019-05-07</th>\n",
       "      <td>0.238011</td>\n",
       "      <td>0.014141</td>\n",
       "      <td>-1.888309</td>\n",
       "      <td>-0.927509</td>\n",
       "    </tr>\n",
       "    <tr>\n",
       "      <th>2019-05-08</th>\n",
       "      <td>0.959696</td>\n",
       "      <td>-0.225320</td>\n",
       "      <td>1.032591</td>\n",
       "      <td>0.336661</td>\n",
       "    </tr>\n",
       "    <tr>\n",
       "      <th>2019-05-09</th>\n",
       "      <td>1.672731</td>\n",
       "      <td>2.350606</td>\n",
       "      <td>0.697396</td>\n",
       "      <td>-0.191989</td>\n",
       "    </tr>\n",
       "    <tr>\n",
       "      <th>2019-05-10</th>\n",
       "      <td>-1.564779</td>\n",
       "      <td>1.398910</td>\n",
       "      <td>0.387942</td>\n",
       "      <td>-1.090626</td>\n",
       "    </tr>\n",
       "    <tr>\n",
       "      <th>2019-05-11</th>\n",
       "      <td>0.304995</td>\n",
       "      <td>0.359195</td>\n",
       "      <td>-1.405268</td>\n",
       "      <td>-0.447880</td>\n",
       "    </tr>\n",
       "    <tr>\n",
       "      <th>2019-05-12</th>\n",
       "      <td>-0.630958</td>\n",
       "      <td>0.396504</td>\n",
       "      <td>1.239522</td>\n",
       "      <td>0.207337</td>\n",
       "    </tr>\n",
       "    <tr>\n",
       "      <th>2019-05-13</th>\n",
       "      <td>0.595265</td>\n",
       "      <td>1.668330</td>\n",
       "      <td>0.585145</td>\n",
       "      <td>0.175871</td>\n",
       "    </tr>\n",
       "  </tbody>\n",
       "</table>\n",
       "</div>"
      ],
      "text/plain": [
       "                   A         B         C         D\n",
       "2019-05-07  0.238011  0.014141 -1.888309 -0.927509\n",
       "2019-05-08  0.959696 -0.225320  1.032591  0.336661\n",
       "2019-05-09  1.672731  2.350606  0.697396 -0.191989\n",
       "2019-05-10 -1.564779  1.398910  0.387942 -1.090626\n",
       "2019-05-11  0.304995  0.359195 -1.405268 -0.447880\n",
       "2019-05-12 -0.630958  0.396504  1.239522  0.207337\n",
       "2019-05-13  0.595265  1.668330  0.585145  0.175871"
      ]
     },
     "execution_count": 112,
     "metadata": {},
     "output_type": "execute_result"
    }
   ],
   "source": [
    "df = pd.DataFrame(np.random.randn(7, 4), index = dates, columns = [\"A\", \"B\", \"C\", \"D\"])  # np.random.randn(7, 4)는 총 7행 x 4열 프레임에 난수를 채워넣겠다는 의미이다.\n",
    "df"
   ]
  },
  {
   "cell_type": "code",
   "execution_count": 113,
   "metadata": {
    "ExecuteTime": {
     "end_time": "2019-05-07T10:55:32.327410Z",
     "start_time": "2019-05-07T10:55:32.303592Z"
    }
   },
   "outputs": [
    {
     "data": {
      "text/html": [
       "<div>\n",
       "<style scoped>\n",
       "    .dataframe tbody tr th:only-of-type {\n",
       "        vertical-align: middle;\n",
       "    }\n",
       "\n",
       "    .dataframe tbody tr th {\n",
       "        vertical-align: top;\n",
       "    }\n",
       "\n",
       "    .dataframe thead th {\n",
       "        text-align: right;\n",
       "    }\n",
       "</style>\n",
       "<table border=\"1\" class=\"dataframe\">\n",
       "  <thead>\n",
       "    <tr style=\"text-align: right;\">\n",
       "      <th></th>\n",
       "      <th>A</th>\n",
       "      <th>B</th>\n",
       "      <th>C</th>\n",
       "      <th>D</th>\n",
       "    </tr>\n",
       "  </thead>\n",
       "  <tbody>\n",
       "    <tr>\n",
       "      <th>2019-05-07</th>\n",
       "      <td>0.238011</td>\n",
       "      <td>0.014141</td>\n",
       "      <td>-1.888309</td>\n",
       "      <td>-0.927509</td>\n",
       "    </tr>\n",
       "    <tr>\n",
       "      <th>2019-05-08</th>\n",
       "      <td>0.959696</td>\n",
       "      <td>-0.225320</td>\n",
       "      <td>1.032591</td>\n",
       "      <td>0.336661</td>\n",
       "    </tr>\n",
       "    <tr>\n",
       "      <th>2019-05-09</th>\n",
       "      <td>1.672731</td>\n",
       "      <td>2.350606</td>\n",
       "      <td>0.697396</td>\n",
       "      <td>-0.191989</td>\n",
       "    </tr>\n",
       "    <tr>\n",
       "      <th>2019-05-10</th>\n",
       "      <td>-1.564779</td>\n",
       "      <td>1.398910</td>\n",
       "      <td>0.387942</td>\n",
       "      <td>-1.090626</td>\n",
       "    </tr>\n",
       "    <tr>\n",
       "      <th>2019-05-11</th>\n",
       "      <td>0.304995</td>\n",
       "      <td>0.359195</td>\n",
       "      <td>-1.405268</td>\n",
       "      <td>-0.447880</td>\n",
       "    </tr>\n",
       "    <tr>\n",
       "      <th>2019-05-12</th>\n",
       "      <td>-0.630958</td>\n",
       "      <td>0.396504</td>\n",
       "      <td>1.239522</td>\n",
       "      <td>0.207337</td>\n",
       "    </tr>\n",
       "    <tr>\n",
       "      <th>2019-05-13</th>\n",
       "      <td>0.595265</td>\n",
       "      <td>1.668330</td>\n",
       "      <td>0.585145</td>\n",
       "      <td>0.175871</td>\n",
       "    </tr>\n",
       "  </tbody>\n",
       "</table>\n",
       "</div>"
      ],
      "text/plain": [
       "                   A         B         C         D\n",
       "2019-05-07  0.238011  0.014141 -1.888309 -0.927509\n",
       "2019-05-08  0.959696 -0.225320  1.032591  0.336661\n",
       "2019-05-09  1.672731  2.350606  0.697396 -0.191989\n",
       "2019-05-10 -1.564779  1.398910  0.387942 -1.090626\n",
       "2019-05-11  0.304995  0.359195 -1.405268 -0.447880\n",
       "2019-05-12 -0.630958  0.396504  1.239522  0.207337\n",
       "2019-05-13  0.595265  1.668330  0.585145  0.175871"
      ]
     },
     "execution_count": 113,
     "metadata": {},
     "output_type": "execute_result"
    }
   ],
   "source": [
    "df.head(7)  # df.head([line #], [sort])를 사용하면 기본적으로 5개의 행만 보임. [line # = int]를 입력하면 그 수만큼 행을 표시함.\n",
    "# [sort = ]를 입력하면"
   ]
  },
  {
   "cell_type": "code",
   "execution_count": 114,
   "metadata": {
    "ExecuteTime": {
     "end_time": "2019-05-07T10:55:32.342786Z",
     "start_time": "2019-05-07T10:55:32.331379Z"
    }
   },
   "outputs": [
    {
     "data": {
      "text/plain": [
       "DatetimeIndex(['2019-05-07', '2019-05-08', '2019-05-09', '2019-05-10',\n",
       "               '2019-05-11', '2019-05-12', '2019-05-13'],\n",
       "              dtype='datetime64[ns]', freq='D')"
      ]
     },
     "execution_count": 114,
     "metadata": {},
     "output_type": "execute_result"
    }
   ],
   "source": [
    "df.index"
   ]
  },
  {
   "cell_type": "code",
   "execution_count": 115,
   "metadata": {
    "ExecuteTime": {
     "end_time": "2019-05-07T10:55:32.366058Z",
     "start_time": "2019-05-07T10:55:32.346713Z"
    }
   },
   "outputs": [
    {
     "data": {
      "text/plain": [
       "Index(['A', 'B', 'C', 'D'], dtype='object')"
      ]
     },
     "execution_count": 115,
     "metadata": {},
     "output_type": "execute_result"
    }
   ],
   "source": [
    "df.columns"
   ]
  },
  {
   "cell_type": "code",
   "execution_count": 116,
   "metadata": {
    "ExecuteTime": {
     "end_time": "2019-05-07T10:55:32.389096Z",
     "start_time": "2019-05-07T10:55:32.368542Z"
    }
   },
   "outputs": [
    {
     "data": {
      "text/plain": [
       "array([[ 0.23801104,  0.01414055, -1.88830859, -0.9275091 ],\n",
       "       [ 0.95969574, -0.22532011,  1.03259069,  0.33666073],\n",
       "       [ 1.67273121,  2.3506061 ,  0.69739599, -0.19198898],\n",
       "       [-1.56477886,  1.39891041,  0.38794186, -1.09062646],\n",
       "       [ 0.30499514,  0.35919543, -1.40526763, -0.4478798 ],\n",
       "       [-0.6309578 ,  0.39650378,  1.23952242,  0.20733697],\n",
       "       [ 0.59526542,  1.66833034,  0.5851453 ,  0.17587073]])"
      ]
     },
     "execution_count": 116,
     "metadata": {},
     "output_type": "execute_result"
    }
   ],
   "source": [
    "df.values"
   ]
  },
  {
   "cell_type": "code",
   "execution_count": 117,
   "metadata": {
    "ExecuteTime": {
     "end_time": "2019-05-07T10:55:32.416654Z",
     "start_time": "2019-05-07T10:55:32.392355Z"
    }
   },
   "outputs": [
    {
     "data": {
      "text/plain": [
       "<bound method DataFrame.info of                    A         B         C         D\n",
       "2019-05-07  0.238011  0.014141 -1.888309 -0.927509\n",
       "2019-05-08  0.959696 -0.225320  1.032591  0.336661\n",
       "2019-05-09  1.672731  2.350606  0.697396 -0.191989\n",
       "2019-05-10 -1.564779  1.398910  0.387942 -1.090626\n",
       "2019-05-11  0.304995  0.359195 -1.405268 -0.447880\n",
       "2019-05-12 -0.630958  0.396504  1.239522  0.207337\n",
       "2019-05-13  0.595265  1.668330  0.585145  0.175871>"
      ]
     },
     "execution_count": 117,
     "metadata": {},
     "output_type": "execute_result"
    }
   ],
   "source": [
    "df.info"
   ]
  },
  {
   "cell_type": "code",
   "execution_count": 118,
   "metadata": {
    "ExecuteTime": {
     "end_time": "2019-05-07T10:55:32.483920Z",
     "start_time": "2019-05-07T10:55:32.419630Z"
    }
   },
   "outputs": [
    {
     "data": {
      "text/html": [
       "<div>\n",
       "<style scoped>\n",
       "    .dataframe tbody tr th:only-of-type {\n",
       "        vertical-align: middle;\n",
       "    }\n",
       "\n",
       "    .dataframe tbody tr th {\n",
       "        vertical-align: top;\n",
       "    }\n",
       "\n",
       "    .dataframe thead th {\n",
       "        text-align: right;\n",
       "    }\n",
       "</style>\n",
       "<table border=\"1\" class=\"dataframe\">\n",
       "  <thead>\n",
       "    <tr style=\"text-align: right;\">\n",
       "      <th></th>\n",
       "      <th>A</th>\n",
       "      <th>B</th>\n",
       "      <th>C</th>\n",
       "      <th>D</th>\n",
       "    </tr>\n",
       "  </thead>\n",
       "  <tbody>\n",
       "    <tr>\n",
       "      <th>count</th>\n",
       "      <td>7.000000</td>\n",
       "      <td>7.000000</td>\n",
       "      <td>7.000000</td>\n",
       "      <td>7.000000</td>\n",
       "    </tr>\n",
       "    <tr>\n",
       "      <th>mean</th>\n",
       "      <td>0.224995</td>\n",
       "      <td>0.851767</td>\n",
       "      <td>0.092717</td>\n",
       "      <td>-0.276877</td>\n",
       "    </tr>\n",
       "    <tr>\n",
       "      <th>std</th>\n",
       "      <td>1.057934</td>\n",
       "      <td>0.959539</td>\n",
       "      <td>1.228971</td>\n",
       "      <td>0.568306</td>\n",
       "    </tr>\n",
       "    <tr>\n",
       "      <th>min</th>\n",
       "      <td>-1.564779</td>\n",
       "      <td>-0.225320</td>\n",
       "      <td>-1.888309</td>\n",
       "      <td>-1.090626</td>\n",
       "    </tr>\n",
       "    <tr>\n",
       "      <th>25%</th>\n",
       "      <td>-0.196473</td>\n",
       "      <td>0.186668</td>\n",
       "      <td>-0.508663</td>\n",
       "      <td>-0.687694</td>\n",
       "    </tr>\n",
       "    <tr>\n",
       "      <th>50%</th>\n",
       "      <td>0.304995</td>\n",
       "      <td>0.396504</td>\n",
       "      <td>0.585145</td>\n",
       "      <td>-0.191989</td>\n",
       "    </tr>\n",
       "    <tr>\n",
       "      <th>75%</th>\n",
       "      <td>0.777481</td>\n",
       "      <td>1.533620</td>\n",
       "      <td>0.864993</td>\n",
       "      <td>0.191604</td>\n",
       "    </tr>\n",
       "    <tr>\n",
       "      <th>max</th>\n",
       "      <td>1.672731</td>\n",
       "      <td>2.350606</td>\n",
       "      <td>1.239522</td>\n",
       "      <td>0.336661</td>\n",
       "    </tr>\n",
       "  </tbody>\n",
       "</table>\n",
       "</div>"
      ],
      "text/plain": [
       "              A         B         C         D\n",
       "count  7.000000  7.000000  7.000000  7.000000\n",
       "mean   0.224995  0.851767  0.092717 -0.276877\n",
       "std    1.057934  0.959539  1.228971  0.568306\n",
       "min   -1.564779 -0.225320 -1.888309 -1.090626\n",
       "25%   -0.196473  0.186668 -0.508663 -0.687694\n",
       "50%    0.304995  0.396504  0.585145 -0.191989\n",
       "75%    0.777481  1.533620  0.864993  0.191604\n",
       "max    1.672731  2.350606  1.239522  0.336661"
      ]
     },
     "execution_count": 118,
     "metadata": {},
     "output_type": "execute_result"
    }
   ],
   "source": [
    "df.describe()  # 통계학적 값을 자동으로 계산하여 출력해줌. 자료의 개수(count), 평균(mean) 등등."
   ]
  },
  {
   "cell_type": "code",
   "execution_count": 119,
   "metadata": {
    "ExecuteTime": {
     "end_time": "2019-05-07T10:55:32.514892Z",
     "start_time": "2019-05-07T10:55:32.487626Z"
    }
   },
   "outputs": [
    {
     "data": {
      "text/html": [
       "<div>\n",
       "<style scoped>\n",
       "    .dataframe tbody tr th:only-of-type {\n",
       "        vertical-align: middle;\n",
       "    }\n",
       "\n",
       "    .dataframe tbody tr th {\n",
       "        vertical-align: top;\n",
       "    }\n",
       "\n",
       "    .dataframe thead th {\n",
       "        text-align: right;\n",
       "    }\n",
       "</style>\n",
       "<table border=\"1\" class=\"dataframe\">\n",
       "  <thead>\n",
       "    <tr style=\"text-align: right;\">\n",
       "      <th></th>\n",
       "      <th>A</th>\n",
       "      <th>B</th>\n",
       "      <th>C</th>\n",
       "      <th>D</th>\n",
       "    </tr>\n",
       "  </thead>\n",
       "  <tbody>\n",
       "    <tr>\n",
       "      <th>2019-05-08</th>\n",
       "      <td>0.959696</td>\n",
       "      <td>-0.225320</td>\n",
       "      <td>1.032591</td>\n",
       "      <td>0.336661</td>\n",
       "    </tr>\n",
       "    <tr>\n",
       "      <th>2019-05-07</th>\n",
       "      <td>0.238011</td>\n",
       "      <td>0.014141</td>\n",
       "      <td>-1.888309</td>\n",
       "      <td>-0.927509</td>\n",
       "    </tr>\n",
       "    <tr>\n",
       "      <th>2019-05-11</th>\n",
       "      <td>0.304995</td>\n",
       "      <td>0.359195</td>\n",
       "      <td>-1.405268</td>\n",
       "      <td>-0.447880</td>\n",
       "    </tr>\n",
       "    <tr>\n",
       "      <th>2019-05-12</th>\n",
       "      <td>-0.630958</td>\n",
       "      <td>0.396504</td>\n",
       "      <td>1.239522</td>\n",
       "      <td>0.207337</td>\n",
       "    </tr>\n",
       "    <tr>\n",
       "      <th>2019-05-10</th>\n",
       "      <td>-1.564779</td>\n",
       "      <td>1.398910</td>\n",
       "      <td>0.387942</td>\n",
       "      <td>-1.090626</td>\n",
       "    </tr>\n",
       "    <tr>\n",
       "      <th>2019-05-13</th>\n",
       "      <td>0.595265</td>\n",
       "      <td>1.668330</td>\n",
       "      <td>0.585145</td>\n",
       "      <td>0.175871</td>\n",
       "    </tr>\n",
       "    <tr>\n",
       "      <th>2019-05-09</th>\n",
       "      <td>1.672731</td>\n",
       "      <td>2.350606</td>\n",
       "      <td>0.697396</td>\n",
       "      <td>-0.191989</td>\n",
       "    </tr>\n",
       "  </tbody>\n",
       "</table>\n",
       "</div>"
      ],
      "text/plain": [
       "                   A         B         C         D\n",
       "2019-05-08  0.959696 -0.225320  1.032591  0.336661\n",
       "2019-05-07  0.238011  0.014141 -1.888309 -0.927509\n",
       "2019-05-11  0.304995  0.359195 -1.405268 -0.447880\n",
       "2019-05-12 -0.630958  0.396504  1.239522  0.207337\n",
       "2019-05-10 -1.564779  1.398910  0.387942 -1.090626\n",
       "2019-05-13  0.595265  1.668330  0.585145  0.175871\n",
       "2019-05-09  1.672731  2.350606  0.697396 -0.191989"
      ]
     },
     "execution_count": 119,
     "metadata": {},
     "output_type": "execute_result"
    }
   ],
   "source": [
    "df.sort_values(by = \"B\", ascending = True)  # by = \"기준 행\", ascending = False / True 내림차순, 오름차순"
   ]
  },
  {
   "cell_type": "code",
   "execution_count": 120,
   "metadata": {
    "ExecuteTime": {
     "end_time": "2019-05-07T10:55:32.537465Z",
     "start_time": "2019-05-07T10:55:32.518860Z"
    }
   },
   "outputs": [
    {
     "data": {
      "text/plain": [
       "2019-05-07    0.238011\n",
       "2019-05-08    0.959696\n",
       "2019-05-09    1.672731\n",
       "2019-05-10   -1.564779\n",
       "2019-05-11    0.304995\n",
       "2019-05-12   -0.630958\n",
       "2019-05-13    0.595265\n",
       "Freq: D, Name: A, dtype: float64"
      ]
     },
     "execution_count": 120,
     "metadata": {},
     "output_type": "execute_result"
    }
   ],
   "source": [
    "df[\"A\"]"
   ]
  },
  {
   "cell_type": "code",
   "execution_count": 121,
   "metadata": {
    "ExecuteTime": {
     "end_time": "2019-05-07T10:55:32.572476Z",
     "start_time": "2019-05-07T10:55:32.540685Z"
    }
   },
   "outputs": [
    {
     "data": {
      "text/html": [
       "<div>\n",
       "<style scoped>\n",
       "    .dataframe tbody tr th:only-of-type {\n",
       "        vertical-align: middle;\n",
       "    }\n",
       "\n",
       "    .dataframe tbody tr th {\n",
       "        vertical-align: top;\n",
       "    }\n",
       "\n",
       "    .dataframe thead th {\n",
       "        text-align: right;\n",
       "    }\n",
       "</style>\n",
       "<table border=\"1\" class=\"dataframe\">\n",
       "  <thead>\n",
       "    <tr style=\"text-align: right;\">\n",
       "      <th></th>\n",
       "      <th>A</th>\n",
       "      <th>B</th>\n",
       "      <th>C</th>\n",
       "      <th>D</th>\n",
       "    </tr>\n",
       "  </thead>\n",
       "  <tbody>\n",
       "    <tr>\n",
       "      <th>2019-05-07</th>\n",
       "      <td>0.238011</td>\n",
       "      <td>0.014141</td>\n",
       "      <td>-1.888309</td>\n",
       "      <td>-0.927509</td>\n",
       "    </tr>\n",
       "    <tr>\n",
       "      <th>2019-05-08</th>\n",
       "      <td>0.959696</td>\n",
       "      <td>-0.225320</td>\n",
       "      <td>1.032591</td>\n",
       "      <td>0.336661</td>\n",
       "    </tr>\n",
       "    <tr>\n",
       "      <th>2019-05-09</th>\n",
       "      <td>1.672731</td>\n",
       "      <td>2.350606</td>\n",
       "      <td>0.697396</td>\n",
       "      <td>-0.191989</td>\n",
       "    </tr>\n",
       "  </tbody>\n",
       "</table>\n",
       "</div>"
      ],
      "text/plain": [
       "                   A         B         C         D\n",
       "2019-05-07  0.238011  0.014141 -1.888309 -0.927509\n",
       "2019-05-08  0.959696 -0.225320  1.032591  0.336661\n",
       "2019-05-09  1.672731  2.350606  0.697396 -0.191989"
      ]
     },
     "execution_count": 121,
     "metadata": {},
     "output_type": "execute_result"
    }
   ],
   "source": [
    "df[0:3]"
   ]
  },
  {
   "cell_type": "code",
   "execution_count": 122,
   "metadata": {
    "ExecuteTime": {
     "end_time": "2019-05-07T10:55:32.606662Z",
     "start_time": "2019-05-07T10:55:32.575947Z"
    }
   },
   "outputs": [
    {
     "data": {
      "text/html": [
       "<div>\n",
       "<style scoped>\n",
       "    .dataframe tbody tr th:only-of-type {\n",
       "        vertical-align: middle;\n",
       "    }\n",
       "\n",
       "    .dataframe tbody tr th {\n",
       "        vertical-align: top;\n",
       "    }\n",
       "\n",
       "    .dataframe thead th {\n",
       "        text-align: right;\n",
       "    }\n",
       "</style>\n",
       "<table border=\"1\" class=\"dataframe\">\n",
       "  <thead>\n",
       "    <tr style=\"text-align: right;\">\n",
       "      <th></th>\n",
       "      <th>A</th>\n",
       "      <th>B</th>\n",
       "      <th>C</th>\n",
       "      <th>D</th>\n",
       "    </tr>\n",
       "  </thead>\n",
       "  <tbody>\n",
       "    <tr>\n",
       "      <th>2019-05-07</th>\n",
       "      <td>0.238011</td>\n",
       "      <td>0.014141</td>\n",
       "      <td>-1.888309</td>\n",
       "      <td>-0.927509</td>\n",
       "    </tr>\n",
       "    <tr>\n",
       "      <th>2019-05-08</th>\n",
       "      <td>0.959696</td>\n",
       "      <td>-0.225320</td>\n",
       "      <td>1.032591</td>\n",
       "      <td>0.336661</td>\n",
       "    </tr>\n",
       "    <tr>\n",
       "      <th>2019-05-09</th>\n",
       "      <td>1.672731</td>\n",
       "      <td>2.350606</td>\n",
       "      <td>0.697396</td>\n",
       "      <td>-0.191989</td>\n",
       "    </tr>\n",
       "  </tbody>\n",
       "</table>\n",
       "</div>"
      ],
      "text/plain": [
       "                   A         B         C         D\n",
       "2019-05-07  0.238011  0.014141 -1.888309 -0.927509\n",
       "2019-05-08  0.959696 -0.225320  1.032591  0.336661\n",
       "2019-05-09  1.672731  2.350606  0.697396 -0.191989"
      ]
     },
     "execution_count": 122,
     "metadata": {},
     "output_type": "execute_result"
    }
   ],
   "source": [
    "df[\"20190507\" : \"20190509\"]"
   ]
  },
  {
   "cell_type": "code",
   "execution_count": 123,
   "metadata": {
    "ExecuteTime": {
     "end_time": "2019-05-07T10:55:32.634395Z",
     "start_time": "2019-05-07T10:55:32.613562Z"
    }
   },
   "outputs": [
    {
     "data": {
      "text/plain": [
       "A    0.238011\n",
       "B    0.014141\n",
       "C   -1.888309\n",
       "D   -0.927509\n",
       "Name: 2019-05-07 00:00:00, dtype: float64"
      ]
     },
     "execution_count": 123,
     "metadata": {},
     "output_type": "execute_result"
    }
   ],
   "source": [
    "df.loc[dates[0]]  # dates의 0번째 행에 있는 요소들을 출력함."
   ]
  },
  {
   "cell_type": "code",
   "execution_count": 124,
   "metadata": {
    "ExecuteTime": {
     "end_time": "2019-05-07T10:55:32.680630Z",
     "start_time": "2019-05-07T10:55:32.639353Z"
    }
   },
   "outputs": [
    {
     "data": {
      "text/html": [
       "<div>\n",
       "<style scoped>\n",
       "    .dataframe tbody tr th:only-of-type {\n",
       "        vertical-align: middle;\n",
       "    }\n",
       "\n",
       "    .dataframe tbody tr th {\n",
       "        vertical-align: top;\n",
       "    }\n",
       "\n",
       "    .dataframe thead th {\n",
       "        text-align: right;\n",
       "    }\n",
       "</style>\n",
       "<table border=\"1\" class=\"dataframe\">\n",
       "  <thead>\n",
       "    <tr style=\"text-align: right;\">\n",
       "      <th></th>\n",
       "      <th>A</th>\n",
       "      <th>B</th>\n",
       "      <th>C</th>\n",
       "    </tr>\n",
       "  </thead>\n",
       "  <tbody>\n",
       "    <tr>\n",
       "      <th>2019-05-07</th>\n",
       "      <td>0.238011</td>\n",
       "      <td>0.014141</td>\n",
       "      <td>-1.888309</td>\n",
       "    </tr>\n",
       "    <tr>\n",
       "      <th>2019-05-08</th>\n",
       "      <td>0.959696</td>\n",
       "      <td>-0.225320</td>\n",
       "      <td>1.032591</td>\n",
       "    </tr>\n",
       "    <tr>\n",
       "      <th>2019-05-09</th>\n",
       "      <td>1.672731</td>\n",
       "      <td>2.350606</td>\n",
       "      <td>0.697396</td>\n",
       "    </tr>\n",
       "  </tbody>\n",
       "</table>\n",
       "</div>"
      ],
      "text/plain": [
       "                   A         B         C\n",
       "2019-05-07  0.238011  0.014141 -1.888309\n",
       "2019-05-08  0.959696 -0.225320  1.032591\n",
       "2019-05-09  1.672731  2.350606  0.697396"
      ]
     },
     "execution_count": 124,
     "metadata": {},
     "output_type": "execute_result"
    }
   ],
   "source": [
    "df.loc[\"20190507\" : \"20190509\", \"A\" : \"C\"]  # 행과 열의 값을 직접 입력하여 슬라이싱 가능"
   ]
  },
  {
   "cell_type": "code",
   "execution_count": 125,
   "metadata": {
    "ExecuteTime": {
     "end_time": "2019-05-07T10:55:32.718852Z",
     "start_time": "2019-05-07T10:55:32.687962Z"
    }
   },
   "outputs": [
    {
     "data": {
      "text/plain": [
       "A   -1.564779\n",
       "B    1.398910\n",
       "C    0.387942\n",
       "D   -1.090626\n",
       "Name: 2019-05-10 00:00:00, dtype: float64"
      ]
     },
     "execution_count": 125,
     "metadata": {},
     "output_type": "execute_result"
    }
   ],
   "source": [
    "df.iloc[3]  # index 번호로 데이터 찾기"
   ]
  },
  {
   "cell_type": "code",
   "execution_count": 126,
   "metadata": {
    "ExecuteTime": {
     "end_time": "2019-05-07T10:55:32.749469Z",
     "start_time": "2019-05-07T10:55:32.722715Z"
    }
   },
   "outputs": [
    {
     "data": {
      "text/html": [
       "<div>\n",
       "<style scoped>\n",
       "    .dataframe tbody tr th:only-of-type {\n",
       "        vertical-align: middle;\n",
       "    }\n",
       "\n",
       "    .dataframe tbody tr th {\n",
       "        vertical-align: top;\n",
       "    }\n",
       "\n",
       "    .dataframe thead th {\n",
       "        text-align: right;\n",
       "    }\n",
       "</style>\n",
       "<table border=\"1\" class=\"dataframe\">\n",
       "  <thead>\n",
       "    <tr style=\"text-align: right;\">\n",
       "      <th></th>\n",
       "      <th>A</th>\n",
       "      <th>B</th>\n",
       "    </tr>\n",
       "  </thead>\n",
       "  <tbody>\n",
       "    <tr>\n",
       "      <th>2019-05-10</th>\n",
       "      <td>-1.564779</td>\n",
       "      <td>1.398910</td>\n",
       "    </tr>\n",
       "    <tr>\n",
       "      <th>2019-05-11</th>\n",
       "      <td>0.304995</td>\n",
       "      <td>0.359195</td>\n",
       "    </tr>\n",
       "  </tbody>\n",
       "</table>\n",
       "</div>"
      ],
      "text/plain": [
       "                   A         B\n",
       "2019-05-10 -1.564779  1.398910\n",
       "2019-05-11  0.304995  0.359195"
      ]
     },
     "execution_count": 126,
     "metadata": {},
     "output_type": "execute_result"
    }
   ],
   "source": [
    "df.iloc[3:5, 0:2]  # 연속하는 여러 개의 행과 열을 슬라이싱과 같은 방식으로 반환시킬 수 있음"
   ]
  },
  {
   "cell_type": "code",
   "execution_count": 127,
   "metadata": {
    "ExecuteTime": {
     "end_time": "2019-05-07T10:55:32.779724Z",
     "start_time": "2019-05-07T10:55:32.753468Z"
    }
   },
   "outputs": [
    {
     "data": {
      "text/html": [
       "<div>\n",
       "<style scoped>\n",
       "    .dataframe tbody tr th:only-of-type {\n",
       "        vertical-align: middle;\n",
       "    }\n",
       "\n",
       "    .dataframe tbody tr th {\n",
       "        vertical-align: top;\n",
       "    }\n",
       "\n",
       "    .dataframe thead th {\n",
       "        text-align: right;\n",
       "    }\n",
       "</style>\n",
       "<table border=\"1\" class=\"dataframe\">\n",
       "  <thead>\n",
       "    <tr style=\"text-align: right;\">\n",
       "      <th></th>\n",
       "      <th>A</th>\n",
       "      <th>C</th>\n",
       "    </tr>\n",
       "  </thead>\n",
       "  <tbody>\n",
       "    <tr>\n",
       "      <th>2019-05-08</th>\n",
       "      <td>0.959696</td>\n",
       "      <td>1.032591</td>\n",
       "    </tr>\n",
       "    <tr>\n",
       "      <th>2019-05-09</th>\n",
       "      <td>1.672731</td>\n",
       "      <td>0.697396</td>\n",
       "    </tr>\n",
       "    <tr>\n",
       "      <th>2019-05-12</th>\n",
       "      <td>-0.630958</td>\n",
       "      <td>1.239522</td>\n",
       "    </tr>\n",
       "  </tbody>\n",
       "</table>\n",
       "</div>"
      ],
      "text/plain": [
       "                   A         C\n",
       "2019-05-08  0.959696  1.032591\n",
       "2019-05-09  1.672731  0.697396\n",
       "2019-05-12 -0.630958  1.239522"
      ]
     },
     "execution_count": 127,
     "metadata": {},
     "output_type": "execute_result"
    }
   ],
   "source": [
    "df.iloc[[1, 2, 5], [0, 2]]  # 연속하지 않는 여러 개의 행과 열을 반환할 수 있음."
   ]
  },
  {
   "cell_type": "code",
   "execution_count": 128,
   "metadata": {
    "ExecuteTime": {
     "end_time": "2019-05-07T10:55:32.811465Z",
     "start_time": "2019-05-07T10:55:32.783197Z"
    }
   },
   "outputs": [
    {
     "data": {
      "text/html": [
       "<div>\n",
       "<style scoped>\n",
       "    .dataframe tbody tr th:only-of-type {\n",
       "        vertical-align: middle;\n",
       "    }\n",
       "\n",
       "    .dataframe tbody tr th {\n",
       "        vertical-align: top;\n",
       "    }\n",
       "\n",
       "    .dataframe thead th {\n",
       "        text-align: right;\n",
       "    }\n",
       "</style>\n",
       "<table border=\"1\" class=\"dataframe\">\n",
       "  <thead>\n",
       "    <tr style=\"text-align: right;\">\n",
       "      <th></th>\n",
       "      <th>A</th>\n",
       "      <th>C</th>\n",
       "    </tr>\n",
       "  </thead>\n",
       "  <tbody>\n",
       "    <tr>\n",
       "      <th>2019-05-07</th>\n",
       "      <td>0.238011</td>\n",
       "      <td>-1.888309</td>\n",
       "    </tr>\n",
       "    <tr>\n",
       "      <th>2019-05-08</th>\n",
       "      <td>0.959696</td>\n",
       "      <td>1.032591</td>\n",
       "    </tr>\n",
       "    <tr>\n",
       "      <th>2019-05-09</th>\n",
       "      <td>1.672731</td>\n",
       "      <td>0.697396</td>\n",
       "    </tr>\n",
       "    <tr>\n",
       "      <th>2019-05-10</th>\n",
       "      <td>-1.564779</td>\n",
       "      <td>0.387942</td>\n",
       "    </tr>\n",
       "    <tr>\n",
       "      <th>2019-05-11</th>\n",
       "      <td>0.304995</td>\n",
       "      <td>-1.405268</td>\n",
       "    </tr>\n",
       "    <tr>\n",
       "      <th>2019-05-12</th>\n",
       "      <td>-0.630958</td>\n",
       "      <td>1.239522</td>\n",
       "    </tr>\n",
       "    <tr>\n",
       "      <th>2019-05-13</th>\n",
       "      <td>0.595265</td>\n",
       "      <td>0.585145</td>\n",
       "    </tr>\n",
       "  </tbody>\n",
       "</table>\n",
       "</div>"
      ],
      "text/plain": [
       "                   A         C\n",
       "2019-05-07  0.238011 -1.888309\n",
       "2019-05-08  0.959696  1.032591\n",
       "2019-05-09  1.672731  0.697396\n",
       "2019-05-10 -1.564779  0.387942\n",
       "2019-05-11  0.304995 -1.405268\n",
       "2019-05-12 -0.630958  1.239522\n",
       "2019-05-13  0.595265  0.585145"
      ]
     },
     "execution_count": 128,
     "metadata": {},
     "output_type": "execute_result"
    }
   ],
   "source": [
    "df.iloc[:, [0, 2]]  # 슬라이싱과 같은 방법으로 : 만 입력하면 전체를 의미함."
   ]
  },
  {
   "cell_type": "code",
   "execution_count": 129,
   "metadata": {
    "ExecuteTime": {
     "end_time": "2019-05-07T10:55:32.842757Z",
     "start_time": "2019-05-07T10:55:32.814941Z"
    }
   },
   "outputs": [
    {
     "data": {
      "text/html": [
       "<div>\n",
       "<style scoped>\n",
       "    .dataframe tbody tr th:only-of-type {\n",
       "        vertical-align: middle;\n",
       "    }\n",
       "\n",
       "    .dataframe tbody tr th {\n",
       "        vertical-align: top;\n",
       "    }\n",
       "\n",
       "    .dataframe thead th {\n",
       "        text-align: right;\n",
       "    }\n",
       "</style>\n",
       "<table border=\"1\" class=\"dataframe\">\n",
       "  <thead>\n",
       "    <tr style=\"text-align: right;\">\n",
       "      <th></th>\n",
       "      <th>A</th>\n",
       "      <th>B</th>\n",
       "      <th>C</th>\n",
       "      <th>D</th>\n",
       "    </tr>\n",
       "  </thead>\n",
       "  <tbody>\n",
       "    <tr>\n",
       "      <th>2019-05-07</th>\n",
       "      <td>0.238011</td>\n",
       "      <td>0.014141</td>\n",
       "      <td>-1.888309</td>\n",
       "      <td>-0.927509</td>\n",
       "    </tr>\n",
       "    <tr>\n",
       "      <th>2019-05-08</th>\n",
       "      <td>0.959696</td>\n",
       "      <td>-0.225320</td>\n",
       "      <td>1.032591</td>\n",
       "      <td>0.336661</td>\n",
       "    </tr>\n",
       "    <tr>\n",
       "      <th>2019-05-09</th>\n",
       "      <td>1.672731</td>\n",
       "      <td>2.350606</td>\n",
       "      <td>0.697396</td>\n",
       "      <td>-0.191989</td>\n",
       "    </tr>\n",
       "    <tr>\n",
       "      <th>2019-05-10</th>\n",
       "      <td>-1.564779</td>\n",
       "      <td>1.398910</td>\n",
       "      <td>0.387942</td>\n",
       "      <td>-1.090626</td>\n",
       "    </tr>\n",
       "    <tr>\n",
       "      <th>2019-05-11</th>\n",
       "      <td>0.304995</td>\n",
       "      <td>0.359195</td>\n",
       "      <td>-1.405268</td>\n",
       "      <td>-0.447880</td>\n",
       "    </tr>\n",
       "    <tr>\n",
       "      <th>2019-05-12</th>\n",
       "      <td>-0.630958</td>\n",
       "      <td>0.396504</td>\n",
       "      <td>1.239522</td>\n",
       "      <td>0.207337</td>\n",
       "    </tr>\n",
       "    <tr>\n",
       "      <th>2019-05-13</th>\n",
       "      <td>0.595265</td>\n",
       "      <td>1.668330</td>\n",
       "      <td>0.585145</td>\n",
       "      <td>0.175871</td>\n",
       "    </tr>\n",
       "  </tbody>\n",
       "</table>\n",
       "</div>"
      ],
      "text/plain": [
       "                   A         B         C         D\n",
       "2019-05-07  0.238011  0.014141 -1.888309 -0.927509\n",
       "2019-05-08  0.959696 -0.225320  1.032591  0.336661\n",
       "2019-05-09  1.672731  2.350606  0.697396 -0.191989\n",
       "2019-05-10 -1.564779  1.398910  0.387942 -1.090626\n",
       "2019-05-11  0.304995  0.359195 -1.405268 -0.447880\n",
       "2019-05-12 -0.630958  0.396504  1.239522  0.207337\n",
       "2019-05-13  0.595265  1.668330  0.585145  0.175871"
      ]
     },
     "execution_count": 129,
     "metadata": {},
     "output_type": "execute_result"
    }
   ],
   "source": [
    "df"
   ]
  },
  {
   "cell_type": "code",
   "execution_count": 130,
   "metadata": {
    "ExecuteTime": {
     "end_time": "2019-05-07T10:55:32.880491Z",
     "start_time": "2019-05-07T10:55:32.845694Z"
    }
   },
   "outputs": [
    {
     "data": {
      "text/html": [
       "<div>\n",
       "<style scoped>\n",
       "    .dataframe tbody tr th:only-of-type {\n",
       "        vertical-align: middle;\n",
       "    }\n",
       "\n",
       "    .dataframe tbody tr th {\n",
       "        vertical-align: top;\n",
       "    }\n",
       "\n",
       "    .dataframe thead th {\n",
       "        text-align: right;\n",
       "    }\n",
       "</style>\n",
       "<table border=\"1\" class=\"dataframe\">\n",
       "  <thead>\n",
       "    <tr style=\"text-align: right;\">\n",
       "      <th></th>\n",
       "      <th>A</th>\n",
       "      <th>B</th>\n",
       "      <th>C</th>\n",
       "      <th>D</th>\n",
       "    </tr>\n",
       "  </thead>\n",
       "  <tbody>\n",
       "    <tr>\n",
       "      <th>2019-05-07</th>\n",
       "      <td>0.238011</td>\n",
       "      <td>0.014141</td>\n",
       "      <td>-1.888309</td>\n",
       "      <td>-0.927509</td>\n",
       "    </tr>\n",
       "    <tr>\n",
       "      <th>2019-05-08</th>\n",
       "      <td>0.959696</td>\n",
       "      <td>-0.225320</td>\n",
       "      <td>1.032591</td>\n",
       "      <td>0.336661</td>\n",
       "    </tr>\n",
       "    <tr>\n",
       "      <th>2019-05-09</th>\n",
       "      <td>1.672731</td>\n",
       "      <td>2.350606</td>\n",
       "      <td>0.697396</td>\n",
       "      <td>-0.191989</td>\n",
       "    </tr>\n",
       "    <tr>\n",
       "      <th>2019-05-11</th>\n",
       "      <td>0.304995</td>\n",
       "      <td>0.359195</td>\n",
       "      <td>-1.405268</td>\n",
       "      <td>-0.447880</td>\n",
       "    </tr>\n",
       "    <tr>\n",
       "      <th>2019-05-13</th>\n",
       "      <td>0.595265</td>\n",
       "      <td>1.668330</td>\n",
       "      <td>0.585145</td>\n",
       "      <td>0.175871</td>\n",
       "    </tr>\n",
       "  </tbody>\n",
       "</table>\n",
       "</div>"
      ],
      "text/plain": [
       "                   A         B         C         D\n",
       "2019-05-07  0.238011  0.014141 -1.888309 -0.927509\n",
       "2019-05-08  0.959696 -0.225320  1.032591  0.336661\n",
       "2019-05-09  1.672731  2.350606  0.697396 -0.191989\n",
       "2019-05-11  0.304995  0.359195 -1.405268 -0.447880\n",
       "2019-05-13  0.595265  1.668330  0.585145  0.175871"
      ]
     },
     "execution_count": 130,
     "metadata": {},
     "output_type": "execute_result"
    }
   ],
   "source": [
    "df[df.A > 0]  # 조건에 맞는 데이터만 반환함."
   ]
  },
  {
   "cell_type": "code",
   "execution_count": 131,
   "metadata": {
    "ExecuteTime": {
     "end_time": "2019-05-07T10:55:32.931994Z",
     "start_time": "2019-05-07T10:55:32.884437Z"
    }
   },
   "outputs": [
    {
     "data": {
      "text/html": [
       "<div>\n",
       "<style scoped>\n",
       "    .dataframe tbody tr th:only-of-type {\n",
       "        vertical-align: middle;\n",
       "    }\n",
       "\n",
       "    .dataframe tbody tr th {\n",
       "        vertical-align: top;\n",
       "    }\n",
       "\n",
       "    .dataframe thead th {\n",
       "        text-align: right;\n",
       "    }\n",
       "</style>\n",
       "<table border=\"1\" class=\"dataframe\">\n",
       "  <thead>\n",
       "    <tr style=\"text-align: right;\">\n",
       "      <th></th>\n",
       "      <th>A</th>\n",
       "      <th>B</th>\n",
       "      <th>C</th>\n",
       "      <th>D</th>\n",
       "    </tr>\n",
       "  </thead>\n",
       "  <tbody>\n",
       "    <tr>\n",
       "      <th>2019-05-07</th>\n",
       "      <td>0.238011</td>\n",
       "      <td>0.014141</td>\n",
       "      <td>NaN</td>\n",
       "      <td>NaN</td>\n",
       "    </tr>\n",
       "    <tr>\n",
       "      <th>2019-05-08</th>\n",
       "      <td>0.959696</td>\n",
       "      <td>NaN</td>\n",
       "      <td>1.032591</td>\n",
       "      <td>0.336661</td>\n",
       "    </tr>\n",
       "    <tr>\n",
       "      <th>2019-05-09</th>\n",
       "      <td>1.672731</td>\n",
       "      <td>2.350606</td>\n",
       "      <td>0.697396</td>\n",
       "      <td>NaN</td>\n",
       "    </tr>\n",
       "    <tr>\n",
       "      <th>2019-05-10</th>\n",
       "      <td>NaN</td>\n",
       "      <td>1.398910</td>\n",
       "      <td>0.387942</td>\n",
       "      <td>NaN</td>\n",
       "    </tr>\n",
       "    <tr>\n",
       "      <th>2019-05-11</th>\n",
       "      <td>0.304995</td>\n",
       "      <td>0.359195</td>\n",
       "      <td>NaN</td>\n",
       "      <td>NaN</td>\n",
       "    </tr>\n",
       "    <tr>\n",
       "      <th>2019-05-12</th>\n",
       "      <td>NaN</td>\n",
       "      <td>0.396504</td>\n",
       "      <td>1.239522</td>\n",
       "      <td>0.207337</td>\n",
       "    </tr>\n",
       "    <tr>\n",
       "      <th>2019-05-13</th>\n",
       "      <td>0.595265</td>\n",
       "      <td>1.668330</td>\n",
       "      <td>0.585145</td>\n",
       "      <td>0.175871</td>\n",
       "    </tr>\n",
       "  </tbody>\n",
       "</table>\n",
       "</div>"
      ],
      "text/plain": [
       "                   A         B         C         D\n",
       "2019-05-07  0.238011  0.014141       NaN       NaN\n",
       "2019-05-08  0.959696       NaN  1.032591  0.336661\n",
       "2019-05-09  1.672731  2.350606  0.697396       NaN\n",
       "2019-05-10       NaN  1.398910  0.387942       NaN\n",
       "2019-05-11  0.304995  0.359195       NaN       NaN\n",
       "2019-05-12       NaN  0.396504  1.239522  0.207337\n",
       "2019-05-13  0.595265  1.668330  0.585145  0.175871"
      ]
     },
     "execution_count": 131,
     "metadata": {},
     "output_type": "execute_result"
    }
   ],
   "source": [
    "df[df > 0]  # 표 전체에서 조건에 맞는 데이터만 반환. 단, 이 경우에는 조건과 맞지 않는 값이 Null 값(NaN)으로 반환됨."
   ]
  },
  {
   "cell_type": "code",
   "execution_count": 132,
   "metadata": {
    "ExecuteTime": {
     "end_time": "2019-05-07T10:55:32.981592Z",
     "start_time": "2019-05-07T10:55:32.940426Z"
    }
   },
   "outputs": [
    {
     "data": {
      "text/html": [
       "<div>\n",
       "<style scoped>\n",
       "    .dataframe tbody tr th:only-of-type {\n",
       "        vertical-align: middle;\n",
       "    }\n",
       "\n",
       "    .dataframe tbody tr th {\n",
       "        vertical-align: top;\n",
       "    }\n",
       "\n",
       "    .dataframe thead th {\n",
       "        text-align: right;\n",
       "    }\n",
       "</style>\n",
       "<table border=\"1\" class=\"dataframe\">\n",
       "  <thead>\n",
       "    <tr style=\"text-align: right;\">\n",
       "      <th></th>\n",
       "      <th>A</th>\n",
       "      <th>B</th>\n",
       "      <th>C</th>\n",
       "      <th>D</th>\n",
       "      <th>F</th>\n",
       "    </tr>\n",
       "  </thead>\n",
       "  <tbody>\n",
       "    <tr>\n",
       "      <th>2019-05-07</th>\n",
       "      <td>0.238011</td>\n",
       "      <td>0.014141</td>\n",
       "      <td>-1.888309</td>\n",
       "      <td>-0.927509</td>\n",
       "      <td>One</td>\n",
       "    </tr>\n",
       "    <tr>\n",
       "      <th>2019-05-08</th>\n",
       "      <td>0.959696</td>\n",
       "      <td>-0.225320</td>\n",
       "      <td>1.032591</td>\n",
       "      <td>0.336661</td>\n",
       "      <td>Two</td>\n",
       "    </tr>\n",
       "    <tr>\n",
       "      <th>2019-05-09</th>\n",
       "      <td>1.672731</td>\n",
       "      <td>2.350606</td>\n",
       "      <td>0.697396</td>\n",
       "      <td>-0.191989</td>\n",
       "      <td>Three</td>\n",
       "    </tr>\n",
       "    <tr>\n",
       "      <th>2019-05-10</th>\n",
       "      <td>-1.564779</td>\n",
       "      <td>1.398910</td>\n",
       "      <td>0.387942</td>\n",
       "      <td>-1.090626</td>\n",
       "      <td>Four</td>\n",
       "    </tr>\n",
       "    <tr>\n",
       "      <th>2019-05-11</th>\n",
       "      <td>0.304995</td>\n",
       "      <td>0.359195</td>\n",
       "      <td>-1.405268</td>\n",
       "      <td>-0.447880</td>\n",
       "      <td>Five</td>\n",
       "    </tr>\n",
       "    <tr>\n",
       "      <th>2019-05-12</th>\n",
       "      <td>-0.630958</td>\n",
       "      <td>0.396504</td>\n",
       "      <td>1.239522</td>\n",
       "      <td>0.207337</td>\n",
       "      <td>Six</td>\n",
       "    </tr>\n",
       "    <tr>\n",
       "      <th>2019-05-13</th>\n",
       "      <td>0.595265</td>\n",
       "      <td>1.668330</td>\n",
       "      <td>0.585145</td>\n",
       "      <td>0.175871</td>\n",
       "      <td>Seven</td>\n",
       "    </tr>\n",
       "  </tbody>\n",
       "</table>\n",
       "</div>"
      ],
      "text/plain": [
       "                   A         B         C         D      F\n",
       "2019-05-07  0.238011  0.014141 -1.888309 -0.927509    One\n",
       "2019-05-08  0.959696 -0.225320  1.032591  0.336661    Two\n",
       "2019-05-09  1.672731  2.350606  0.697396 -0.191989  Three\n",
       "2019-05-10 -1.564779  1.398910  0.387942 -1.090626   Four\n",
       "2019-05-11  0.304995  0.359195 -1.405268 -0.447880   Five\n",
       "2019-05-12 -0.630958  0.396504  1.239522  0.207337    Six\n",
       "2019-05-13  0.595265  1.668330  0.585145  0.175871  Seven"
      ]
     },
     "execution_count": 132,
     "metadata": {},
     "output_type": "execute_result"
    }
   ],
   "source": [
    "df2 = df.copy()  # df의 데이터를 df2로 복사하기.\n",
    "df2[\"F\"] = [\"One\", \"Two\", \"Three\", \"Four\", \"Five\", \"Six\", \"Seven\"]  # 새로운 값 추가\n",
    "df2"
   ]
  },
  {
   "cell_type": "code",
   "execution_count": 133,
   "metadata": {
    "ExecuteTime": {
     "end_time": "2019-05-07T10:55:33.001011Z",
     "start_time": "2019-05-07T10:55:32.986091Z"
    }
   },
   "outputs": [
    {
     "data": {
      "text/plain": [
       "2019-05-07    False\n",
       "2019-05-08     True\n",
       "2019-05-09    False\n",
       "2019-05-10     True\n",
       "2019-05-11    False\n",
       "2019-05-12    False\n",
       "2019-05-13     True\n",
       "Freq: D, Name: F, dtype: bool"
      ]
     },
     "execution_count": 133,
     "metadata": {},
     "output_type": "execute_result"
    }
   ],
   "source": [
    "df2[\"F\"].isin([\"Two\", \"Four\", \"Seven\"])  # df2에서 이름이 \"F\"인 열의 값들 중, isin에 넣은 값 중 하나가 포함된 셀을 False/True로 반환"
   ]
  },
  {
   "cell_type": "code",
   "execution_count": 134,
   "metadata": {
    "ExecuteTime": {
     "end_time": "2019-05-07T10:55:33.032723Z",
     "start_time": "2019-05-07T10:55:33.003913Z"
    }
   },
   "outputs": [
    {
     "data": {
      "text/html": [
       "<div>\n",
       "<style scoped>\n",
       "    .dataframe tbody tr th:only-of-type {\n",
       "        vertical-align: middle;\n",
       "    }\n",
       "\n",
       "    .dataframe tbody tr th {\n",
       "        vertical-align: top;\n",
       "    }\n",
       "\n",
       "    .dataframe thead th {\n",
       "        text-align: right;\n",
       "    }\n",
       "</style>\n",
       "<table border=\"1\" class=\"dataframe\">\n",
       "  <thead>\n",
       "    <tr style=\"text-align: right;\">\n",
       "      <th></th>\n",
       "      <th>A</th>\n",
       "      <th>B</th>\n",
       "      <th>C</th>\n",
       "      <th>D</th>\n",
       "      <th>F</th>\n",
       "    </tr>\n",
       "  </thead>\n",
       "  <tbody>\n",
       "    <tr>\n",
       "      <th>2019-05-08</th>\n",
       "      <td>0.959696</td>\n",
       "      <td>-0.22532</td>\n",
       "      <td>1.032591</td>\n",
       "      <td>0.336661</td>\n",
       "      <td>Two</td>\n",
       "    </tr>\n",
       "    <tr>\n",
       "      <th>2019-05-10</th>\n",
       "      <td>-1.564779</td>\n",
       "      <td>1.39891</td>\n",
       "      <td>0.387942</td>\n",
       "      <td>-1.090626</td>\n",
       "      <td>Four</td>\n",
       "    </tr>\n",
       "    <tr>\n",
       "      <th>2019-05-13</th>\n",
       "      <td>0.595265</td>\n",
       "      <td>1.66833</td>\n",
       "      <td>0.585145</td>\n",
       "      <td>0.175871</td>\n",
       "      <td>Seven</td>\n",
       "    </tr>\n",
       "  </tbody>\n",
       "</table>\n",
       "</div>"
      ],
      "text/plain": [
       "                   A        B         C         D      F\n",
       "2019-05-08  0.959696 -0.22532  1.032591  0.336661    Two\n",
       "2019-05-10 -1.564779  1.39891  0.387942 -1.090626   Four\n",
       "2019-05-13  0.595265  1.66833  0.585145  0.175871  Seven"
      ]
     },
     "execution_count": 134,
     "metadata": {},
     "output_type": "execute_result"
    }
   ],
   "source": [
    "# 위의 내용을 표로 반환하고 싶다면 이렇게.\n",
    "df2[df2[\"F\"].isin([\"Two\", \"Four\", \"Seven\"])]"
   ]
  },
  {
   "cell_type": "code",
   "execution_count": 135,
   "metadata": {
    "ExecuteTime": {
     "end_time": "2019-05-07T10:55:33.055502Z",
     "start_time": "2019-05-07T10:55:33.036649Z"
    }
   },
   "outputs": [
    {
     "data": {
      "text/plain": [
       "A    3.237510\n",
       "B    2.575926\n",
       "C    3.127831\n",
       "D    1.427287\n",
       "dtype: float64"
      ]
     },
     "execution_count": 135,
     "metadata": {},
     "output_type": "execute_result"
    }
   ],
   "source": [
    "df.apply(lambda x: x.max() - x.min())  # apply()는 함수를 적용할 때 사용. 여기서 사용한 함수는 그냥 각 행의 최대값에서 최소값을 뺀 것을 출력하는 함수."
   ]
  },
  {
   "cell_type": "code",
   "execution_count": 136,
   "metadata": {
    "ExecuteTime": {
     "end_time": "2019-05-07T10:55:33.098154Z",
     "start_time": "2019-05-07T10:55:33.059502Z"
    }
   },
   "outputs": [
    {
     "data": {
      "text/html": [
       "<div>\n",
       "<style scoped>\n",
       "    .dataframe tbody tr th:only-of-type {\n",
       "        vertical-align: middle;\n",
       "    }\n",
       "\n",
       "    .dataframe tbody tr th {\n",
       "        vertical-align: top;\n",
       "    }\n",
       "\n",
       "    .dataframe thead th {\n",
       "        text-align: right;\n",
       "    }\n",
       "</style>\n",
       "<table border=\"1\" class=\"dataframe\">\n",
       "  <thead>\n",
       "    <tr style=\"text-align: right;\">\n",
       "      <th></th>\n",
       "      <th>A</th>\n",
       "      <th>B</th>\n",
       "      <th>C</th>\n",
       "      <th>D</th>\n",
       "    </tr>\n",
       "  </thead>\n",
       "  <tbody>\n",
       "    <tr>\n",
       "      <th>2019-05-07</th>\n",
       "      <td>0.238011</td>\n",
       "      <td>0.014141</td>\n",
       "      <td>-1.888309</td>\n",
       "      <td>-0.927509</td>\n",
       "    </tr>\n",
       "    <tr>\n",
       "      <th>2019-05-08</th>\n",
       "      <td>1.197707</td>\n",
       "      <td>-0.211180</td>\n",
       "      <td>-0.855718</td>\n",
       "      <td>-0.590848</td>\n",
       "    </tr>\n",
       "    <tr>\n",
       "      <th>2019-05-09</th>\n",
       "      <td>2.870438</td>\n",
       "      <td>2.139427</td>\n",
       "      <td>-0.158322</td>\n",
       "      <td>-0.782837</td>\n",
       "    </tr>\n",
       "    <tr>\n",
       "      <th>2019-05-10</th>\n",
       "      <td>1.305659</td>\n",
       "      <td>3.538337</td>\n",
       "      <td>0.229620</td>\n",
       "      <td>-1.873464</td>\n",
       "    </tr>\n",
       "    <tr>\n",
       "      <th>2019-05-11</th>\n",
       "      <td>1.610654</td>\n",
       "      <td>3.897532</td>\n",
       "      <td>-1.175648</td>\n",
       "      <td>-2.321344</td>\n",
       "    </tr>\n",
       "    <tr>\n",
       "      <th>2019-05-12</th>\n",
       "      <td>0.979696</td>\n",
       "      <td>4.294036</td>\n",
       "      <td>0.063875</td>\n",
       "      <td>-2.114007</td>\n",
       "    </tr>\n",
       "    <tr>\n",
       "      <th>2019-05-13</th>\n",
       "      <td>1.574962</td>\n",
       "      <td>5.962366</td>\n",
       "      <td>0.649020</td>\n",
       "      <td>-1.938136</td>\n",
       "    </tr>\n",
       "  </tbody>\n",
       "</table>\n",
       "</div>"
      ],
      "text/plain": [
       "                   A         B         C         D\n",
       "2019-05-07  0.238011  0.014141 -1.888309 -0.927509\n",
       "2019-05-08  1.197707 -0.211180 -0.855718 -0.590848\n",
       "2019-05-09  2.870438  2.139427 -0.158322 -0.782837\n",
       "2019-05-10  1.305659  3.538337  0.229620 -1.873464\n",
       "2019-05-11  1.610654  3.897532 -1.175648 -2.321344\n",
       "2019-05-12  0.979696  4.294036  0.063875 -2.114007\n",
       "2019-05-13  1.574962  5.962366  0.649020 -1.938136"
      ]
     },
     "execution_count": 136,
     "metadata": {},
     "output_type": "execute_result"
    }
   ],
   "source": [
    "df.apply(np.cumsum)  # 누적값을 구하는 함수를 적용한 경우."
   ]
  },
  {
   "cell_type": "code",
   "execution_count": null,
   "metadata": {},
   "outputs": [],
   "source": []
  }
 ],
 "metadata": {
  "kernelspec": {
   "display_name": "Python 3",
   "language": "python",
   "name": "python3"
  },
  "language_info": {
   "codemirror_mode": {
    "name": "ipython",
    "version": 3
   },
   "file_extension": ".py",
   "mimetype": "text/x-python",
   "name": "python",
   "nbconvert_exporter": "python",
   "pygments_lexer": "ipython3",
   "version": "3.7.3"
  },
  "varInspector": {
   "cols": {
    "lenName": "20",
    "lenType": "10",
    "lenVar": "60"
   },
   "kernels_config": {
    "python": {
     "delete_cmd_postfix": "",
     "delete_cmd_prefix": "del ",
     "library": "var_list.py",
     "varRefreshCmd": "print(var_dic_list())"
    },
    "r": {
     "delete_cmd_postfix": ") ",
     "delete_cmd_prefix": "rm(",
     "library": "var_list.r",
     "varRefreshCmd": "cat(var_dic_list()) "
    }
   },
   "types_to_exclude": [
    "module",
    "function",
    "builtin_function_or_method",
    "instance",
    "_Feature"
   ],
   "window_display": false
  }
 },
 "nbformat": 4,
 "nbformat_minor": 2
}
