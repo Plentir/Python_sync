{
 "cells": [
  {
   "cell_type": "markdown",
   "metadata": {},
   "source": [
    "### 과제\n",
    "**1. 남자와 여자를 주민번호를 통해 몇 명 있는지 분류하라**  \n",
    "**2. 가장 많이 쓰는 웹사이트(이메일을 보고 판단)은 무엇인가**  \n",
    "**3. 가장 나이가 많은 사람과 가장 나이가 어린 사람은 몇 살인가**  \n",
    "**4. 잘못된 주민번호가 있다면 찾고 이유를 밝혀라**\n",
    "\n",
    "------"
   ]
  },
  {
   "cell_type": "code",
   "execution_count": 58,
   "metadata": {},
   "outputs": [],
   "source": [
    "class AutoProcessing:\n",
    "    \n",
    "    def __init__(self, line):\n",
    "        self.__name = line.split()[0]\n",
    "        self.__tel = line.split()[1]\n",
    "        self.__id = line.split()[2]\n",
    "        self.__mail = line.split()[-1]\n",
    "        \n",
    "        if self.__id.split(\"-\")[-1][0] in (\"9\", \"1\", \"3\", \"5\", \"7\"):\n",
    "            self.__sex = \"Male\"\n",
    "\n",
    "        else:\n",
    "            self.__sex = \"Female\"\n",
    "\n",
    "    def seedata(self):\n",
    "        print(\"Name:\", self.__name)\n",
    "        print(\"Tel.:\", self.__tel)\n",
    "        print(\"ID:\", self.__id)\n",
    "        print(\"E-mail:\", self.__mail)\n",
    "        print(\"Sex:\", self.__sex)\n",
    "        \n",
    "    def export_to_sql(self):\n",
    "        sql = \"\"\"INSERT INTO person(Name, RRN, Tel, Email, Sex)\n",
    "VALUES ('%s', '%s', '%s', '%s', '%s');\"\"\" %(self.__name, self.__tel, self.__id, self.__mail, self.__sex)\n",
    "        \n",
    "        return sql"
   ]
  },
  {
   "cell_type": "code",
   "execution_count": 59,
   "metadata": {},
   "outputs": [],
   "source": [
    "import pymysql as pms\n",
    "\n",
    "cnx = pms.connect(host = \"plen-tutoring.mysql.database.azure.com\", \n",
    "                  port = 3306, \n",
    "                  user = \"plentir@plen-tutoring\", \n",
    "                  password = \"yjy990810!\", \n",
    "                  database = \"PyMySQL_test\", \n",
    "                  charset = \"utf8\")\n",
    "\n",
    "cursor = cnx.cursor()"
   ]
  },
  {
   "cell_type": "code",
   "execution_count": 61,
   "metadata": {},
   "outputs": [
    {
     "data": {
      "text/plain": [
       "0"
      ]
     },
     "execution_count": 61,
     "metadata": {},
     "output_type": "execute_result"
    }
   ],
   "source": [
    "mk_table = \"\"\"CREATE TABLE person(\n",
    "ID INT UNSIGNED NOT NULL AUTO_INCREMENT, \n",
    "Name VARCHAR(20) NOT NULL, \n",
    "RRN VARCHAR(30) NULL, \n",
    "Tel VARCHAR(20) NULL, \n",
    "Email VARCHAR(30) NULL, \n",
    "Sex VARCHAR(10) NULL, \n",
    "PRIMARY KEY(ID)\n",
    ") DEFAULT CHARSET = utf8 AUTO_INCREMENT = 1;\n",
    "\"\"\"\n",
    "\n",
    "cursor.execute(mk_table)"
   ]
  },
  {
   "cell_type": "code",
   "execution_count": 60,
   "metadata": {},
   "outputs": [
    {
     "data": {
      "text/plain": [
       "0"
      ]
     },
     "execution_count": 60,
     "metadata": {},
     "output_type": "execute_result"
    }
   ],
   "source": [
    "sql = \"DROP TABLE person\"\n",
    "\n",
    "cursor.execute(sql)"
   ]
  },
  {
   "cell_type": "code",
   "execution_count": 62,
   "metadata": {},
   "outputs": [
    {
     "name": "stdout",
     "output_type": "stream",
     "text": [
      "INSERT INTO person(Name, RRN, Tel, Email, Sex)\n",
      "VALUES ('윤민준', '010-7336-6539', '660709-2642204', 'RM782@nate.com', 'Female');\n",
      "INSERT INTO person(Name, RRN, Tel, Email, Sex)\n",
      "VALUES ('최하준', '010-9277-6466', '101106-2491983', 'PT8401@nate.com', 'Female');\n",
      "INSERT INTO person(Name, RRN, Tel, Email, Sex)\n",
      "VALUES ('장승호', '010-6048-6678', '600917-1062539', 'GO24-@nate.com', 'Male');\n",
      "INSERT INTO person(Name, RRN, Tel, Email, Sex)\n",
      "VALUES ('박석호', '010-3884-1425', '130727-1642734', 'QR5864@daum.net', 'Male');\n",
      "INSERT INTO person(Name, RRN, Tel, Email, Sex)\n",
      "VALUES ('서장우', '010-1522-5259', '730526-1033712', 'SA860@daum.net', 'Male');\n",
      "INSERT INTO person(Name, RRN, Tel, Email, Sex)\n",
      "VALUES ('서서환', '010-4933-4072', '440909-2522587', 'ZN259@hanmail.net', 'Female');\n",
      "INSERT INTO person(Name, RRN, Tel, Email, Sex)\n",
      "VALUES ('박호재', '010-9816-1471', '200707-2274916', 'IA53-@google.com', 'Female');\n",
      "INSERT INTO person(Name, RRN, Tel, Email, Sex)\n",
      "VALUES ('최담', '010-8302-4330', '520204-1831938', 'NP2218@hanmail.net', 'Male');\n",
      "INSERT INTO person(Name, RRN, Tel, Email, Sex)\n",
      "VALUES ('최이환', '010-4476-3580', '981026-1027236', 'BW23-10@nate.com', 'Male');\n",
      "INSERT INTO person(Name, RRN, Tel, Email, Sex)\n",
      "VALUES ('박희건', '010-5228-5432', '690827-1956807', 'WL6382@hanmail.net', 'Male');\n",
      "INSERT INTO person(Name, RRN, Tel, Email, Sex)\n",
      "VALUES ('김인찬', '010-1499-3109', '941105-2441077', 'BN232@naver.com', 'Female');\n",
      "INSERT INTO person(Name, RRN, Tel, Email, Sex)\n",
      "VALUES ('서리온', '010-3019-8824', '430518-1262290', 'TC5862@daum.net', 'Male');\n",
      "INSERT INTO person(Name, RRN, Tel, Email, Sex)\n",
      "VALUES ('박태서', '010-4310-9528', '311017-2921171', 'QT7092@hanmail.net', 'Female');\n",
      "INSERT INTO person(Name, RRN, Tel, Email, Sex)\n",
      "VALUES ('정대경', '010-5691-1036', '060709-1362093', 'JH9560@daum.net', 'Male');\n",
      "INSERT INTO person(Name, RRN, Tel, Email, Sex)\n",
      "VALUES ('윤기성', '010-4843-2311', '481104-1949365', 'DW60-1@hotmail.com', 'Male');\n",
      "INSERT INTO person(Name, RRN, Tel, Email, Sex)\n",
      "VALUES ('정진모', '010-9739-3001', '530928-1849556', 'UK550@google.com', 'Male');\n",
      "INSERT INTO person(Name, RRN, Tel, Email, Sex)\n",
      "VALUES ('서인규', '010-6878-6872', '031202-1724961', 'LZ46031@nate.com', 'Male');\n",
      "INSERT INTO person(Name, RRN, Tel, Email, Sex)\n",
      "VALUES ('서루이', '010-5394-8061', '290718-2182470', 'OP122@google.com', 'Female');\n",
      "INSERT INTO person(Name, RRN, Tel, Email, Sex)\n",
      "VALUES ('서수', '010-9028-8577', '181025-1692516', 'IS5181@daum.net', 'Male');\n",
      "INSERT INTO person(Name, RRN, Tel, Email, Sex)\n",
      "VALUES ('정보현', '010-1087-3808', '700208-2381878', 'CC738@google.com', 'Female');\n",
      "INSERT INTO person(Name, RRN, Tel, Email, Sex)\n",
      "VALUES ('최대환', '010-2638-3989', '930624-1979262', 'JO30792@naver.com', 'Male');\n",
      "INSERT INTO person(Name, RRN, Tel, Email, Sex)\n",
      "VALUES ('서중현', '010-3401-6002', '711120-1600529', 'ZC547@hanmail.net', 'Male');\n",
      "INSERT INTO person(Name, RRN, Tel, Email, Sex)\n",
      "VALUES ('박민구', '010-2013-1316', '050722-2202374', 'UR30023@nate.com', 'Female');\n",
      "INSERT INTO person(Name, RRN, Tel, Email, Sex)\n",
      "VALUES ('이강유', '010-8081-2522', '401226-1803052', 'WF284@hanmail.net', 'Male');\n",
      "INSERT INTO person(Name, RRN, Tel, Email, Sex)\n",
      "VALUES ('서현오', '010-7662-6204', '641022-1972381', 'GW50022@naver.com', 'Male');\n",
      "INSERT INTO person(Name, RRN, Tel, Email, Sex)\n",
      "VALUES ('서강후', '010-7132-1357', '331006-1730472', 'HD7906@daum.net', 'Male');\n",
      "INSERT INTO person(Name, RRN, Tel, Email, Sex)\n",
      "VALUES ('정주윤', '010-3390-3912', '660204-2768984', 'OZ78-2@hanmail.net', 'Female');\n",
      "INSERT INTO person(Name, RRN, Tel, Email, Sex)\n",
      "VALUES ('장찬욱', '010-5106-4991', '420209-2210234', 'TO9209-@daum.net', 'Female');\n",
      "INSERT INTO person(Name, RRN, Tel, Email, Sex)\n",
      "VALUES ('최동완', '010-8821-1032', '320303-2010973', 'RI70-@hanmail.net', 'Female');\n",
      "INSERT INTO person(Name, RRN, Tel, Email, Sex)\n",
      "VALUES ('서경수', '010-6752-8108', '360118-1849384', 'AN90601@hotmail.com', 'Male');\n",
      "INSERT INTO person(Name, RRN, Tel, Email, Sex)\n",
      "VALUES ('박재석', '010-9237-2979', '720927-2072009', 'MH152@hanmail.net', 'Female');\n",
      "INSERT INTO person(Name, RRN, Tel, Email, Sex)\n",
      "VALUES ('서하담', '010-8944-5047', '170123-2004931', 'OB410@google.com', 'Female');\n",
      "INSERT INTO person(Name, RRN, Tel, Email, Sex)\n",
      "VALUES ('이리호', '010-3965-8321', '730118-2323405', 'YK622@hotmail.com', 'Female');\n",
      "INSERT INTO person(Name, RRN, Tel, Email, Sex)\n",
      "VALUES ('정다겸', '010-3798-9741', '700621-2846602', 'NG8628@google.com', 'Female');\n",
      "INSERT INTO person(Name, RRN, Tel, Email, Sex)\n",
      "VALUES ('이용하', '010-2941-8347', '720218-1285899', 'SS2018@nate.com', 'Male');\n",
      "INSERT INTO person(Name, RRN, Tel, Email, Sex)\n",
      "VALUES ('김훤', '010-6058-5376', '680918-1147335', 'ZZ87918@daum.net', 'Male');\n",
      "INSERT INTO person(Name, RRN, Tel, Email, Sex)\n",
      "VALUES ('최우경', '010-7382-7801', '321113-1509081', 'FN171@nate.com', 'Male');\n",
      "INSERT INTO person(Name, RRN, Tel, Email, Sex)\n",
      "VALUES ('박로건', '010-3185-8665', '620429-1079131', 'NT63-10@google.com', 'Male');\n",
      "INSERT INTO person(Name, RRN, Tel, Email, Sex)\n",
      "VALUES ('박서인', '010-6918-1933', '440719-1242647', 'TX3707@nate.com', 'Male');\n",
      "INSERT INTO person(Name, RRN, Tel, Email, Sex)\n",
      "VALUES ('박도완', '010-4853-6333', '310617-1471512', 'GP47471@daum.net', 'Male');\n",
      "INSERT INTO person(Name, RRN, Tel, Email, Sex)\n",
      "VALUES ('서유', '010-6572-9170', '201022-1216670', 'VJ4912@google.com', 'Male');\n",
      "INSERT INTO person(Name, RRN, Tel, Email, Sex)\n",
      "VALUES ('윤기주', '010-2408-9182', '770922-2834367', 'EY45834@hotmail.com', 'Female');\n",
      "INSERT INTO person(Name, RRN, Tel, Email, Sex)\n",
      "VALUES ('최호민', '010-3895-9824', '981227-2626509', 'QI54981@hotmail.com', 'Female');\n",
      "INSERT INTO person(Name, RRN, Tel, Email, Sex)\n",
      "VALUES ('박홍준', '010-5660-1191', '020911-2359386', 'ES6759@nate.com', 'Female');\n",
      "INSERT INTO person(Name, RRN, Tel, Email, Sex)\n",
      "VALUES ('윤용빈', '010-7966-1129', '310315-2592135', 'KH1215@hotmail.com', 'Female');\n",
      "INSERT INTO person(Name, RRN, Tel, Email, Sex)\n",
      "VALUES ('이해인', '010-6619-9441', '870110-2129830', 'DH9470@nate.com', 'Female');\n",
      "INSERT INTO person(Name, RRN, Tel, Email, Sex)\n",
      "VALUES ('정태운', '010-8929-4145', '741210-2711089', 'OR120@daum.net', 'Female');\n",
      "INSERT INTO person(Name, RRN, Tel, Email, Sex)\n",
      "VALUES ('장이솔', '010-1441-9264', '170111-1899947', 'NZ8111@naver.com', 'Male');\n",
      "INSERT INTO person(Name, RRN, Tel, Email, Sex)\n",
      "VALUES ('이승건', '010-6853-8720', '221030-2333003', 'KY460@hanmail.net', 'Female');\n",
      "INSERT INTO person(Name, RRN, Tel, Email, Sex)\n",
      "VALUES ('김대희', '010-3866-3273', '270817-2524869', 'YK3817@google.com', 'Female');\n",
      "end\n",
      "커밋됨.\n"
     ]
    }
   ],
   "source": [
    "import os\n",
    "\n",
    "files = os.listdir(os.environ[\"USERPROFILE\"] + \"/desktop/과제2/\")\n",
    "\n",
    "for i in range(50):\n",
    "    f = open(os.environ[\"USERPROFILE\"] + \"/desktop/과제2/\" + files[i], \"r\")\n",
    "    raw_data = f.readline()\n",
    "    \n",
    "    a = AutoProcessing(raw_data)\n",
    "    sql = a.export_to_sql()\n",
    "    \n",
    "    cursor.execute(sql)\n",
    "    \n",
    "    print(sql)\n",
    "    \n",
    "    f.close()\n",
    "\n",
    "print(\"end\")\n",
    "\n",
    "cnx.commit()\n",
    "print(\"커밋됨.\")\n",
    "\n",
    "cnx.close()"
   ]
  },
  {
   "cell_type": "code",
   "execution_count": 63,
   "metadata": {},
   "outputs": [
    {
     "ename": "InterfaceError",
     "evalue": "(0, '')",
     "output_type": "error",
     "traceback": [
      "\u001b[1;31m---------------------------------------------------------------------------\u001b[0m",
      "\u001b[1;31mInterfaceError\u001b[0m                            Traceback (most recent call last)",
      "\u001b[1;32m<ipython-input-63-7dec5f469b1b>\u001b[0m in \u001b[0;36m<module>\u001b[1;34m\u001b[0m\n\u001b[0;32m      5\u001b[0m \"\"\"\n\u001b[0;32m      6\u001b[0m \u001b[1;33m\u001b[0m\u001b[0m\n\u001b[1;32m----> 7\u001b[1;33m \u001b[0mcursor\u001b[0m\u001b[1;33m.\u001b[0m\u001b[0mexecute\u001b[0m\u001b[1;33m(\u001b[0m\u001b[0minquiry\u001b[0m\u001b[1;33m)\u001b[0m\u001b[1;33m\u001b[0m\u001b[1;33m\u001b[0m\u001b[0m\n\u001b[0m",
      "\u001b[1;32mC:\\Python\\Anaconda\\lib\\site-packages\\pymysql\\cursors.py\u001b[0m in \u001b[0;36mexecute\u001b[1;34m(self, query, args)\u001b[0m\n\u001b[0;32m    168\u001b[0m         \u001b[0mquery\u001b[0m \u001b[1;33m=\u001b[0m \u001b[0mself\u001b[0m\u001b[1;33m.\u001b[0m\u001b[0mmogrify\u001b[0m\u001b[1;33m(\u001b[0m\u001b[0mquery\u001b[0m\u001b[1;33m,\u001b[0m \u001b[0margs\u001b[0m\u001b[1;33m)\u001b[0m\u001b[1;33m\u001b[0m\u001b[1;33m\u001b[0m\u001b[0m\n\u001b[0;32m    169\u001b[0m \u001b[1;33m\u001b[0m\u001b[0m\n\u001b[1;32m--> 170\u001b[1;33m         \u001b[0mresult\u001b[0m \u001b[1;33m=\u001b[0m \u001b[0mself\u001b[0m\u001b[1;33m.\u001b[0m\u001b[0m_query\u001b[0m\u001b[1;33m(\u001b[0m\u001b[0mquery\u001b[0m\u001b[1;33m)\u001b[0m\u001b[1;33m\u001b[0m\u001b[1;33m\u001b[0m\u001b[0m\n\u001b[0m\u001b[0;32m    171\u001b[0m         \u001b[0mself\u001b[0m\u001b[1;33m.\u001b[0m\u001b[0m_executed\u001b[0m \u001b[1;33m=\u001b[0m \u001b[0mquery\u001b[0m\u001b[1;33m\u001b[0m\u001b[1;33m\u001b[0m\u001b[0m\n\u001b[0;32m    172\u001b[0m         \u001b[1;32mreturn\u001b[0m \u001b[0mresult\u001b[0m\u001b[1;33m\u001b[0m\u001b[1;33m\u001b[0m\u001b[0m\n",
      "\u001b[1;32mC:\\Python\\Anaconda\\lib\\site-packages\\pymysql\\cursors.py\u001b[0m in \u001b[0;36m_query\u001b[1;34m(self, q)\u001b[0m\n\u001b[0;32m    326\u001b[0m         \u001b[0mself\u001b[0m\u001b[1;33m.\u001b[0m\u001b[0m_last_executed\u001b[0m \u001b[1;33m=\u001b[0m \u001b[0mq\u001b[0m\u001b[1;33m\u001b[0m\u001b[1;33m\u001b[0m\u001b[0m\n\u001b[0;32m    327\u001b[0m         \u001b[0mself\u001b[0m\u001b[1;33m.\u001b[0m\u001b[0m_clear_result\u001b[0m\u001b[1;33m(\u001b[0m\u001b[1;33m)\u001b[0m\u001b[1;33m\u001b[0m\u001b[1;33m\u001b[0m\u001b[0m\n\u001b[1;32m--> 328\u001b[1;33m         \u001b[0mconn\u001b[0m\u001b[1;33m.\u001b[0m\u001b[0mquery\u001b[0m\u001b[1;33m(\u001b[0m\u001b[0mq\u001b[0m\u001b[1;33m)\u001b[0m\u001b[1;33m\u001b[0m\u001b[1;33m\u001b[0m\u001b[0m\n\u001b[0m\u001b[0;32m    329\u001b[0m         \u001b[0mself\u001b[0m\u001b[1;33m.\u001b[0m\u001b[0m_do_get_result\u001b[0m\u001b[1;33m(\u001b[0m\u001b[1;33m)\u001b[0m\u001b[1;33m\u001b[0m\u001b[1;33m\u001b[0m\u001b[0m\n\u001b[0;32m    330\u001b[0m         \u001b[1;32mreturn\u001b[0m \u001b[0mself\u001b[0m\u001b[1;33m.\u001b[0m\u001b[0mrowcount\u001b[0m\u001b[1;33m\u001b[0m\u001b[1;33m\u001b[0m\u001b[0m\n",
      "\u001b[1;32mC:\\Python\\Anaconda\\lib\\site-packages\\pymysql\\connections.py\u001b[0m in \u001b[0;36mquery\u001b[1;34m(self, sql, unbuffered)\u001b[0m\n\u001b[0;32m    514\u001b[0m             \u001b[1;32melse\u001b[0m\u001b[1;33m:\u001b[0m\u001b[1;33m\u001b[0m\u001b[1;33m\u001b[0m\u001b[0m\n\u001b[0;32m    515\u001b[0m                 \u001b[0msql\u001b[0m \u001b[1;33m=\u001b[0m \u001b[0msql\u001b[0m\u001b[1;33m.\u001b[0m\u001b[0mencode\u001b[0m\u001b[1;33m(\u001b[0m\u001b[0mself\u001b[0m\u001b[1;33m.\u001b[0m\u001b[0mencoding\u001b[0m\u001b[1;33m,\u001b[0m \u001b[1;34m'surrogateescape'\u001b[0m\u001b[1;33m)\u001b[0m\u001b[1;33m\u001b[0m\u001b[1;33m\u001b[0m\u001b[0m\n\u001b[1;32m--> 516\u001b[1;33m         \u001b[0mself\u001b[0m\u001b[1;33m.\u001b[0m\u001b[0m_execute_command\u001b[0m\u001b[1;33m(\u001b[0m\u001b[0mCOMMAND\u001b[0m\u001b[1;33m.\u001b[0m\u001b[0mCOM_QUERY\u001b[0m\u001b[1;33m,\u001b[0m \u001b[0msql\u001b[0m\u001b[1;33m)\u001b[0m\u001b[1;33m\u001b[0m\u001b[1;33m\u001b[0m\u001b[0m\n\u001b[0m\u001b[0;32m    517\u001b[0m         \u001b[0mself\u001b[0m\u001b[1;33m.\u001b[0m\u001b[0m_affected_rows\u001b[0m \u001b[1;33m=\u001b[0m \u001b[0mself\u001b[0m\u001b[1;33m.\u001b[0m\u001b[0m_read_query_result\u001b[0m\u001b[1;33m(\u001b[0m\u001b[0munbuffered\u001b[0m\u001b[1;33m=\u001b[0m\u001b[0munbuffered\u001b[0m\u001b[1;33m)\u001b[0m\u001b[1;33m\u001b[0m\u001b[1;33m\u001b[0m\u001b[0m\n\u001b[0;32m    518\u001b[0m         \u001b[1;32mreturn\u001b[0m \u001b[0mself\u001b[0m\u001b[1;33m.\u001b[0m\u001b[0m_affected_rows\u001b[0m\u001b[1;33m\u001b[0m\u001b[1;33m\u001b[0m\u001b[0m\n",
      "\u001b[1;32mC:\\Python\\Anaconda\\lib\\site-packages\\pymysql\\connections.py\u001b[0m in \u001b[0;36m_execute_command\u001b[1;34m(self, command, sql)\u001b[0m\n\u001b[0;32m    748\u001b[0m         \"\"\"\n\u001b[0;32m    749\u001b[0m         \u001b[1;32mif\u001b[0m \u001b[1;32mnot\u001b[0m \u001b[0mself\u001b[0m\u001b[1;33m.\u001b[0m\u001b[0m_sock\u001b[0m\u001b[1;33m:\u001b[0m\u001b[1;33m\u001b[0m\u001b[1;33m\u001b[0m\u001b[0m\n\u001b[1;32m--> 750\u001b[1;33m             \u001b[1;32mraise\u001b[0m \u001b[0merr\u001b[0m\u001b[1;33m.\u001b[0m\u001b[0mInterfaceError\u001b[0m\u001b[1;33m(\u001b[0m\u001b[1;34m\"(0, '')\"\u001b[0m\u001b[1;33m)\u001b[0m\u001b[1;33m\u001b[0m\u001b[1;33m\u001b[0m\u001b[0m\n\u001b[0m\u001b[0;32m    751\u001b[0m \u001b[1;33m\u001b[0m\u001b[0m\n\u001b[0;32m    752\u001b[0m         \u001b[1;31m# If the last query was unbuffered, make sure it finishes before\u001b[0m\u001b[1;33m\u001b[0m\u001b[1;33m\u001b[0m\u001b[1;33m\u001b[0m\u001b[0m\n",
      "\u001b[1;31mInterfaceError\u001b[0m: (0, '')"
     ]
    }
   ],
   "source": [
    "inquiry = \"\"\"\n",
    "SELECT *\n",
    "FROM person\n",
    "ORDER BY ID DESC\n",
    "\"\"\"\n",
    "\n",
    "cursor.execute(inquiry)"
   ]
  },
  {
   "cell_type": "code",
   "execution_count": 4,
   "metadata": {},
   "outputs": [],
   "source": [
    "def processor(index, splitter = None, target = None, start = 0, end = None):\n",
    "    import os\n",
    "    \n",
    "    prc_data = []\n",
    "        \n",
    "    files = os.listdir(os.environ[\"USERPROFILE\"] + \"/desktop/과제2/\")\n",
    "    \n",
    "    if target is None:\n",
    "        for i in files:\n",
    "            f = open(os.environ[\"USERPROFILE\"] + \"/desktop/과제2/\" + i, \"r\")\n",
    "            \n",
    "            raw_data = f.readline().split()\n",
    "            \n",
    "            prc_data.append(raw_data[index].split(splitter)[start : end])\n",
    "            \n",
    "            f.close()\n",
    "    \n",
    "    else:\n",
    "        for i in files:\n",
    "            f = open(os.environ[\"USERPROFILE\"] + \"/desktop/과제2/\" + i, \"r\")\n",
    "            \n",
    "            raw_data = f.readline().split()\n",
    "            \n",
    "            prc_data.append(raw_data[index].split(splitter)[target][start : end])\n",
    "            \n",
    "            f.close()\n",
    "    \n",
    "    return prc_data"
   ]
  },
  {
   "cell_type": "code",
   "execution_count": 6,
   "metadata": {},
   "outputs": [
    {
     "name": "stdout",
     "output_type": "stream",
     "text": [
      "Male: 10000\n",
      "Female: 10000\n",
      "Most used portals: daum.net (3438)\n",
      "Least used portals: nate.com (3252)\n",
      "Youngest person: 100 years old\n",
      "Oldest person: 1 years old\n"
     ]
    }
   ],
   "source": [
    "def count(key = None):\n",
    "    \n",
    "    if key == \"sex\":  # 남자/여자 인원 수 세기\n",
    "        n_male = n_female = 0\n",
    "        \n",
    "        data = processor(index = -2, splitter = \"-\", target = -1, end = 1)\n",
    "        \n",
    "        for i in data:\n",
    "            if i in (\"9\", \"1\", \"3\", \"5\", \"7\"):\n",
    "                n_male += 1\n",
    "            \n",
    "            else:\n",
    "                n_female += 1\n",
    "        \n",
    "        print(\"Male:\", n_male)\n",
    "        print(\"Female:\", n_female)\n",
    "        \n",
    "        return (n_male, n_female)\n",
    "                  \n",
    "    \n",
    "    elif key == \"portals\":  # 가장 많이/적게 쓰는 포탈 찾기\n",
    "        portals = processor(index = -1, splitter = \"@\", target = -1)\n",
    "\n",
    "        user_num = {}\n",
    "\n",
    "        for p in set(portals):\n",
    "            user_num[p] = portals.count(p)\n",
    "\n",
    "        temp = tuple(user_num.items())\n",
    "\n",
    "        _mx = max(temp[n][-1] for n in range(len(temp)))\n",
    "        _mn = min(temp[n][-1] for n in range(len(temp)))\n",
    "\n",
    "        for n in range(len(temp)):\n",
    "            \n",
    "            if _mx is temp[n][-1]:\n",
    "                most_used = temp[n][0]\n",
    "\n",
    "            elif _mn is temp[n][-1]:\n",
    "                least_used = temp[n][0]\n",
    "\n",
    "        print(\"Most used portals: %s (%s)\" %(most_used, _mx))\n",
    "        print(\"Least used portals: %s (%s)\" %(least_used, _mn))\n",
    "    \n",
    "        return user_num\n",
    "                \n",
    "        \n",
    "    elif key == \"ages\":  # 가장 늙은/어린 사람의 나이 찾기\n",
    "        raw_ages = processor(index = -2, splitter = \"-\", target = 0, end = 2)\n",
    "        ages = []\n",
    "        \n",
    "        for n in range(len(raw_ages)):\n",
    "            \n",
    "            if int(raw_ages[n]) <= 19 and int(raw_ages[n]) >= 0:\n",
    "                ages.append(19 - int(raw_ages[n]) + 1)\n",
    "                \n",
    "            else:\n",
    "                ages.append(119 - int(raw_ages[n]) + 1)\n",
    "    \n",
    "        print(\"Youngest person: %s years old\" %max(ages))\n",
    "        print(\"Oldest person: %s years old\" %min(ages))\n",
    "        \n",
    "        return (max(ages), min(ages))\n",
    "    \n",
    "    else:\n",
    "        print(\"잘못된 인수를 입력했습니다.\")\n",
    "        \n",
    "        return 1\n",
    "    \n",
    "\n",
    "if __name__ == \"__main__\":\n",
    "    count(\"sex\")\n",
    "    count(\"portals\")\n",
    "    count(\"ages\")"
   ]
  },
  {
   "cell_type": "markdown",
   "metadata": {},
   "source": [
    "------\n",
    "### MySQL table 생성하기\n",
    "\n",
    "    CREATE TABLE testTable(                               (1)\n",
    "      id INT(11) NOT NULL AUTO_INCREMENT,                 (2)\n",
    "      name VARCHAR(20) NOT NULL,                          (3)\n",
    "      ouccupation VARCHAR(20) NULL,                       (4)\n",
    "      height SMALLINT,                                    (5)\n",
    "      profile TEXT NULL,                                  (6)\n",
    "      date  DATETIME,                                     (7)\n",
    "      CONSTRAINT testTable_PK PRIMARY KEY(id)             (8)\n",
    "    );\n",
    "------\n",
    "(1) 테이블을 생성하는 명령어입니다.  \n",
    "(2) id라는 컬럼을 추가하는 데, INT 타입으로 지정합니다. NOT NULL은 값을 비워둘 수 없음을 의미합니다. AUTO_INCREMENT는 자동으로 값이 1씩 증가하도록 설정하는 옵션입니다.  \n",
    "(3) name이라는 컬럼을 추가하는데, 가변길이로 20글자까지 허용합니다. (20글자가 넘어가면 20글자에서 자릅니다.)  \n",
    "(4) 위와 동일하지만, 값을 비워두는 것을 허용합니다.  \n",
    "(5) SMALLINT는 INT보다 가질 수 있는 값의 범위가 작습니다. 메모리 측면에서 이득입니다.  \n",
    "(6) TEXT는 아주 긴 문자열을 취급할 때 사용합니다.  \n",
    "(7) DATETIME은 날짜와 시간에 관한 타입입니다.  \n",
    "(8) CONSTRAINT는 제약조건이라는 의미입니다. testTable의 PRIMARY KEY를 id 컬럼으로 지정하겠다는 의미이며, 이 제약조건의 이름을 testTable_PK로 지정한 것입니다.\n",
    "\n",
    "------\n",
    "그 외의 옵션으로도 많은 값이 올 수 있습니다.  중요 기능 두 가지만 더 살펴봅시다.  \n",
    "- CHECK : 값의 범위를 제한합니다.  \n",
    "- FOREIGN KEY : 다른 테이블과 JOIN할 때 사용합니다.\n",
    "\n",
    "[출처](https://blog.naver.com/pjok1122/221539169731)\n",
    "\n",
    "-----"
   ]
  },
  {
   "cell_type": "code",
   "execution_count": 1,
   "metadata": {},
   "outputs": [],
   "source": [
    "import pymysql as pms\n",
    "\n",
    "cnx = pms.connect(host = \"plen-tutoring.mysql.database.azure.com\", \n",
    "                  port = 3306, \n",
    "                  user = \"plentir@plen-tutoring\", \n",
    "                  password = \"yjy990810!\", \n",
    "                  database = \"web_crawling\", \n",
    "                  charset = \"utf8\")\n",
    "\n",
    "cursor = cnx.cursor()"
   ]
  },
  {
   "cell_type": "code",
   "execution_count": 4,
   "metadata": {},
   "outputs": [
    {
     "data": {
      "text/plain": [
       "1"
      ]
     },
     "execution_count": 4,
     "metadata": {},
     "output_type": "execute_result"
    }
   ],
   "source": [
    "mk_table = \"\"\"\n",
    "CREATE TABLE naver_searchkwds(\n",
    "    ID INT UNSIGNED NOT NULL AUTO_INCREMENT,\n",
    "    Date VARCHAR(50) NULL,\n",
    "    Rank SMALLINT NOT NULL,\n",
    "    Keyword VARCHAR(50) NOT NULL,\n",
    "    PRIMARY KEY(ID)\n",
    ") DEFAULT CHARSET = utf8 AUTO_INCREMENT = 1;\n",
    "\"\"\"\n",
    "\n",
    "cursor.execute(mk_table)\n",
    "\n",
    "cursor.execute(\"SHOW TABLES;\")"
   ]
  },
  {
   "cell_type": "code",
   "execution_count": 3,
   "metadata": {},
   "outputs": [
    {
     "data": {
      "text/plain": [
       "0"
      ]
     },
     "execution_count": 3,
     "metadata": {},
     "output_type": "execute_result"
    }
   ],
   "source": [
    "name_table = \"naver_searchkwds\"\n",
    "\n",
    "cursor.execute(\"DROP TABLE %s;\" %name_table)"
   ]
  },
  {
   "cell_type": "code",
   "execution_count": 5,
   "metadata": {},
   "outputs": [
    {
     "data": {
      "text/plain": [
       "4"
      ]
     },
     "execution_count": 5,
     "metadata": {},
     "output_type": "execute_result"
    }
   ],
   "source": [
    "name_table = \"naver_searchkwds\"\n",
    "\n",
    "cursor.execute(\"DESC %s;\" %name_table)"
   ]
  },
  {
   "cell_type": "code",
   "execution_count": 7,
   "metadata": {},
   "outputs": [
    {
     "data": {
      "text/plain": [
       "0"
      ]
     },
     "execution_count": 7,
     "metadata": {},
     "output_type": "execute_result"
    }
   ],
   "source": [
    "inquiry = \"\"\"\n",
    "SELECT ID, Date AS 날짜, Rank AS 순위, Keyword AS 검색어\n",
    "FROM naver_searchkwds\n",
    "ORDER BY ID DESC\n",
    "\"\"\"\n",
    "\n",
    "cursor.execute(inquiry)\n",
    "\n",
    "# result = cursor.fetchall()"
   ]
  },
  {
   "cell_type": "code",
   "execution_count": null,
   "metadata": {},
   "outputs": [],
   "source": []
  }
 ],
 "metadata": {
  "kernelspec": {
   "display_name": "Python 3",
   "language": "python",
   "name": "python3"
  },
  "language_info": {
   "codemirror_mode": {
    "name": "ipython",
    "version": 3
   },
   "file_extension": ".py",
   "mimetype": "text/x-python",
   "name": "python",
   "nbconvert_exporter": "python",
   "pygments_lexer": "ipython3",
   "version": "3.7.3"
  }
 },
 "nbformat": 4,
 "nbformat_minor": 2
}
