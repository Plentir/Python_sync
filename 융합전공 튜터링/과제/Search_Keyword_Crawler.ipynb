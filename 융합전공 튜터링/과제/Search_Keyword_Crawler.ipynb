{
  "cells": [
    {
      "metadata": {},
      "cell_type": "markdown",
      "source": "## 1. SQL Server Connecter and Executor"
    },
    {
      "metadata": {
        "ExecuteTime": {
          "start_time": "2019-07-10T17:42:52.110467Z",
          "end_time": "2019-07-10T17:42:54.655345Z"
        },
        "trusted": true
      },
      "cell_type": "code",
      "source": "import pyodbc\n\nserver = 'plensql.database.windows.net'\ndatabase = 'SQL_TestSuit'\nusername = 'plentir'\npassword = 'yjy990810!'\ndriver = '{ODBC Driver 17 for SQL Server}'\n\ncnxn = pyodbc.connect('DRIVER='+driver+';SERVER='+server+';PORT=1433;DATABASE='+database+';UID='+username+';PWD='+ password)\ncursor = cnxn.cursor()",
      "execution_count": 1,
      "outputs": []
    },
    {
      "metadata": {
        "ExecuteTime": {
          "start_time": "2019-07-10T17:43:03.726404Z",
          "end_time": "2019-07-10T17:43:04.296326Z"
        },
        "trusted": true
      },
      "cell_type": "code",
      "source": "cursor.execute()\n\ncursor.commit()\n\ncursor.close()",
      "execution_count": 2,
      "outputs": [
        {
          "output_type": "error",
          "ename": "TypeError",
          "evalue": "execute() takes at least 1 argument (0 given)",
          "traceback": [
            "\u001b[0;31m---------------------------------------------------------------------------\u001b[0m",
            "\u001b[0;31mTypeError\u001b[0m                                 Traceback (most recent call last)",
            "\u001b[0;32m<ipython-input-2-b440e05be88b>\u001b[0m in \u001b[0;36m<module>\u001b[0;34m\u001b[0m\n\u001b[0;32m----> 1\u001b[0;31m \u001b[0mcursor\u001b[0m\u001b[0;34m.\u001b[0m\u001b[0mexecute\u001b[0m\u001b[0;34m(\u001b[0m\u001b[0;34m)\u001b[0m\u001b[0;34m\u001b[0m\u001b[0m\n\u001b[0m\u001b[1;32m      2\u001b[0m \u001b[0;34m\u001b[0m\u001b[0m\n\u001b[1;32m      3\u001b[0m \u001b[0mcursor\u001b[0m\u001b[0;34m.\u001b[0m\u001b[0mcommit\u001b[0m\u001b[0;34m(\u001b[0m\u001b[0;34m)\u001b[0m\u001b[0;34m\u001b[0m\u001b[0m\n\u001b[1;32m      4\u001b[0m \u001b[0;34m\u001b[0m\u001b[0m\n\u001b[1;32m      5\u001b[0m \u001b[0mcursor\u001b[0m\u001b[0;34m.\u001b[0m\u001b[0mclose\u001b[0m\u001b[0;34m(\u001b[0m\u001b[0;34m)\u001b[0m\u001b[0;34m\u001b[0m\u001b[0m\n",
            "\u001b[0;31mTypeError\u001b[0m: execute() takes at least 1 argument (0 given)"
          ]
        }
      ]
    },
    {
      "metadata": {
        "ExecuteTime": {
          "start_time": "2019-07-10T17:48:24.944957Z",
          "end_time": "2019-07-10T17:48:24.958503Z"
        },
        "trusted": true
      },
      "cell_type": "code",
      "source": "mk_tb = \"CREATE TABLE Search_Keywords (\\\nID INT NOT NULL, \\\nDate VARCHAR(10) NOT NULL, \\\nTime VARCHAR(8) NOT NULL, \\\nKeyword VARCHAR(255) NOT NULL, \\\nRank INT NOT NULL, \\\nCategory VARCHAR(20) NOT NULL, \\\nSource VARCHAR(50) NOT NULL, \\\nPRIMARY KEY(ID));\"",
      "execution_count": 4,
      "outputs": []
    },
    {
      "metadata": {
        "ExecuteTime": {
          "start_time": "2019-07-13T11:33:01.668221Z",
          "end_time": "2019-07-13T11:33:01.692102Z"
        },
        "trusted": true
      },
      "cell_type": "code",
      "source": "add_data = \"INSERT INTO Search_Keyword (\\\nDate, Time, Keyword, Rank, Category, Source) \\\nVALUE\"\nprint(add_data)",
      "execution_count": 1,
      "outputs": [
        {
          "output_type": "stream",
          "text": "INSERT INTO Search_Keyword (Date, Time, Keyword, Rank, Category, Source) VALUE\n",
          "name": "stdout"
        }
      ]
    },
    {
      "metadata": {},
      "cell_type": "markdown",
      "source": "------\n\n\n## 2. Crawler"
    },
    {
      "metadata": {
        "ExecuteTime": {
          "start_time": "2019-07-12T12:37:17.439371Z",
          "end_time": "2019-07-12T12:37:21.91094Z"
        },
        "trusted": true
      },
      "cell_type": "code",
      "source": "!pip install jupyter-theme",
      "execution_count": 1,
      "outputs": [
        {
          "output_type": "stream",
          "text": "Collecting jupyter-theme\n\u001b[31m  ERROR: Could not find a version that satisfies the requirement jupyter-theme (from versions: none)\u001b[0m\n\u001b[31mERROR: No matching distribution found for jupyter-theme\u001b[0m\n",
          "name": "stdout"
        }
      ]
    },
    {
      "metadata": {
        "ExecuteTime": {
          "start_time": "2019-09-02T00:30:53.416879Z",
          "end_time": "2019-09-02T00:31:14.679108Z"
        },
        "trusted": true
      },
      "cell_type": "code",
      "source": "!pip install pendulum",
      "execution_count": 2,
      "outputs": [
        {
          "output_type": "stream",
          "text": "Requirement already satisfied: pendulum in /home/nbuser/anaconda3_501/lib/python3.6/site-packages (2.0.5)\nRequirement already satisfied: python-dateutil<3.0,>=2.6 in /home/nbuser/anaconda3_501/lib/python3.6/site-packages (from pendulum) (2.8.0)\nRequirement already satisfied: pytzdata>=2018.3 in /home/nbuser/anaconda3_501/lib/python3.6/site-packages (from pendulum) (2019.2)\nRequirement already satisfied: six>=1.5 in /home/nbuser/anaconda3_501/lib/python3.6/site-packages (from python-dateutil<3.0,>=2.6->pendulum) (1.11.0)\n\u001b[33mWARNING: You are using pip version 19.2.2, however version 19.2.3 is available.\nYou should consider upgrading via the 'pip install --upgrade pip' command.\u001b[0m\n",
          "name": "stdout"
        }
      ]
    },
    {
      "metadata": {
        "ExecuteTime": {
          "start_time": "2019-09-02T00:31:14.701356Z",
          "end_time": "2019-09-02T00:31:14.895305Z"
        },
        "trusted": true
      },
      "cell_type": "code",
      "source": "import pendulum as pnd\n\ns = pnd.now(\"Asia/Seoul\")\ne = s.add(days=0)\nperiods = pnd.period(s, e)\n\ndates = ()\nfor date in periods.range(\"days\"):\n    dates += (date.strftime(\"%Y-%m-%d %H:%M\"),)\n\nprint(len(dates))\nprint(dates)",
      "execution_count": 3,
      "outputs": [
        {
          "output_type": "stream",
          "text": "1\n('2019-09-02 09:31',)\n",
          "name": "stdout"
        }
      ]
    },
    {
      "metadata": {
        "ExecuteTime": {
          "start_time": "2019-07-16T11:43:47.317381Z",
          "end_time": "2019-07-16T11:43:47.510674Z"
        },
        "trusted": true
      },
      "cell_type": "code",
      "source": "string = \"aa\"\nintager = 11\ntype(string) == type(\"\")",
      "execution_count": 1,
      "outputs": [
        {
          "output_type": "execute_result",
          "execution_count": 1,
          "data": {
            "text/plain": "True"
          },
          "metadata": {}
        }
      ]
    },
    {
      "metadata": {
        "ExecuteTime": {
          "start_time": "2019-09-02T00:33:17.955837Z",
          "end_time": "2019-09-02T00:33:18.024361Z"
        },
        "trusted": true
      },
      "cell_type": "code",
      "source": "class SearchKeyword:\n    \"\"\"It offers the tools for crawling a portal's search keywords automatically.\n    There are 5 parameters; \"source\", \"dates\", \"period\", \"times\", \"ages\".\n    \n    \"source\" is a parameter for selecting a target portal that you want to do a crawling.\n    >> Allowed value is only \"NAVER\" for now.\n    \n    A parameter \"dates\" is a 'date' as the base date of period or is collection of the date.\n    >> For this parameter, values must be formatted as \"YYYY-MM-DD\".\n    \n    A parameter \"period\" is a 'period' used when automatically generate specific range of date.\n    >> You can use a date and the number of days for this parameter.\n    >> Format of 'date' type value is \"YYYY-MM-DD\" and of 'the number of days' type value is a int.\n    \n    A parameter \"times\" is a 'time' or collection of the time used for a crawling.\n    >> Format: hh:mm (Seconds are not needed.)\n    \n    A parameter \"ages\" is used for filtering data categorized as age of users.\n    >> Allowed values are \"any\", \"all\", 10s\", \"20s\", \"30s\", \"40s\" and \"50s\".\n    >> You can use the value \"any\" to get any categories of the data.\n    \"\"\"\n    \n    import pendulum as pnd\n\n    def __init__(self, source, dates=None, period=0, times=None, ages=\"any\"):\n        self.__source = source\n        self.__ages = ages\n        self.__period = period\n        \n        self.__start = pnd.now(\"Asia/Seoul\")\n        if type(period) == type(\"str\"):\n            self.__end = pnd.from_format(self.__period, fmt=\"YYYY-MM-DD\", tz=\"Asia/Seoul\")\n        \n        else:\n            self.__end = self.__start.add(days=self.__period)\n            \n        self.__date_range = pnd.period(self.__start, self.__end)\n\n        self.__dates = ()\n        for date in self.__date_range.range(\"days\"):\n            self.__dates += (date.strftime(\"%Y-%m-%d\"),)\n            \n        if times == None:\n            self.__times = self.__start.strftime(\"%H:%M\")\n        \n        return\n    \n    def set_date_range(self):\n        pass\n    \n        return\n    \n    def view_attr(self):\n        print(\"source =\", self.__source)\n        print(\"dates =\", self.__dates, \"// Total\", len(self.__dates), \"items\")\n        print(\"period =\", self.__period)\n        print(\"times =\", self.__times)\n        print(\"ages =\", self.__ages)\n        \n        return\n    \n    def export_to_sql(self, file=\"\"):\n        pass\n    \n        return",
      "execution_count": 7,
      "outputs": []
    },
    {
      "metadata": {
        "trusted": true,
        "ExecuteTime": {
          "start_time": "2019-09-02T00:33:20.976735Z",
          "end_time": "2019-09-02T00:33:20.996627Z"
        }
      },
      "cell_type": "code",
      "source": "a = SearchKeyword(\"NAVER\")\na.view_attr()",
      "execution_count": 8,
      "outputs": [
        {
          "output_type": "stream",
          "text": "source = NAVER\ndates = ('2019-09-02',) // Total 1 items\nperiod = 0\ntimes = 09:33\nages = any\n",
          "name": "stdout"
        }
      ]
    },
    {
      "metadata": {
        "ExecuteTime": {
          "start_time": "2019-09-02T00:33:27.21918Z",
          "end_time": "2019-09-02T00:33:27.256937Z"
        },
        "trusted": true
      },
      "cell_type": "code",
      "source": "test1 = SearchKeyword(source=\"NAVER\", dates=None, period=25, times=None, ages=\"all\")\ntest1.view_attr()",
      "execution_count": 9,
      "outputs": [
        {
          "output_type": "stream",
          "text": "source = NAVER\ndates = ('2019-09-02', '2019-09-03', '2019-09-04', '2019-09-05', '2019-09-06', '2019-09-07', '2019-09-08', '2019-09-09', '2019-09-10', '2019-09-11', '2019-09-12', '2019-09-13', '2019-09-14', '2019-09-15', '2019-09-16', '2019-09-17', '2019-09-18', '2019-09-19', '2019-09-20', '2019-09-21', '2019-09-22', '2019-09-23', '2019-09-24', '2019-09-25', '2019-09-26', '2019-09-27') // Total 26 items\nperiod = 25\ntimes = 09:33\nages = all\n",
          "name": "stdout"
        }
      ]
    },
    {
      "metadata": {
        "ExecuteTime": {
          "start_time": "2019-09-02T00:34:21.906221Z",
          "end_time": "2019-09-02T00:34:21.957197Z"
        },
        "trusted": true
      },
      "cell_type": "code",
      "source": "test2 = SearchKeyword(source=\"NAVER\", dates=None, period=\"2019-06-29\", times=None, ages=\"all\")\ntest2.view_attr()",
      "execution_count": 11,
      "outputs": [
        {
          "output_type": "stream",
          "text": "source = NAVER\ndates = ('2019-09-02', '2019-09-01', '2019-08-31', '2019-08-30', '2019-08-29', '2019-08-28', '2019-08-27', '2019-08-26', '2019-08-25', '2019-08-24', '2019-08-23', '2019-08-22', '2019-08-21', '2019-08-20', '2019-08-19', '2019-08-18', '2019-08-17', '2019-08-16', '2019-08-15', '2019-08-14', '2019-08-13', '2019-08-12', '2019-08-11', '2019-08-10', '2019-08-09', '2019-08-08', '2019-08-07', '2019-08-06', '2019-08-05', '2019-08-04', '2019-08-03', '2019-08-02', '2019-08-01', '2019-07-31', '2019-07-30', '2019-07-29', '2019-07-28', '2019-07-27', '2019-07-26', '2019-07-25', '2019-07-24', '2019-07-23', '2019-07-22', '2019-07-21', '2019-07-20', '2019-07-19', '2019-07-18', '2019-07-17', '2019-07-16', '2019-07-15', '2019-07-14', '2019-07-13', '2019-07-12', '2019-07-11', '2019-07-10', '2019-07-09', '2019-07-08', '2019-07-07', '2019-07-06', '2019-07-05', '2019-07-04', '2019-07-03', '2019-07-02', '2019-07-01', '2019-06-30', '2019-06-29') // Total 66 items\nperiod = 2019-06-29\ntimes = 09:34\nages = all\n",
          "name": "stdout"
        }
      ]
    },
    {
      "metadata": {
        "trusted": true
      },
      "cell_type": "code",
      "source": "keywords_all = source_page.select(\".section_lst_area.carousel_area.lst_narrow .keyword_rank div[data-age='all'] span\")\n\nres_all = []\nfor i in range(len(keywords_all)):\n    res_all.append(keywords_all[i].text)\n\nres_all",
      "execution_count": null,
      "outputs": []
    },
    {
      "metadata": {
        "trusted": true
      },
      "cell_type": "code",
      "source": "import urllib as ulb\nimport requests as rqs\nfrom bs4 import BeautifulSoup as soup",
      "execution_count": null,
      "outputs": []
    },
    {
      "metadata": {
        "trusted": true
      },
      "cell_type": "code",
      "source": "def export_to_sql(d, t, k, r, c, s):\n    dict_age = {\"all\" : \"전체\", \"10s\" : \"10대\", \"20s\" : \"20대\", \"30s\" : \"30대\", \"40s\" : \"40대\", \"50s\" : \"50대 이상\"}\n    \n    dict_time = {\"08%3A00%3A00\": \"08:00\", \"20%3A00%3A00\": \"20:00\"}\n    \n    sql = \"\"\"INSERT INTO Search_Keywords(Date, Time, Keyword, Rank, Category, Source)\nVALUES ('%s', '%s', '%s', '%s', '%s', '%s');\"\"\" %(d, dict_time[t], k, r, dict_age[c], s)\n        \n    return sql\n    \n    \ndef crawler(dates, times):\n    rq_header = {\n    \"User-Agent\" : (\"Mozilla/5.0 (Windows NT 10.0; Win64; x64) AppleWebKit/537.36 (KHTML, like Gecko) Chrome/74.0.3729.134 Safari/537.36 Vivaldi/2.5.1525.40\")\n    }\n    \n    ages = [\"all\", \"10s\", \"20s\", \"30s\", \"40s\", \"50s\"]\n    \n    for d in dates:  # 일자별로 키워드 수집\n        for t in times:  # 시간별로 키워드 수집\n            url = \"https://datalab.naver.com/keyword/realtimeList.naver?datetime=%sT%s&where=main\" %(d, t)\n            \n            page = rqs.get(url, headers = rq_header)\n            page.encoding = \"utf-8\"\n            print(\"현재 접속한 웹페이지:\", page.url)\n            \n            source_page = soup(page.content, \"lxml\")\n            \n            for i in range(len(ages)):  # 나이별로 키워드 수집\n                keywords = source_page.select(\".section_lst_area.carousel_area.lst_narrow .keyword_rank div[data-age='%s'] span\" %ages[i])\n                \n                kwds_txt = []\n                for j in range(len(keywords)):  # 키워드(텍스트)만 추출하여 txt에 추가\n                    kwds_txt.append(keywords[j].text)\n                \n                for j in range(len(kwds_txt)):\n                    sql = export_to_sql(d, t, kwds_txt[j], j + 1, ages[i], \"Naver\")  # Date, Time, Keyword, Rank, Category, Source\n                    #cursor.execute(sql)\n    \n    print(\"End.\")\n\n    cnx.commit()\n    print(\"커밋됨.\")\n\n    cnx.close()\n    print(\"종료됨.\")\n    \n    return",
      "execution_count": null,
      "outputs": []
    }
  ],
  "metadata": {
    "kernelspec": {
      "name": "python36",
      "display_name": "Python 3.6",
      "language": "python"
    },
    "language_info": {
      "mimetype": "text/x-python",
      "nbconvert_exporter": "python",
      "name": "python",
      "pygments_lexer": "ipython3",
      "version": "3.6.6",
      "file_extension": ".py",
      "codemirror_mode": {
        "version": 3,
        "name": "ipython"
      }
    }
  },
  "nbformat": 4,
  "nbformat_minor": 2
}