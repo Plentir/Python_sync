{
 "cells": [
  {
   "cell_type": "code",
   "execution_count": 1,
   "metadata": {
    "ExecuteTime": {
     "end_time": "2019-05-06T08:06:34.275008Z",
     "start_time": "2019-05-06T08:06:32.752864Z"
    },
    "code_folding": []
   },
   "outputs": [],
   "source": [
    "from openpyxl import Workbook\n",
    "wb = Workbook()\n",
    "ws = wb.active\n",
    "ws[\"A1\"] = \"Hello\"\n",
    "wb.save(\"text.xlsx\")\n",
    "wb.remove(ws)"
   ]
  },
  {
   "cell_type": "code",
   "execution_count": 2,
   "metadata": {
    "ExecuteTime": {
     "end_time": "2019-05-06T08:06:38.289231Z",
     "start_time": "2019-05-06T08:06:38.085353Z"
    },
    "code_folding": []
   },
   "outputs": [],
   "source": [
    "from pptx import Presentation\n",
    "\n",
    "prs = Presentation()\n",
    "\n",
    "ts = prs.slide_layouts[0]\n",
    "s1 = prs.slides.add_slide(ts)\n",
    "title = s1.shapes.title\n",
    "st = s1.placeholders[1]\n",
    "title.text = \"Hello, Python!\"\n",
    "st.text = \"Hello, Python-pptx!\"\n",
    "\n",
    "prs.save(\"test.pptx\")"
   ]
  }
 ],
 "metadata": {
  "kernelspec": {
   "display_name": "Python 3",
   "language": "python",
   "name": "python3"
  },
  "language_info": {
   "codemirror_mode": {
    "name": "ipython",
    "version": 3
   },
   "file_extension": ".py",
   "mimetype": "text/x-python",
   "name": "python",
   "nbconvert_exporter": "python",
   "pygments_lexer": "ipython3",
   "version": "3.7.3"
  },
  "varInspector": {
   "cols": {
    "lenName": "10",
    "lenType": "10",
    "lenVar": "40"
   },
   "kernels_config": {
    "python": {
     "delete_cmd_postfix": "",
     "delete_cmd_prefix": "del ",
     "library": "var_list.py",
     "varRefreshCmd": "print(var_dic_list())"
    },
    "r": {
     "delete_cmd_postfix": ") ",
     "delete_cmd_prefix": "rm(",
     "library": "var_list.r",
     "varRefreshCmd": "cat(var_dic_list()) "
    }
   },
   "position": {
    "height": "296.331px",
    "left": "826.492px",
    "right": "20px",
    "top": "190.995px",
    "width": "605.958px"
   },
   "types_to_exclude": [
    "module",
    "function",
    "builtin_function_or_method",
    "instance",
    "_Feature"
   ],
   "window_display": false
  }
 },
 "nbformat": 4,
 "nbformat_minor": 2
}
