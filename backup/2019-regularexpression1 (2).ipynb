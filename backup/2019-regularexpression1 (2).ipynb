{
 "cells": [
  {
   "cell_type": "code",
   "execution_count": 29,
   "metadata": {
    "collapsed": true,
    "jupyter": {
     "outputs_hidden": true
    }
   },
   "outputs": [],
   "source": [
    "import re"
   ]
  },
  {
   "cell_type": "code",
   "execution_count": 30,
   "metadata": {
    "collapsed": true,
    "jupyter": {
     "outputs_hidden": true
    }
   },
   "outputs": [],
   "source": [
    "data = \"2019-12-02:11:10:34\"\n",
    "reg = re.search(\"\\d+-\\d+-\\d+:\\d+:\\d+:\\d+\", data)"
   ]
  },
  {
   "cell_type": "code",
   "execution_count": 31,
   "metadata": {},
   "outputs": [
    {
     "data": {
      "text/plain": [
       "'2019-12-02:11:10:34'"
      ]
     },
     "execution_count": 31,
     "metadata": {},
     "output_type": "execute_result"
    }
   ],
   "source": [
    "reg.group()"
   ]
  },
  {
   "cell_type": "code",
   "execution_count": 32,
   "metadata": {
    "collapsed": true,
    "jupyter": {
     "outputs_hidden": true
    }
   },
   "outputs": [],
   "source": [
    "data = \"2019-12-02:11:10:34\"\n",
    "reg = re.search(\"(\\d+)-(\\d+)-(\\d+):(\\d+):(\\d+):(\\d+)\", data)"
   ]
  },
  {
   "cell_type": "code",
   "execution_count": 33,
   "metadata": {},
   "outputs": [
    {
     "data": {
      "text/plain": [
       "'2019-12-02:11:10:34'"
      ]
     },
     "execution_count": 33,
     "metadata": {},
     "output_type": "execute_result"
    }
   ],
   "source": [
    "reg.group()"
   ]
  },
  {
   "cell_type": "code",
   "execution_count": 34,
   "metadata": {},
   "outputs": [
    {
     "name": "stdout",
     "output_type": "stream",
     "text": [
      "2019\n",
      "12\n",
      "02\n",
      "11\n",
      "10\n",
      "34\n"
     ]
    }
   ],
   "source": [
    "print(reg.group(1))\n",
    "print(reg.group(2))\n",
    "print(reg.group(3))\n",
    "print(reg.group(4))\n",
    "print(reg.group(5))\n",
    "print(reg.group(6))"
   ]
  },
  {
   "cell_type": "code",
   "execution_count": 35,
   "metadata": {
    "collapsed": true,
    "jupyter": {
     "outputs_hidden": true
    }
   },
   "outputs": [],
   "source": [
    "data= \"name:hong kil dong email:hong.ssu.ac.kr\"\n",
    "reg = re.search(\"name:[\\w\\s]+email:[\\w\\.]+\", data)"
   ]
  },
  {
   "cell_type": "code",
   "execution_count": 36,
   "metadata": {},
   "outputs": [
    {
     "data": {
      "text/plain": [
       "'name:hong kil dong email:hong.ssu.ac.kr'"
      ]
     },
     "execution_count": 36,
     "metadata": {},
     "output_type": "execute_result"
    }
   ],
   "source": [
    "reg.group()"
   ]
  },
  {
   "cell_type": "code",
   "execution_count": 37,
   "metadata": {
    "collapsed": true,
    "jupyter": {
     "outputs_hidden": true
    }
   },
   "outputs": [],
   "source": [
    "reg = re.search(\"name:([\\w\\s]+)email:([\\w\\.]+)\", data)"
   ]
  },
  {
   "cell_type": "code",
   "execution_count": 38,
   "metadata": {},
   "outputs": [
    {
     "name": "stdout",
     "output_type": "stream",
     "text": [
      "hong kil dong \n",
      "hong.ssu.ac.kr\n"
     ]
    }
   ],
   "source": [
    "print(reg.group(1))\n",
    "print(reg.group(2))"
   ]
  },
  {
   "cell_type": "code",
   "execution_count": 25,
   "metadata": {},
   "outputs": [
    {
     "name": "stdout",
     "output_type": "stream",
     "text": [
      "194.120.126.123,NL,Netherlands\n",
      "94.126.119.173,FR,France\n",
      "193.46.74.166,RU,Russian Federation\n",
      "46.235.67.202,RU,Russian Federation\n",
      "193.161.193.64,RU,Russian Federation\n"
     ]
    }
   ],
   "source": [
    "file = open(\"ip.txt\")\n",
    "data = file.read()\n",
    "print(data)"
   ]
  },
  {
   "cell_type": "code",
   "execution_count": 51,
   "metadata": {},
   "outputs": [
    {
     "name": "stdout",
     "output_type": "stream",
     "text": [
      "\\test\n"
     ]
    }
   ],
   "source": [
    "a = r\"\\test\"\n",
    "print(a)"
   ]
  },
  {
   "cell_type": "code",
   "execution_count": 39,
   "metadata": {},
   "outputs": [
    {
     "name": "stdout",
     "output_type": "stream",
     "text": [
      "194.120.126.123,NL,Netherlands\n"
     ]
    }
   ],
   "source": [
    "reg = re.search(\"[\\d\\.]+,\\w+,\\w+\", \"194.120.126.123,NL,Netherlands\")\n",
    "print(reg.group())"
   ]
  },
  {
   "cell_type": "code",
   "execution_count": 40,
   "metadata": {},
   "outputs": [
    {
     "name": "stdout",
     "output_type": "stream",
     "text": [
      "194.120.126.123\n"
     ]
    }
   ],
   "source": [
    "reg = re.search(\"([\\d\\.]+),\\w+,\\w+\", \"194.120.126.123,NL,Netherlands\")\n",
    "print(reg.group(1))"
   ]
  },
  {
   "cell_type": "code",
   "execution_count": 27,
   "metadata": {},
   "outputs": [
    {
     "name": "stdout",
     "output_type": "stream",
     "text": [
      "['194.120.126.123,NL,Netherlands\\n', '94.126.119.173,FR,France\\n', '193.46.74.166,RU,Russian Federation\\n', '46.235.67.202,RU,Russian Federation\\n', '193.161.193.64,RU,Russian Federation']\n"
     ]
    }
   ],
   "source": [
    "with open(\"ip.txt\") as f:\n",
    "    content = f.readlines()\n",
    "    print(content)"
   ]
  },
  {
   "cell_type": "code",
   "execution_count": 42,
   "metadata": {},
   "outputs": [
    {
     "name": "stdout",
     "output_type": "stream",
     "text": [
      "[1, 4, 9, 16]\n"
     ]
    }
   ],
   "source": [
    "#list comprehension\n",
    "listA = [1,2,3,4]\n",
    "square = []\n",
    "for i in listA:\n",
    "    square.append(i**2)\n",
    "print(square)"
   ]
  },
  {
   "cell_type": "code",
   "execution_count": 43,
   "metadata": {},
   "outputs": [
    {
     "data": {
      "text/plain": [
       "[1, 4, 9, 16]"
      ]
     },
     "execution_count": 43,
     "metadata": {},
     "output_type": "execute_result"
    }
   ],
   "source": [
    "[ i**2 for i in listA]"
   ]
  },
  {
   "cell_type": "code",
   "execution_count": null,
   "metadata": {},
   "outputs": [],
   "source": [
    "# 오직 짝수만 제곱"
   ]
  },
  {
   "cell_type": "code",
   "execution_count": 44,
   "metadata": {},
   "outputs": [
    {
     "data": {
      "text/plain": [
       "[4, 16]"
      ]
     },
     "execution_count": 44,
     "metadata": {},
     "output_type": "execute_result"
    }
   ],
   "source": [
    "[i**2 for i in listA if i%2 == 0]"
   ]
  },
  {
   "cell_type": "code",
   "execution_count": 46,
   "metadata": {},
   "outputs": [
    {
     "name": "stdout",
     "output_type": "stream",
     "text": [
      "['194.120.126.123,NL,Netherlands\\n', '94.126.119.173,FR,France\\n', '193.46.74.166,RU,Russian Federation\\n', '46.235.67.202,RU,Russian Federation\\n', '193.161.193.64,RU,Russian Federation']\n",
      "194.120.126.123,NL,Netherlands\n",
      "\n",
      "94.126.119.173,FR,France\n",
      "\n",
      "193.46.74.166,RU,Russian Federation\n",
      "\n",
      "46.235.67.202,RU,Russian Federation\n",
      "\n",
      "193.161.193.64,RU,Russian Federation\n"
     ]
    }
   ],
   "source": [
    "print(content)\n",
    "for i in content:\n",
    "    print(i)"
   ]
  },
  {
   "cell_type": "code",
   "execution_count": 28,
   "metadata": {},
   "outputs": [
    {
     "data": {
      "text/plain": [
       "['194.120.126.123',\n",
       " '94.126.119.173',\n",
       " '193.46.74.166',\n",
       " '46.235.67.202',\n",
       " '193.161.193.64']"
      ]
     },
     "execution_count": 28,
     "metadata": {},
     "output_type": "execute_result"
    }
   ],
   "source": [
    "[ re.search(\"([\\d\\.]+),\\w+,\\w+\", line).group(1) for line  in content]"
   ]
  },
  {
   "cell_type": "code",
   "execution_count": 47,
   "metadata": {},
   "outputs": [
    {
     "name": "stdout",
     "output_type": "stream",
     "text": [
      "['194.120.126.123', '94.126.119.173', '193.46.74.166', '46.235.67.202', '193.161.193.64']\n"
     ]
    }
   ],
   "source": [
    "ips = []\n",
    "for line in content:\n",
    "    ip = re.search(\"([\\d\\.]+),\\w+,\\w+\", line).group(1)\n",
    "    ips.append(ip)\n",
    "print(ips)"
   ]
  },
  {
   "cell_type": "code",
   "execution_count": 48,
   "metadata": {},
   "outputs": [
    {
     "data": {
      "text/plain": [
       "['193.46.74.166', '46.235.67.202', '193.161.193.64']"
      ]
     },
     "execution_count": 48,
     "metadata": {},
     "output_type": "execute_result"
    }
   ],
   "source": [
    "[ re.search(\"([\\d\\.]+),\\w+,\\w+\", line).group(1) for line  in content \\\n",
    " if re.search(\"[\\d\\.]+,(\\w+),\\w+\", line).group(1) == \"RU\"]"
   ]
  },
  {
   "cell_type": "code",
   "execution_count": 49,
   "metadata": {},
   "outputs": [
    {
     "name": "stdout",
     "output_type": "stream",
     "text": [
      "['194.120.126.123,NL,Netherlands\\n', '94.126.119.173,FR,France\\n', '193.46.74.166,RU,Russian Federation\\n', '46.235.67.202,RU,Russian Federation\\n', '193.161.193.64,RU,Russian Federation']\n"
     ]
    }
   ],
   "source": [
    "print(content)"
   ]
  },
  {
   "cell_type": "code",
   "execution_count": null,
   "metadata": {
    "collapsed": true,
    "jupyter": {
     "outputs_hidden": true
    }
   },
   "outputs": [],
   "source": []
  }
 ],
 "metadata": {
  "kernelspec": {
   "display_name": "Python 3",
   "language": "python",
   "name": "python3"
  },
  "language_info": {
   "codemirror_mode": {
    "name": "ipython",
    "version": 3
   },
   "file_extension": ".py",
   "mimetype": "text/x-python",
   "name": "python",
   "nbconvert_exporter": "python",
   "pygments_lexer": "ipython3",
   "version": "3.7.5"
  }
 },
 "nbformat": 4,
 "nbformat_minor": 4
}
