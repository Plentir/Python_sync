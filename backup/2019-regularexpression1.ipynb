{
 "cells": [
  {
   "cell_type": "code",
   "execution_count": 2,
   "metadata": {},
   "outputs": [],
   "source": [
    "import re"
   ]
  },
  {
   "cell_type": "code",
   "execution_count": 20,
   "metadata": {},
   "outputs": [],
   "source": [
    "data = \"2019-12-02:11:10:34\"\n",
    "reg = re.search(\"\\d+-\\d+-\\d+:\\d+:\\d+:\\d+\", data)"
   ]
  },
  {
   "cell_type": "code",
   "execution_count": 21,
   "metadata": {},
   "outputs": [
    {
     "data": {
      "text/plain": [
       "'2019-12-02:11:10:34'"
      ]
     },
     "execution_count": 21,
     "metadata": {},
     "output_type": "execute_result"
    }
   ],
   "source": [
    "reg.group()"
   ]
  },
  {
   "cell_type": "code",
   "execution_count": 22,
   "metadata": {},
   "outputs": [],
   "source": [
    "data = \"2019-12-02:11:10:34\"\n",
    "reg = re.search(\"(\\d+)-(\\d+)-(\\d+):(\\d+):(\\d+):(\\d+)\", data)"
   ]
  },
  {
   "cell_type": "code",
   "execution_count": 23,
   "metadata": {},
   "outputs": [
    {
     "data": {
      "text/plain": [
       "'2019-12-02:11:10:34'"
      ]
     },
     "execution_count": 23,
     "metadata": {},
     "output_type": "execute_result"
    }
   ],
   "source": [
    "reg.group()"
   ]
  },
  {
   "cell_type": "code",
   "execution_count": 24,
   "metadata": {},
   "outputs": [
    {
     "name": "stdout",
     "output_type": "stream",
     "text": [
      "2019\n",
      "12\n",
      "02\n",
      "11\n",
      "10\n",
      "34\n"
     ]
    }
   ],
   "source": [
    "print(reg.group(1))\n",
    "print(reg.group(2))\n",
    "print(reg.group(3))\n",
    "print(reg.group(4))\n",
    "print(reg.group(5))\n",
    "print(reg.group(6))"
   ]
  },
  {
   "cell_type": "code",
   "execution_count": 4,
   "metadata": {},
   "outputs": [],
   "source": [
    "data= \"name:hong kil dong email:hong.ssu.ac.kr\"\n",
    "reg = re.search(\"name:[\\w\\s]+email:[\\w\\.]+\", data)"
   ]
  },
  {
   "cell_type": "code",
   "execution_count": 26,
   "metadata": {},
   "outputs": [
    {
     "data": {
      "text/plain": [
       "'name:hong kil dong email:hong.ssu.ac.kr'"
      ]
     },
     "execution_count": 26,
     "metadata": {},
     "output_type": "execute_result"
    }
   ],
   "source": [
    "reg.group()"
   ]
  },
  {
   "cell_type": "code",
   "execution_count": 7,
   "metadata": {},
   "outputs": [],
   "source": [
    "reg = re.search(\"name:([\\w\\s]+)email:([\\w\\.]+)\", data)"
   ]
  },
  {
   "cell_type": "code",
   "execution_count": 5,
   "metadata": {},
   "outputs": [],
   "source": [
    "reg = re.search(\"name:((\\w\\s)+)email:([\\w\\.]+)\", data)"
   ]
  },
  {
   "cell_type": "code",
   "execution_count": 8,
   "metadata": {},
   "outputs": [
    {
     "name": "stdout",
     "output_type": "stream",
     "text": [
      "hong kil dong \n",
      "hong.ssu.ac.kr\n"
     ]
    }
   ],
   "source": [
    "print(reg.group(1))\n",
    "print(reg.group(2))"
   ]
  },
  {
   "cell_type": "code",
   "execution_count": 9,
   "metadata": {},
   "outputs": [
    {
     "name": "stdout",
     "output_type": "stream",
     "text": [
      "194.120.126.123,NL,Netherlands\n",
      "94.126.119.173,FR,France\n",
      "193.46.74.166,RU,Russian Federation\n",
      "46.235.67.202,RU,Russian Federation\n",
      "193.161.193.64,RU,Russian Federation\n"
     ]
    }
   ],
   "source": [
    "file = open(\"ip.txt\")\n",
    "data = file.read()\n",
    "print(data)"
   ]
  },
  {
   "cell_type": "code",
   "execution_count": 10,
   "metadata": {},
   "outputs": [
    {
     "name": "stdout",
     "output_type": "stream",
     "text": [
      "194.120.126.123,NL,Netherlands\n"
     ]
    }
   ],
   "source": [
    "reg = re.search(\"[\\d\\.]+,\\w+,\\w+\", \"194.120.126.123,NL,Netherlands\")\n",
    "print(reg.group())"
   ]
  },
  {
   "cell_type": "code",
   "execution_count": 11,
   "metadata": {},
   "outputs": [
    {
     "name": "stdout",
     "output_type": "stream",
     "text": [
      "['194.120.126.123,NL,Netherlands\\n', '94.126.119.173,FR,France\\n', '193.46.74.166,RU,Russian Federation\\n', '46.235.67.202,RU,Russian Federation\\n', '193.161.193.64,RU,Russian Federation']\n"
     ]
    }
   ],
   "source": [
    "with open(\"ip.txt\") as f:\n",
    "    content = f.readlines()\n",
    "    print(content)"
   ]
  },
  {
   "cell_type": "code",
   "execution_count": 15,
   "metadata": {},
   "outputs": [
    {
     "data": {
      "text/plain": [
       "['194.120.126.123',\n",
       " '94.126.119.173',\n",
       " '193.46.74.166',\n",
       " '46.235.67.202',\n",
       " '193.161.193.64']"
      ]
     },
     "execution_count": 15,
     "metadata": {},
     "output_type": "execute_result"
    }
   ],
   "source": [
    "[ re.search(\"([\\d\\.]+),\\w+,\\w+\", line).group(1) for line  in content]"
   ]
  },
  {
   "cell_type": "code",
   "execution_count": 14,
   "metadata": {},
   "outputs": [
    {
     "name": "stdout",
     "output_type": "stream",
     "text": [
      "['194.120.126.123', '94.126.119.173', '193.46.74.166', '46.235.67.202', '193.161.193.64']\n"
     ]
    }
   ],
   "source": [
    "ip = []\n",
    "\n",
    "for l in content:\n",
    "    ip.append(re.search(\"([\\d\\.]+),\\w+,\\w+\", l).group(1))\n",
    "    \n",
    "print(ip)"
   ]
  },
  {
   "cell_type": "code",
   "execution_count": 17,
   "metadata": {},
   "outputs": [
    {
     "data": {
      "text/plain": [
       "['193.46.74.166', '46.235.67.202', '193.161.193.64']"
      ]
     },
     "execution_count": 17,
     "metadata": {},
     "output_type": "execute_result"
    }
   ],
   "source": [
    "[ re.search(\"([\\d\\.]+),\\w+,\\w+\", line).group(1) for line  in content \\\n",
    "    if re.search(\"([\\d\\.]+),(\\w+),\\w+\", line).group(2) == \"RU\" ]\n",
    "#group 이용한 필터링"
   ]
  },
  {
   "cell_type": "markdown",
   "metadata": {},
   "source": [
    "Parsing the Log record 부분 내용은 시험 안 나옴\n",
    "- 피피티에 파트 4개로 나눠진 것 중에 파트 1까지만 시험.\n"
   ]
  },
  {
   "cell_type": "markdown",
   "metadata": {},
   "source": [
    "join > sentiment anal. > Rating 순으로 출력 각각의 과정 시험에 나옴  \n",
    "\n",
    "평점이 낮은 걸 분석:  \n",
    "    explode 사용법  \n",
    "    n-gram 사용법  \n",
    "    sentences 사용법  \n",
    "    Hive query 작성  \n",
    "\n",
    "Spark:  \n",
    "    gloom 사용법  \n",
    "    collect 사용법  \n",
    "    partion 개수 알아내는 법  \n",
    "    paralellize 사용법  \n",
    "    map - flatmap 차이점 및 사용법  \n",
    "    filter 사용법  \n",
    "    >> groupByKey, reduceByKey, Word Count => 데이터를 보고 처리하는 방식 & 코드를 보고 결과를 예상 모두 중요.  \n",
    "    >> Word Count(그룹바이키 & 리듀스바이키 방법 모두 사용해보기)\n",
    "    \n",
    "정규표현식"
   ]
  },
  {
   "cell_type": "code",
   "execution_count": null,
   "metadata": {},
   "outputs": [],
   "source": []
  }
 ],
 "metadata": {
  "kernelspec": {
   "display_name": "Python 3",
   "language": "python",
   "name": "python3"
  },
  "language_info": {
   "codemirror_mode": {
    "name": "ipython",
    "version": 3
   },
   "file_extension": ".py",
   "mimetype": "text/x-python",
   "name": "python",
   "nbconvert_exporter": "python",
   "pygments_lexer": "ipython3",
   "version": "3.7.5"
  }
 },
 "nbformat": 4,
 "nbformat_minor": 4
}
